{
 "cells": [
  {
   "cell_type": "markdown",
   "metadata": {
    "id": "RdV3-n-eluf3"
   },
   "source": [
    "# Simple Fixed Income Market\n",
    "\n",
    "by Thomas Krabichler\n",
    "\n",
    "## Packages"
   ]
  },
  {
   "cell_type": "code",
   "execution_count": 1,
   "metadata": {
    "id": "reLMEpi8luf8"
   },
   "outputs": [],
   "source": [
    "import matplotlib.pyplot as plt\n",
    "import numpy as np\n",
    "import pandas as pd"
   ]
  },
  {
   "cell_type": "code",
   "execution_count": 2,
   "metadata": {},
   "outputs": [],
   "source": [
    "images_dir=''"
   ]
  },
  {
   "cell_type": "markdown",
   "metadata": {
    "id": "P8brJlbHluf9"
   },
   "source": [
    "## Model Parameters"
   ]
  },
  {
   "cell_type": "code",
   "execution_count": 3,
   "metadata": {
    "id": "QpfIw_uQluf9"
   },
   "outputs": [],
   "source": [
    "# TIME GRID\n",
    "\n",
    "N=12*20\n",
    "time_grid_plain=np.linspace(0,N,N+1)\n",
    "time_grid_dcc=time_grid_plain/12 # year-count-convention\n",
    "\n",
    "# BALANCE SHEET PARAMETERS\n",
    "\n",
    "# assets\n",
    "A0=100\n",
    "# liabilities (constant deposits)\n",
    "L0=50\n",
    "\n",
    "# control the total swap volume\n",
    "penalty=0.1"
   ]
  },
  {
   "cell_type": "markdown",
   "metadata": {
    "id": "wxaUh_snluf-"
   },
   "source": [
    "## Objective"
   ]
  },
  {
   "cell_type": "code",
   "execution_count": 4,
   "metadata": {
    "id": "royDG-7dluf-"
   },
   "outputs": [],
   "source": [
    "# OPTIMISATION PARAMETERS\n",
    "\n",
    "target_month=120\n",
    "\n",
    "# loss function\n",
    "target_equity=70\n",
    "\n",
    "# size of training and validation set\n",
    "nScenarios=10**3\n",
    "nValidation=10**3"
   ]
  },
  {
   "cell_type": "markdown",
   "metadata": {
    "id": "nnP98xqqluf_"
   },
   "source": [
    "## Term Structure Model\n",
    "\n",
    "In this section, we rely on historical ECB yield curve data. The mathematical framework of the Svensson parameterisation and the principal component analysis can be found in the Sections 3.3.3 - 3.4 of the textbook «Term Structure Models» by Damir Filipovic. Please be aware of Proposition 9.5 in the same book."
   ]
  },
  {
   "cell_type": "code",
   "execution_count": 5,
   "metadata": {
    "id": "hVCzziwTluf_"
   },
   "outputs": [],
   "source": [
    "# YIELD CURVE PARAMETERS\n",
    "\n",
    "index_yc=2135 # 31-Dec-2012\n",
    "\n",
    "# YIELD CURVE DYNAMICS\n",
    "\n",
    "# data import\n",
    "path=''\n",
    "ECB=pd.read_csv(images_dir+'201231_ECB.csv')\n",
    "\n",
    "# zero-coupon bond prices for maturity T in years and Svensson parameter z\n",
    "def ZCB_prices(T,z):\n",
    "    return np.exp(-1/100*(z[0]*T-(z[1]/z[4]+z[2]/z[4]**2)*(np.exp(-z[4]*T)-1)-\\\n",
    "        z[2]/z[4]*T*np.exp(-z[4]*T)-z[3]/z[5]*T*np.exp(-z[5]*T)-z[3]/z[5]**2*\\\n",
    "        (np.exp(-z[5]*T)-1)))\n",
    "\n",
    "# historical discount factors for a time grid\n",
    "vec_ZCB_prices=np.vectorize(ZCB_prices,excluded=[1])\n",
    "\n",
    "# yields for historical day i\n",
    "def hist_yc(i,grid=time_grid_dcc[1:],rating='AAA'):\n",
    "    shift=0 if rating=='AAA' else 6\n",
    "    z=[ECB.loc[i,:][1+shift],ECB.loc[i,:][2+shift],ECB.loc[i,:][3+shift]/\\\n",
    "        ECB.loc[i,:][5+shift],ECB.loc[i,:][4+shift]/ECB.loc[i,:][6+shift],1/\\\n",
    "        ECB.loc[i,:][5+shift],1/ECB.loc[i,:][6+shift]]\n",
    "    return np.divide(-np.log(vec_ZCB_prices(grid,z)),grid)\n",
    "\n",
    "# collection of historical yields\n",
    "def vec_hist_yc(i,grid=time_grid_dcc[1:],rating='AAA'):\n",
    "    output=hist_yc(i[0],grid,rating)\n",
    "    for j in i[1:]:\n",
    "        output=np.vstack((output,hist_yc(j,grid,rating)))\n",
    "    return output\n",
    "\n",
    "# transform yields into discount factors\n",
    "def discounting(yields,terms):\n",
    "    return np.exp(-yields*terms)\n",
    "\n",
    "# PCA\n",
    "hist_increments=vec_hist_yc(range(1,index_yc))-vec_hist_yc(range(0,index_yc-1))\n",
    "PCA_mu=np.mean(hist_increments,axis=0)\n",
    "PCA_Q=np.cov(hist_increments,rowvar=False)\n",
    "PCA_lambda,PCA_Lambda=np.linalg.eig(PCA_Q)\n",
    "PCA_lambda,PCA_Lambda=np.real(PCA_lambda),np.real(PCA_Lambda)\n",
    "#print(np.cumsum(PCA_lambda)[:10]/np.sum(PCA_lambda))\n",
    "\n",
    "# generate a new yield curve increment\n",
    "def yc_scn_gen(n=3,PCA_mu=PCA_mu,PCA_Lambda=PCA_Lambda,PCA_lambda=PCA_lambda):\n",
    "    return 22*PCA_mu+np.matmul(PCA_Lambda[:,:n],np.random.multivariate_normal(\\\n",
    "        np.zeros(n),np.diag(22*PCA_lambda[:n])).reshape(n,1)).flatten()\n",
    "\n",
    "# YIELD CURVE OBJECTS\n",
    "\n",
    "class yc:\n",
    "    def __init__(self,yields):\n",
    "        self.yields=yields\n",
    "        self.dfs=discounting(yields,time_grid_dcc[1:])\n",
    "    \n",
    "    def cpn(self,tenor,maturity):\n",
    "        cpn_date = np.arange(tenor,maturity+tenor,tenor)  \n",
    "        cpn_date_df = Y.dfs[cpn_date-1]\n",
    "        return 12 / tenor * (1-Y.dfs[maturity-1]) / np.sum(cpn_date_df)\n",
    "    \n",
    "    def pv(self,cash_flows):\n",
    "        return np.dot(self.dfs,cash_flows)\n",
    "    \n",
    "    def update(self,new_yields):\n",
    "        self.yields=new_yields\n",
    "        self.dfs=discounting(new_yields,time_grid_dcc[1:])"
   ]
  },
  {
   "cell_type": "code",
   "execution_count": 6,
   "metadata": {
    "colab": {
     "base_uri": "https://localhost:8080/",
     "height": 295
    },
    "id": "tuvLoUXklugA",
    "outputId": "748e534c-fcae-41ed-a19c-188d26dd6769"
   },
   "outputs": [
    {
     "data": {
      "image/png": "[encoded data removed]",
      "text/plain": [
       "<Figure size 432x288 with 1 Axes>"
      ]
     },
     "metadata": {
      "needs_background": "light"
     },
     "output_type": "display_data"
    }
   ],
   "source": [
    "Y=yc(hist_yc(index_yc))\n",
    "plt.plot(100*Y.yields)\n",
    "plt.title('Yield Curve on '+ECB.iloc[index_yc-1,0])\n",
    "plt.xlabel('term')\n",
    "plt.ylabel('yield in %')\n",
    "plt.show()"
   ]
  },
  {
   "cell_type": "code",
   "execution_count": 7,
   "metadata": {
    "colab": {
     "base_uri": "https://localhost:8080/",
     "height": 295
    },
    "id": "SciuSq8slugA",
    "outputId": "083abd73-84b1-4873-ce5b-515b90e683dc"
   },
   "outputs": [
    {
     "data": {
      "image/png": "[encoded data removed]",
      "text/plain": [
       "<Figure size 432x288 with 1 Axes>"
      ]
     },
     "metadata": {
      "needs_background": "light"
     },
     "output_type": "display_data"
    }
   ],
   "source": [
    "for k in range(int(1e1)):\n",
    "    plt.plot(Y.yields+target_month*PCA_mu+np.matmul(PCA_Lambda[:,:3],\\\n",
    "        np.random.multivariate_normal(np.zeros(3),np.diag(target_month*\\\n",
    "        PCA_lambda[:3])).reshape(3,1)).flatten())\n",
    "plt.title('Yield Curve Scenarios')\n",
    "plt.xlabel('term')\n",
    "plt.ylabel('yield in %')\n",
    "plt.show()"
   ]
  },
  {
   "cell_type": "markdown",
   "metadata": {
    "id": "sTQ-upSWlugB"
   },
   "source": [
    "## Swap Market\n",
    "\n",
    "For simplicity, swap tenors in either legs are $1m$. The fixed leg is chosen such that swaps trade at par at issuance. E.g., see the section «Valuation of Interest Rate Swaps» in the textbook «Options, Futures,\n",
    "and other Derivatives» by John C. Hull for further details."
   ]
  },
  {
   "cell_type": "code",
   "execution_count": 8,
   "metadata": {
    "id": "LjamfRISlugB"
   },
   "outputs": [],
   "source": [
    "swap_series=[24,60,120,240]\n",
    "swap_num = len(swap_series)\n",
    "class swap:\n",
    "    def __init__(self,yc,nominal,maturity): #tenor=1\n",
    "        self.yc = yc\n",
    "        self.nominal = nominal\n",
    "        self.maturity = maturity\n",
    "        self.fixed_leg = np.append(np.repeat(yc.cpn(1,self.maturity),\\\n",
    "            self.maturity),np.repeat(np.zeros(1),N-self.maturity))\n",
    "        self.fixed_volume = np.append(np.repeat(nominal,\\\n",
    "            self.maturity),np.repeat(np.zeros(1),N-self.maturity))\n",
    "#         self.cash_flows = self.fixed_leg * nominal\n",
    "        \n",
    "    def update(self,steps=1):\n",
    "        self.cash_flows=np.append(self.cash_flows[steps:],np.zeros(steps))\n",
    "\n",
    "def swap_indicator(maturity):\n",
    "    return np.reshape(np.append(np.ones(maturity),np.zeros(N-maturity)),(1,N))"
   ]
  },
  {
   "cell_type": "code",
   "execution_count": 9,
   "metadata": {
    "colab": {
     "base_uri": "https://localhost:8080/",
     "height": 35
    },
    "id": "jv0ioEnmlugB",
    "outputId": "e0395307-b977-45f7-848e-9ee164e03c4d"
   },
   "outputs": [
    {
     "data": {
      "text/plain": [
       "0.026313157671808297"
      ]
     },
     "execution_count": 9,
     "metadata": {},
     "output_type": "execute_result"
    }
   ],
   "source": [
    "#Test\n",
    "Y = yc(hist_yc(index_yc))\n",
    "s = swap(Y,0.1,240)\n",
    "Y.yields[-1]"
   ]
  },
  {
   "cell_type": "markdown",
   "metadata": {
    "id": "zQylz4WwlugC"
   },
   "source": [
    "## Benchmark Strategy of a Retail Bank\n",
    "\n",
    "For the time being (and this can be relaxed), the deposits of the clients are kept constant and bear no interest. The asset side earns the monthly short rate. However, one could do better, if one incorporated swaps into the ecosystem. The current benchmark follows the strategy «doing nothing»."
   ]
  },
  {
   "cell_type": "markdown",
   "metadata": {},
   "source": [
    "## Bank do nothing "
   ]
  },
  {
   "cell_type": "code",
   "execution_count": 10,
   "metadata": {
    "id": "8MxQBEEUlugC"
   },
   "outputs": [],
   "source": [
    "def benchmark(nRoutines=nValidation):\n",
    "    np.random.seed(0)\n",
    "    output=np.zeros(nRoutines)\n",
    "    for l in range(nRoutines):\n",
    "        # yield curve\n",
    "        Y = yc(hist_yc(index_yc))\n",
    "        # assets\n",
    "        A = A0\n",
    "        L = L0\n",
    "        for k in range(target_month):\n",
    "            # market updates\n",
    "            A *= np.exp(Y.yields[0]/12)\n",
    "            Y = yc(Y.yields+yc_scn_gen())\n",
    "            E = A - L\n",
    "        output[l] = E\n",
    "    return output"
   ]
  },
  {
   "cell_type": "code",
   "execution_count": 11,
   "metadata": {
    "colab": {
     "base_uri": "https://localhost:8080/",
     "height": 295
    },
    "id": "3FTYHrFWLEp_",
    "outputId": "9675ba0a-c845-4667-b52b-813a5458b7ea"
   },
   "outputs": [],
   "source": [
    "# output_benchmark = benchmark()\n",
    "# plt.hist(output_benchmark,bins=100,density=True,edgecolor='black',alpha=0.7)\n",
    "# plt.title('Empirical Probability Density Function')\n",
    "# plt.xlabel('Equity')\n",
    "# plt.show()"
   ]
  },
  {
   "cell_type": "markdown",
   "metadata": {},
   "source": [
    "## Bank with  swap trade"
   ]
  },
  {
   "cell_type": "code",
   "execution_count": 12,
   "metadata": {},
   "outputs": [],
   "source": [
    "def benchmark_swap(nRoutines=nValidation):\n",
    "    np.random.seed(0)\n",
    "    output=np.zeros([nRoutines,target_month+1])\n",
    "    for l in range(nRoutines):\n",
    "        output[l,0] = A0\n",
    "        # yield curve\n",
    "        Y=yc(hist_yc(index_yc))\n",
    "        # assets\n",
    "        A = A0\n",
    "        L = L0\n",
    "        E = A-L\n",
    "        # initial no swap\n",
    "        fixed_cash_flows = np.zeros(N)\n",
    "        swap_volume = np.zeros(N)\n",
    "        for k in range(target_month):\n",
    "            # Buy swap\n",
    "            A_liq = A * 0.9 - swap_volume[k]\n",
    "            for ith, swap_maturity in enumerate(swap_series):\n",
    "                if target_month - k >= swap_maturity:\n",
    "                    swap_nominal = A_liq * 0.05\n",
    "                    s = swap(Y,1,swap_maturity)\n",
    "                    fixed_cash_flows[k:] += s.fixed_leg[:N-k] * swap_nominal\n",
    "                    swap_volume[k:] += s.fixed_volume[:N-k] * swap_nominal\n",
    "            # Market update\n",
    "            A += (A - swap_volume[k])*(np.exp(Y.yields[0]/12)-1) + fixed_cash_flows[k] \n",
    "            E = A-L\n",
    "            Y = yc(Y.yields+yc_scn_gen())\n",
    "            output[l,k+1] = A\n",
    "        \n",
    "    return output"
   ]
  },
  {
   "cell_type": "code",
   "execution_count": 13,
   "metadata": {},
   "outputs": [],
   "source": [
    "# output_benchmark_swap = benchmark_swap()\n",
    "# helper = output_benchmark_swap[:,-1]-L0\n",
    "# plt.hist(helper,bins=100,density=True,edgecolor='black',alpha=0.7)\n",
    "# plt.title('Empirical Probability Density Function')\n",
    "# plt.xlabel('Equity')\n",
    "# plt.show()"
   ]
  },
  {
   "cell_type": "markdown",
   "metadata": {
    "id": "88hjxgoKJo8E"
   },
   "source": [
    "# Deep Learning"
   ]
  },
  {
   "cell_type": "code",
   "execution_count": 14,
   "metadata": {},
   "outputs": [
    {
     "name": "stdout",
     "output_type": "stream",
     "text": [
      "2.3.0\n"
     ]
    }
   ],
   "source": [
    "import numpy as np \n",
    "import tensorflow as tf\n",
    "import matplotlib.pyplot as plt\n",
    "keras = tf.keras\n",
    "from importlib import reload \n",
    "print(tf.__version__)"
   ]
  },
  {
   "cell_type": "code",
   "execution_count": 16,
   "metadata": {},
   "outputs": [],
   "source": [
    "def build_network(n_output, n_hidden, depth, time_steps):\n",
    "# architecture is the same for all networks\n",
    "    Networks = []\n",
    "    for j in range(time_steps):\n",
    "        inputs = keras.Input(shape=(1))\n",
    "        layer = keras.layers.Dense(n_output, activation = 'sigmoid')\n",
    "        outputs = layer(inputs) * 0.25 \n",
    "        network = keras.Model(inputs = inputs, outputs = outputs)\n",
    "        Networks.append(network)\n",
    "    return Networks\n"
   ]
  },
  {
   "cell_type": "code",
   "execution_count": 17,
   "metadata": {},
   "outputs": [],
   "source": [
    "a = target_month - np.arange(N)\n",
    "b = np.array([swap_series]).T\n",
    "c = (a >= b).T\n",
    "maturity_leq_target = tf.constant(c,dtype = 'float32')"
   ]
  },
  {
   "cell_type": "code",
   "execution_count": 54,
   "metadata": {},
   "outputs": [],
   "source": [
    "Networks = build_network(4,1,1, target_month) \n",
    "def build_graph():\n",
    "    yields_data = keras.Input(shape=(target_month))\n",
    "    swap_rate_data = keras.Input(shape=(target_month,swap_num,N))\n",
    "    swap_volume_data = keras.Input(shape=(target_month,swap_num,N))\n",
    "    batch_size = tf.shape(yields_data)[0]\n",
    "    \n",
    "    A = tf.zeros(batch_size) + A0\n",
    "    L = tf.zeros(batch_size) + L0\n",
    "    fixed_cash_flows = tf.zeros([batch_size,N])\n",
    "    swap_volume = tf.zeros([batch_size,N])\n",
    "    A_list = [None] * (target_month+1)\n",
    "    A_liq_list = []\n",
    "    A_list[0] = A\n",
    "    \n",
    "    for k in range(target_month):\n",
    "        # Before rebalance \n",
    "        A_liq = 0.9 * A_list[k] - swap_volume[:,k]\n",
    "        A_liq_list.append(A_liq)\n",
    "        \n",
    "        strategy = Networks[k](tf.zeros([batch_size,1])) * tf.tile(A_liq[:,None],[1,4]) * maturity_leq_target[k]\n",
    "        \n",
    "        fixed_cash_flows += tf.reduce_sum(swap_rate_data[:,k,:,:] * strategy[:,:,None], axis = 1)\n",
    "        swap_volume += tf.reduce_sum(swap_volume_data[:,k,:,:] * strategy[:,:,None], axis = 1)\n",
    "\n",
    "        # Market update\n",
    "        A_list[k+1] = A_list[k] + (A_list[k] - swap_volume[:,k])*(tf.exp(yields_data[:,k]/12) - 1) + fixed_cash_flows[:,k]\n",
    "    E = A_list[-1] - L    \n",
    "    \n",
    "    \n",
    "    inputs = [yields_data, swap_rate_data, swap_volume_data]\n",
    "    outputs = E\n",
    "    model = keras.Model(inputs = inputs, outputs = outputs)\n",
    "    \n",
    "    mse = tf.keras.losses.MeanSquaredError()\n",
    "    target_E = tf.zeros(batch_size) + target_equity\n",
    "    model.add_loss(mse(E,target_E))\n",
    "    \n",
    "    cons_loss = 0\n",
    "    for A_liq in A_liq_list:\n",
    "        cons_loss += tf.nn.relu(-A_liq)\n",
    "    cons_loss = tf.reduce_mean(cons_loss)\n",
    "    model.add_loss(cons_loss)\n",
    "    model.add_metric(cons_loss, name='restriction_loss')\n",
    "    \n",
    "    return model\n",
    "\n",
    "model = build_graph()\n",
    "# model.summary()"
   ]
  },
  {
   "cell_type": "code",
   "execution_count": 55,
   "metadata": {},
   "outputs": [],
   "source": [
    "def prepare_data(nRoutines = nValidation):\n",
    "    np.random.seed(0)\n",
    "    yields_data = np.zeros([nRoutines,target_month])\n",
    "    swap_rate_data = np.zeros([nRoutines,target_month,len(swap_series),N])\n",
    "    swap_volume_data = np.zeros([nRoutines,target_month,len(swap_series),N])\n",
    "    for l in range(nRoutines):\n",
    "        Y=yc(hist_yc(index_yc))\n",
    "        for k in range(target_month):\n",
    "            yields_data[l,k] = Y.yields[0] \n",
    "            for ith, swap_maturity in enumerate(swap_series):\n",
    "                s = swap(Y,1,swap_maturity)\n",
    "                swap_rate_data[l,k,ith,k:] = s.fixed_leg[:N-k] \n",
    "                swap_volume_data[l,k,ith,k:] = s.fixed_volume[:N-k] \n",
    "            Y=yc(Y.yields+yc_scn_gen())\n",
    "    inputs_X = [yields_data, swap_rate_data, swap_volume_data]\n",
    "    inputs_Y = np.zeros([nRoutines]) + target_equity \n",
    "    return inputs_X, inputs_Y"
   ]
  },
  {
   "cell_type": "code",
   "execution_count": 20,
   "metadata": {},
   "outputs": [],
   "source": [
    "inputs_X, inputs_Y = prepare_data()"
   ]
  },
  {
   "cell_type": "code",
   "execution_count": 56,
   "metadata": {},
   "outputs": [],
   "source": [
    "def zeroloss(y_true, y_predict):\n",
    "            return tf.reduce_sum(y_true*0)\n",
    "optimizer = tf.keras.optimizers.Adam(learning_rate=0.01) # specify the optmizer \n",
    "model.compile(optimizer = optimizer, loss=zeroloss) "
   ]
  },
  {
   "cell_type": "code",
   "execution_count": 57,
   "metadata": {},
   "outputs": [
    {
     "name": "stdout",
     "output_type": "stream",
     "text": [
      "Epoch 1/20\n",
      "32/32 [==============================] - 3s 81ms/step - loss: 1052.5154 - restriction_loss: 0.0000e+00\n",
      "Epoch 2/20\n",
      "32/32 [==============================] - 3s 81ms/step - loss: 664.0115 - restriction_loss: 0.0000e+00\n",
      "Epoch 3/20\n",
      "32/32 [==============================] - 3s 82ms/step - loss: 403.8276 - restriction_loss: 0.0000e+00\n",
      "Epoch 4/20\n",
      "32/32 [==============================] - 3s 85ms/step - loss: 249.1756 - restriction_loss: 0.0000e+00\n",
      "Epoch 5/20\n",
      "32/32 [==============================] - 3s 95ms/step - loss: 164.7676 - restriction_loss: 0.0000e+00\n",
      "Epoch 6/20\n",
      "32/32 [==============================] - 3s 95ms/step - loss: 118.8004 - restriction_loss: 0.0000e+00\n",
      "Epoch 7/20\n",
      "32/32 [==============================] - 3s 95ms/step - loss: 93.5192 - restriction_loss: 0.0000e+00\n",
      "Epoch 8/20\n",
      "32/32 [==============================] - 3s 94ms/step - loss: 79.2908 - restriction_loss: 0.0000e+00\n",
      "Epoch 9/20\n",
      "32/32 [==============================] - 3s 95ms/step - loss: 70.8714 - restriction_loss: 0.0000e+00\n",
      "Epoch 10/20\n",
      "32/32 [==============================] - 3s 94ms/step - loss: 65.7819 - restriction_loss: 0.0000e+00\n",
      "Epoch 11/20\n",
      "32/32 [==============================] - 3s 95ms/step - loss: 62.7113 - restriction_loss: 0.0000e+00\n",
      "Epoch 12/20\n",
      "32/32 [==============================] - 3s 96ms/step - loss: 60.6470 - restriction_loss: 0.0000e+00: 1s - loss: 61.4808 - restriction_\n",
      "Epoch 13/20\n",
      "32/32 [==============================] - 3s 94ms/step - loss: 59.1876 - restriction_loss: 0.0000e+00\n",
      "Epoch 14/20\n",
      "32/32 [==============================] - 3s 95ms/step - loss: 58.1343 - restriction_loss: 0.0000e+00\n",
      "Epoch 15/20\n",
      "32/32 [==============================] - 3s 95ms/step - loss: 57.3657 - restriction_loss: 0.0000e+00\n",
      "Epoch 16/20\n",
      "32/32 [==============================] - 3s 95ms/step - loss: 56.7475 - restriction_loss: 0.0000e+00\n",
      "Epoch 17/20\n",
      "32/32 [==============================] - 3s 95ms/step - loss: 56.2344 - restriction_loss: 0.0000e+00\n",
      "Epoch 18/20\n",
      "32/32 [==============================] - 3s 95ms/step - loss: 55.8183 - restriction_loss: 0.0000e+00\n",
      "Epoch 19/20\n",
      "32/32 [==============================] - 3s 95ms/step - loss: 55.4343 - restriction_loss: 0.0000e+00\n",
      "Epoch 20/20\n",
      "32/32 [==============================] - 3s 94ms/step - loss: 55.1100 - restriction_loss: 0.0000e+00\n"
     ]
    },
    {
     "data": {
      "text/plain": [
       "<tensorflow.python.keras.callbacks.History at 0x1fd116bf700>"
      ]
     },
     "execution_count": 57,
     "metadata": {},
     "output_type": "execute_result"
    }
   ],
   "source": [
    "model.fit(x=inputs_X, y = inputs_Y, epochs = 20, verbose = 1)"
   ]
  },
  {
   "cell_type": "code",
   "execution_count": 58,
   "metadata": {},
   "outputs": [],
   "source": [
    "yields_data, swap_rate_data, swap_volume_data = inputs_X\n",
    "yields_data = yields_data.astype('float32')\n",
    "swap_rate_data = swap_rate_data.astype('float32')\n",
    "swap_volume_data = swap_volume_data.astype('float32')\n",
    "\n",
    "batch_size = tf.shape(yields_data)[0]\n",
    "    \n",
    "A = tf.zeros(batch_size) + A0\n",
    "L = tf.zeros(batch_size) + L0\n",
    "fixed_cash_flows = tf.zeros([batch_size,N])\n",
    "swap_volume = tf.zeros([batch_size,N])\n",
    "A_list = [None] * (target_month+1)\n",
    "A_list[0] = A\n",
    "for k in range(target_month):\n",
    "    # Before rebalance \n",
    "    A_liq = 0.9 * A_list[k] - swap_volume[:,k]\n",
    "    strategy = Networks[k](tf.zeros([batch_size,1])) \n",
    "    strategy *= tf.tile(A_liq[:,None],[1,4])\n",
    "    strategy *= maturity_in_target[k]\n",
    "\n",
    "    fixed_cash_flows += tf.reduce_sum(swap_rate_data[:,k,:,:] * strategy[:,:,None], axis = 1)\n",
    "    swap_volume += tf.reduce_sum(swap_volume_data[:,k,:,:] * strategy[:,:,None], axis = 1)\n",
    "\n",
    "    # Market update\n",
    "    A_list[k+1] = A_list[k] + (A_list[k] - swap_volume[:,k])*(tf.exp(yields_data[:,k]/12) - 1) + fixed_cash_flows[:,k]\n",
    "E = A_list[-1] - L   "
   ]
  },
  {
   "cell_type": "code",
   "execution_count": 59,
   "metadata": {},
   "outputs": [
    {
     "data": {
      "image/png": "[encoded data removed]",
      "text/plain": [
       "<Figure size 432x288 with 1 Axes>"
      ]
     },
     "metadata": {
      "needs_background": "light"
     },
     "output_type": "display_data"
    }
   ],
   "source": [
    "plt.hist(E.numpy(),bins=100,density=True,edgecolor='black',alpha=0.7)\n",
    "plt.title('Empirical Probability Density Function')\n",
    "plt.xlabel('Equity')\n",
    "plt.show()"
   ]
  },
  {
   "cell_type": "code",
   "execution_count": 60,
   "metadata": {},
   "outputs": [
    {
     "data": {
      "text/plain": [
       "<tf.Tensor: shape=(), dtype=float32, numpy=0.9419937>"
      ]
     },
     "execution_count": 60,
     "metadata": {},
     "output_type": "execute_result"
    }
   ],
   "source": [
    "tf.reduce_min(A_flow[:,1:]*0.9 - swap_volume[:,:120])"
   ]
  }
 ],
 "metadata": {
  "colab": {
   "collapsed_sections": [],
   "name": "210422_Simple_ESG.ipynb",
   "provenance": []
  },
  "kernelspec": {
   "display_name": "Python [conda env:deephedge] *",
   "language": "python",
   "name": "conda-env-deephedge-py"
  },
  "language_info": {
   "codemirror_mode": {
    "name": "ipython",
    "version": 3
   },
   "file_extension": ".py",
   "mimetype": "text/x-python",
   "name": "python",
   "nbconvert_exporter": "python",
   "pygments_lexer": "ipython3",
   "version": "3.8.8"
  }
 },
 "nbformat": 4,
 "nbformat_minor": 1
}
