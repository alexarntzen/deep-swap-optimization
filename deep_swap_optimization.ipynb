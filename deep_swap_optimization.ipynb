{
 "cells": [
  {
   "cell_type": "markdown",
   "metadata": {},
   "source": [
    "## Interest rate simulation code"
   ]
  },
  {
   "cell_type": "code",
   "execution_count": 1,
   "metadata": {
    "pycharm": {
     "name": "#%%\n"
    }
   },
   "outputs": [],
   "source": [
    "import tensorflow as tf\n",
    "from keras.models import Sequential\n",
    "from keras.layers import Input, Dense, Conv2D, Concatenate, Dropout, Subtract, \\\n",
    "                        Flatten, MaxPooling2D, Multiply, Lambda, Add, Dot, RNN, Softmax, Dot\n",
    "from keras.activations import relu\n",
    "from keras.backend import constant\n",
    "from keras import optimizers\n",
    "from keras.engine.topology import Layer\n",
    "from keras.models import Model\n",
    "from keras.layers import Input\n",
    "from keras import initializers\n",
    "from keras.constraints import max_norm\n",
    "import keras.backend as K\n",
    "import numpy as np\n",
    "import matplotlib.pyplot as plt\n",
    "import pandas as pd\n",
    "import copy\n"
   ]
  },
  {
   "cell_type": "code",
   "execution_count": 2,
   "metadata": {
    "pycharm": {
     "name": "#%%\n"
    }
   },
   "outputs": [],
   "source": [
    "# TIME GRID\n",
    "\n",
    "N=12*20\n",
    "time_grid_plain=np.linspace(0,N,N+1)\n",
    "time_grid_dcc=time_grid_plain/12 # day-count-convention\n"
   ]
  },
  {
   "cell_type": "code",
   "execution_count": 3,
   "metadata": {},
   "outputs": [],
   "source": [
    "# YIELD CURVE PARAMETERS\n",
    "\n",
    "index_yc=2135 # 31-Dec-2012\n",
    "\n",
    "# YIELD CURVE DYNAMICS\n",
    "\n",
    "# data import\n",
    "path=''\n",
    "ECB=pd.read_csv(path+'201231_ECB.csv')\n",
    "\n",
    "# zero-coupon bond prices for maturity T in years and Svensson parameter z\n",
    "def ZCB_prices(T,z):\n",
    "    return np.exp(-1/100*(z[0]*T-(z[1]/z[4]+z[2]/z[4]**2)*(np.exp(-z[4]*T)-1)-\\\n",
    "        z[2]/z[4]*T*np.exp(-z[4]*T)-z[3]/z[5]*T*np.exp(-z[5]*T)-z[3]/z[5]**2*\\\n",
    "        (np.exp(-z[5]*T)-1)))\n",
    "\n",
    "# historical discount factors for a time grid\n",
    "vec_ZCB_prices=np.vectorize(ZCB_prices,excluded=[1])\n",
    "\n",
    "# yields for historical day i\n",
    "def hist_yc(i,grid=time_grid_dcc[1:],rating='AAA'):\n",
    "    shift=0 if rating=='AAA' else 6\n",
    "    z=[ECB.loc[i,:][1+shift],ECB.loc[i,:][2+shift],ECB.loc[i,:][3+shift]/\\\n",
    "        ECB.loc[i,:][5+shift],ECB.loc[i,:][4+shift]/ECB.loc[i,:][6+shift],1/\\\n",
    "        ECB.loc[i,:][5+shift],1/ECB.loc[i,:][6+shift]]\n",
    "    return np.divide(-np.log(vec_ZCB_prices(grid,z)),grid)\n",
    "\n",
    "# collection of historical yields\n",
    "def vec_hist_yc(i,grid=time_grid_dcc[1:],rating='AAA'):\n",
    "    output=hist_yc(i[0],grid,rating)\n",
    "    for j in i[1:]:\n",
    "        output=np.vstack((output,hist_yc(j,grid,rating)))\n",
    "    return output\n",
    "\n",
    "# transform yields into discount factors\n",
    "def discounting(yields,terms):\n",
    "    return np.exp(-yields*terms)\n",
    "\n",
    "# PCA\n",
    "hist_increments=vec_hist_yc(range(1,index_yc))-vec_hist_yc(range(0,index_yc-1))\n",
    "PCA_mu=np.mean(hist_increments,axis=0)\n",
    "PCA_Q=np.cov(hist_increments,rowvar=False)\n",
    "PCA_lambda,PCA_Lambda=np.linalg.eig(PCA_Q)\n",
    "PCA_lambda,PCA_Lambda=np.real(PCA_lambda),np.real(PCA_Lambda)\n",
    "#print(np.cumsum(PCA_lambda)[:10]/np.sum(PCA_lambda))\n",
    "\n",
    "# generate a new yield curve increment\n",
    "def yc_scn_gen(n=3,PCA_mu=PCA_mu,PCA_Lambda=PCA_Lambda,PCA_lambda=PCA_lambda):\n",
    "    return 22*PCA_mu+np.matmul(PCA_Lambda[:,:n],np.random.multivariate_normal(\\\n",
    "        np.zeros(n),np.diag(22*PCA_lambda[:n])).reshape(n,1)).flatten()\n",
    "\n",
    "# YIELD CURVE OBJECTS\n",
    "\n",
    "class yc:\n",
    "    def __init__(self,yields):\n",
    "        self.yields=yields\n",
    "        self.dfs=discounting(yields,time_grid_dcc[1:])\n",
    "    \n",
    "    def cpn(self,tenor,maturity):\n",
    "        return 12/tenor*(1-self.dfs[maturity-1])/np.sum(self.dfs[np.arange(\\\n",
    "            tenor,maturity+tenor,tenor)-1])\n",
    "    \n",
    "    def pv(self,cash_flows):\n",
    "        return np.dot(self.dfs,cash_flows)\n",
    "    \n",
    "    def update(self,new_yields):\n",
    "        self.yields=new_yields\n",
    "        self.dfs=discounting(new_yields,time_grid_dcc[1:])"
   ]
  },
  {
   "cell_type": "markdown",
   "metadata": {},
   "source": [
    "## Swaps"
   ]
  },
  {
   "cell_type": "code",
   "execution_count": 4,
   "metadata": {},
   "outputs": [],
   "source": [
    "\n",
    "# we concern only vanilla swaps\n",
    "#  One party pays floating interest, LIBOR \n",
    "#  Other party pays the fixed rate, does not worry about movements \n",
    "class swap:\n",
    "    # exchange floating over tenor\n",
    "    # one party pays floating \n",
    "    # other pays fixed rate every month \n",
    "    def __init__(self,yc,nominal,maturity,tenor=1): #tenor=1\n",
    "        self.yc=yc\n",
    "        self.nominal=nominal #how much money is involved\n",
    "        self.maturity=maturity # maybe need to be a\n",
    "        self.montly_cost = yc.cpn(1,self.maturity)\n",
    "        self.fixed_leg=np.append(np.repeat(self.montly_cost,\n",
    "            self.maturity),np.repeat(np.zeros(1),N-self.maturity))/12 #*tenor\n",
    "        # \\the fixed cost\n",
    "        # cash \n",
    "\n",
    "    def update(self,steps=1):\n",
    "        self.maturity-=steps\n",
    "        # maybe not use, how is it adjusted over roll forward.\n",
    "        self.fixed_leg=np.append(self.fixed_leg[steps:],np.zeros(steps))\n",
    "\n",
    "\n",
    "def swap_indicator(maturity):\n",
    "    # show when do payments due in more general swaps.\n",
    "    return np.reshape(np.append(np.ones(maturity),np.zeros(N-maturity)),(1,N))\n",
    "\n",
    "#Our bank will decide to sell og get a swap. \n",
    "# Task of deep hedging: Find a swap float to stable"
   ]
  },
  {
   "cell_type": "markdown",
   "metadata": {},
   "source": [
    "## Objective"
   ]
  },
  {
   "cell_type": "code",
   "execution_count": 5,
   "metadata": {
    "pycharm": {
     "name": "#%%\n"
    }
   },
   "outputs": [],
   "source": [
    "# Possible investements\n",
    "swap_series=[24,60,120,240]\n",
    "\n",
    "# BALANCE SHEET PARAMETERS\n",
    "# assets\n",
    "A0=100\n",
    "# liabilities (constant deposits)\n",
    "L0=50\n",
    "# Fine to be paied if the total swap volume so that it is less than assets*spending_limit\n",
    "penalty=0.2 # of the assets over the spending limit\n",
    "spending_limit = 0.8\n",
    "\n",
    "# OPTIMISATION PARAMETERS\n",
    "target_month=120\n",
    "# loss function\n",
    "target_equity=70\n",
    "# size of training and validation set\n",
    "nScenarios=10**3\n",
    "nValidation=10**3\n",
    "# The four maturities we can go into at any time\n"
   ]
  },
  {
   "cell_type": "markdown",
   "metadata": {},
   "source": [
    "## Do nothing bank (benchmark):"
   ]
  },
  {
   "cell_type": "code",
   "execution_count": 6,
   "metadata": {},
   "outputs": [],
   "source": [
    "# Over the next 10 year i do nothing \n",
    "# Assets will be componded with the montly rate \n",
    "# Liabilities will be constant \n",
    "\n",
    "def benchmark(nRoutines=nValidation):\n",
    "    output=np.zeros(nRoutines)\n",
    "    for l in range(nRoutines):\n",
    "        # yield curve\n",
    "        Y=yc(hist_yc(index_yc))\n",
    "        # assets\n",
    "        A_pre=A0\n",
    "        A_post=A0\n",
    "        L=L0\n",
    "        E=(A0-L0)\n",
    "        for k in range(target_month):\n",
    "            # market updates\n",
    "            A_pre*=np.exp(Y.yields[0]/12)\n",
    "            Y=yc(Y.yields+yc_scn_gen())\n",
    "            A_post=A_pre\n",
    "            L=L\n",
    "            E=A_post-L\n",
    "        output[l]=E\n",
    "    return output"
   ]
  },
  {
   "cell_type": "code",
   "execution_count": 7,
   "metadata": {},
   "outputs": [
    {
     "output_type": "execute_result",
     "data": {
      "text/plain": [
       "(5.8862566218564893e-05, 5.886256621861179e-05)"
      ]
     },
     "metadata": {},
     "execution_count": 7
    }
   ],
   "source": [
    "#test\n",
    "Y=yc(hist_yc(index_yc))\n",
    "np.exp(Y.yields[0]/12)-1, Y.cpn(1,1)/12"
   ]
  },
  {
   "cell_type": "markdown",
   "metadata": {},
   "source": [
    "## Deep portifolio optimization for the swap market "
   ]
  },
  {
   "cell_type": "code",
   "execution_count": 8,
   "metadata": {},
   "outputs": [],
   "source": [
    "# netwok parameters\n",
    "network_params = {\"n_hidden_layers\": 3, \"neurons\": 30}\n"
   ]
  },
  {
   "cell_type": "code",
   "execution_count": 9,
   "metadata": {},
   "outputs": [],
   "source": [
    "# Generate training and testing data \n",
    "def get_swap_rate_array(sets,months,swap_series):\n",
    "    swap_rate_array = np.zeros((sets, months, len(swap_series)))\n",
    "    for k in range(sets):\n",
    "        current_yealds = hist_yc(index_yc)\n",
    "        for m in range(months):\n",
    "            for s, swap_length in enumerate(swap_series):\n",
    "                # Not completly sure if this is calculated correctly\n",
    "                swap_rate_array[k][m][s] = yc(current_yealds).cpn(1, swap_length) / 12\n",
    "            current_yealds += yc_scn_gen()\n",
    "    return swap_rate_array\n",
    "\n",
    "\n",
    "def get_current_rate_array(sets,months):\n",
    "    current_rate_array = np.zeros((sets, months, 1))\n",
    "    for k in range(sets):\n",
    "        current_yealds = hist_yc(index_yc)\n",
    "        for m in range(months):\n",
    "            # Not completly sure if this is calculated correctly\n",
    "            current_rate_array[k][m] = current_yealds[0]\n",
    "            current_yealds += yc_scn_gen()\n",
    "    return current_rate_array\n"
   ]
  },
  {
   "cell_type": "code",
   "execution_count": 10,
   "metadata": {},
   "outputs": [],
   "source": [
    "# Generating this test data takes some time \n",
    "\n",
    "# training data\n",
    "inputs = [\n",
    "    get_swap_rate_array(nScenarios,target_month,swap_series),\n",
    "    get_current_rate_array(nScenarios,target_month),\n",
    "]\n",
    "xtrain = inputs \n",
    "ytrain = [np.zeros((nScenarios, 1)), np.zeros((nScenarios, 1))]\n",
    "\n",
    "# testing data\n",
    "inputs_test = [\n",
    "    get_swap_rate_array(nScenarios,target_month,swap_series),\n",
    "    get_current_rate_array(nScenarios,target_month),\n",
    "]\n",
    "xtest = inputs_test \n",
    "ytest= [np.zeros((nValidation, 1)), np.zeros((nValidation, 1))]\n"
   ]
  },
  {
   "source": [
    "Here we define the decision network that will act in each cell of the RNN. Right now it makes decitions only based on the amout of assets"
   ],
   "cell_type": "markdown",
   "metadata": {}
  },
  {
   "cell_type": "code",
   "execution_count": 11,
   "metadata": {},
   "outputs": [],
   "source": [
    "class SwapDecisionCell(Layer):\n",
    "    def __init__(self, swap_series, n_hidden_layers, neurons, months, **kwargs):\n",
    "        self.months = months\n",
    "        self.max_swap = max(swap_series)\n",
    "        self.swap_series = swap_series\n",
    "\n",
    "        # Number of output dimensions m\n",
    "        # strategy are all the possible strategies exept 1 moth wich is the rest\n",
    "        self.output_dimension = len(swap_series)\n",
    "        # Number of neurons per layer\n",
    "        self.neurons = neurons\n",
    "        # Number of hidden layers\n",
    "        self.n_hidden_layers = n_hidden_layers\n",
    "        # Activation function\n",
    "        self.activation = \"tanh\"  # might shange this later\n",
    "\n",
    "        self.input_layer = Dense(\n",
    "            self.neurons,\n",
    "            activation=self.activation,\n",
    "            trainable=True,\n",
    "            kernel_initializer=initializers.RandomNormal(\n",
    "                0, 1\n",
    "            ),  # kernel_initializer='random_normal',\n",
    "            bias_initializer=\"random_normal\",\n",
    "            name=\"input\",\n",
    "        )\n",
    "        self.hidden_layers = [\n",
    "            Dense(\n",
    "                neurons,\n",
    "                activation=self.activation,\n",
    "                trainable=True,\n",
    "                kernel_initializer=initializers.RandomNormal(\n",
    "                    0, 1\n",
    "                ),  # kernel_initializer='random_normal',\n",
    "                bias_initializer=\"random_normal\",\n",
    "                name=f\"hidden_{i}\",\n",
    "            )\n",
    "            for i in range(n_hidden_layers)\n",
    "        ]\n",
    "\n",
    "        self.output_layer = Dense(\n",
    "            self.output_dimension,\n",
    "            activation=self.activation,\n",
    "            trainable=True,\n",
    "            kernel_initializer=initializers.RandomNormal(\n",
    "                0, 0.1\n",
    "            ),  # kernel_initializer='random_normal',\n",
    "            bias_initializer=\"random_normal\",\n",
    "            name=\"input\",\n",
    "        )\n",
    "        # states are: equity, month, fixed_cash_flows and swap_volume\n",
    "        self.state_size = [\n",
    "            1,\n",
    "            self.max_swap,  # + max(swap_series) is a hack so that we allways can buy the swaps we want\n",
    "            self.max_swap,\n",
    "        ]\n",
    "\n",
    "        # For now equity and swap wolume for each timestep\n",
    "        self.output_size = [1, 1]\n",
    "        super(SwapDecisionCell, self).__init__(**kwargs)\n",
    "\n",
    "    def get_initial_state(self, inputs=None, batch_size=None, dtype=None):\n",
    "        # TODO: This is not a good way to initialize the state but other ways do not seem to work \n",
    "        return (\n",
    "            # Warning this is a global variable :(\n",
    "            A0 * tf.ones([batch_size, 1]),\n",
    "            tf.zeros([batch_size, self.max_swap]),\n",
    "            tf.zeros([batch_size, self.max_swap]),\n",
    "        )\n",
    "\n",
    "    def call(self, inputs, states):\n",
    "        ############\n",
    "        #  Decicion step: time = t\n",
    "        ############\n",
    "        assets, fixed_cash_flows, swap_volume = states\n",
    "        # there is probably some better word than current rate\n",
    "        # TODO: incorporate prices here? with Concatenate\n",
    "        swap_rates, current_rate = inputs\n",
    "\n",
    "        # compute the strategy\n",
    "        # strategy is a list of nominals for each swap. Zero nominal meeans no swap  \n",
    "        strategy = self.input_layer(assets)\n",
    "        for layer in self.hidden_layers:\n",
    "            strategy = layer(strategy)\n",
    "        strategy = self.output_layer(strategy)\n",
    "\n",
    "        # Update with our strategy\n",
    "        for s, swap_length in enumerate(swap_series):\n",
    "            \n",
    "            # make a tensor with the strategy for swap s, that is as long as the swap period\n",
    "            swaps = tf.tile(strategy[:, s : s + 1], [1, swap_length])\n",
    "            \n",
    "            # filler \n",
    "            zeros = (\n",
    "                tf.tile(strategy[:, s : s + 1], [1, self.max_swap - swap_length]) * 0\n",
    "            )\n",
    "\n",
    "            # fill the rest of the tensor with zeros \n",
    "            new_swap_volume_s = tf.concat([swaps, zeros], axis=1)\n",
    "\n",
    "            swap_volume += new_swap_volume_s\n",
    "            fixed_cash_flows += new_swap_volume_s * swap_rates[:, s : s + 1]\n",
    "\n",
    "        #############\n",
    "        #  Result step:  time = t + 1\n",
    "        #############\n",
    "\n",
    "        # the money in the bank gets interst and has to pay interest on the swaps\n",
    "        assets += (assets - swap_volume[:, 0:1]) * (tf.math.exp(current_rate / 12) - 1)\n",
    "\n",
    "        # the bank gets cash from the swaps\n",
    "        assets += fixed_cash_flows[:, 0:1]\n",
    "        output = (assets, swap_volume[:,0:1])\n",
    "\n",
    "        # update the swap to reflect time has passed\n",
    "        swap_volume = tf.concat([swap_volume[:, 1:], 0 * swap_volume[:, 0:1]], 1)\n",
    "        fixed_cash_flows = tf.concat(\n",
    "            [fixed_cash_flows[:, 1:], 0 * fixed_cash_flows[:, 0:1]], 1\n",
    "        )\n",
    "\n",
    "        new_states = (assets, fixed_cash_flows, swap_volume)\n",
    "\n",
    "        return output, new_states\n"
   ]
  },
  {
   "cell_type": "code",
   "execution_count": 12,
   "metadata": {},
   "outputs": [],
   "source": [
    "# Define network input, None is the  batch size, which is not yet specified.\n",
    "input_swap_rates = Input(shape=(None, 4))\n",
    "input_current_rate = Input(shape=(None, 1))\n",
    "\n",
    "#define a cell that will be used within the RNN\n",
    "cell = SwapDecisionCell(swap_series=swap_series, months=target_month, **network_params )\n",
    "\n",
    "#feed the cell into the RNN\n",
    "rnn_bank_model = RNN(cell,return_sequences=True)\n",
    "\n",
    "outputs = rnn_bank_model((input_swap_rates, input_current_rate))\n",
    "bank_model = Model([input_swap_rates, input_current_rate], outputs)\n"
   ]
  },
  {
   "source": [
    "Here some loss functions are defined. By plaing around with the parameters we see that the `penalty` term as a big effect. Penalties are probably not calculated exactly this way, but it was easy to code. "
   ],
   "cell_type": "markdown",
   "metadata": {}
  },
  {
   "cell_type": "code",
   "execution_count": 13,
   "metadata": {},
   "outputs": [],
   "source": [
    "_penalty = penalty\n",
    "\n",
    "#trying out different penalties\n",
    "_penalty = 0.0\n",
    "\n",
    "# loss function\n",
    "def loss_with_penalty(y_true, y_pred):\n",
    "    assets = y_pred[0]\n",
    "    final_assets = assets[-1]\n",
    "    swap_volume = y_pred[1]\n",
    "    # calulate penalty \n",
    "    penalties = tf.math.reduce_sum(relu(tf.abs(swap_volume) - assets * spending_limit))* _penalty\n",
    "    # penelize if the final equity is less than target equity (thats why the relu is there )\n",
    "    return K.mean(relu(-(final_assets - penalties - L0 - target_equity)) ** 2)\n",
    "\n",
    "def loss_without_penalty(y_true, y_pred):\n",
    "    assets = y_pred[0]\n",
    "    final_assets = assets[-1]\n",
    "    # penelize if the final equity is less than target equity\n",
    "    return K.mean(relu(-(final_assets  - L0 - target_equity)) ** 2)\n"
   ]
  },
  {
   "cell_type": "code",
   "execution_count": 14,
   "metadata": {},
   "outputs": [],
   "source": [
    "adam=optimizers.Adam(lr=0.01)\n",
    "bank_model.compile(optimizer=adam,loss=loss_with_penalty)\n"
   ]
  },
  {
   "cell_type": "code",
   "execution_count": 15,
   "metadata": {
    "tags": []
   },
   "outputs": [
    {
     "output_type": "stream",
     "name": "stdout",
     "text": [
      "Epoch 1/40\n",
      "10/10 [==============================] - 19s 83ms/step - loss: 8836.9381 - rnn_loss: 1331.9663 - rnn_1_loss: 7504.9718\n",
      "Epoch 2/40\n",
      "10/10 [==============================] - 1s 112ms/step - loss: 220.7526 - rnn_loss: 220.7526 - rnn_1_loss: 0.0000e+00\n",
      "Epoch 3/40\n",
      "10/10 [==============================] - 1s 93ms/step - loss: 37.5593 - rnn_loss: 37.5593 - rnn_1_loss: 0.0000e+00\n",
      "Epoch 4/40\n",
      "10/10 [==============================] - 1s 91ms/step - loss: 142.9650 - rnn_loss: 142.9650 - rnn_1_loss: 0.0000e+00\n",
      "Epoch 5/40\n",
      "10/10 [==============================] - 1s 123ms/step - loss: 120.4576 - rnn_loss: 120.4576 - rnn_1_loss: 0.0000e+00\n",
      "Epoch 6/40\n",
      "10/10 [==============================] - 1s 80ms/step - loss: 28.2249 - rnn_loss: 28.2249 - rnn_1_loss: 0.0000e+00\n",
      "Epoch 7/40\n",
      "10/10 [==============================] - 1s 80ms/step - loss: 528.3466 - rnn_loss: 528.3466 - rnn_1_loss: 0.0000e+00\n",
      "Epoch 8/40\n",
      "10/10 [==============================] - 1s 80ms/step - loss: 138.8166 - rnn_loss: 138.8166 - rnn_1_loss: 0.0000e+00\n",
      "Epoch 9/40\n",
      "10/10 [==============================] - 1s 86ms/step - loss: 245.9396 - rnn_loss: 245.9396 - rnn_1_loss: 0.0000e+00\n",
      "Epoch 10/40\n",
      "10/10 [==============================] - 1s 120ms/step - loss: 495.6841 - rnn_loss: 495.6841 - rnn_1_loss: 0.0000e+00\n",
      "Epoch 11/40\n",
      "10/10 [==============================] - 1s 91ms/step - loss: 63.0954 - rnn_loss: 63.0954 - rnn_1_loss: 0.0000e+00\n",
      "Epoch 12/40\n",
      "10/10 [==============================] - 1s 89ms/step - loss: 49.7466 - rnn_loss: 49.7466 - rnn_1_loss: 0.0000e+00\n",
      "Epoch 13/40\n",
      "10/10 [==============================] - 1s 99ms/step - loss: 561.9213 - rnn_loss: 561.9213 - rnn_1_loss: 0.0000e+00\n",
      "Epoch 14/40\n",
      "10/10 [==============================] - 1s 85ms/step - loss: 98.7809 - rnn_loss: 98.7809 - rnn_1_loss: 0.0000e+00\n",
      "Epoch 15/40\n",
      "10/10 [==============================] - 1s 92ms/step - loss: 188.0906 - rnn_loss: 188.0906 - rnn_1_loss: 0.0000e+00\n",
      "Epoch 16/40\n",
      "10/10 [==============================] - 1s 98ms/step - loss: 108.6537 - rnn_loss: 108.6537 - rnn_1_loss: 0.0000e+00\n",
      "Epoch 17/40\n",
      "10/10 [==============================] - 1s 128ms/step - loss: 63.5771 - rnn_loss: 63.5771 - rnn_1_loss: 0.0000e+00\n",
      "Epoch 18/40\n",
      "10/10 [==============================] - 1s 123ms/step - loss: 99.8147 - rnn_loss: 99.8147 - rnn_1_loss: 0.0000e+00\n",
      "Epoch 19/40\n",
      "10/10 [==============================] - 1s 102ms/step - loss: 51.7352 - rnn_loss: 51.7352 - rnn_1_loss: 0.0000e+00\n",
      "Epoch 20/40\n",
      "10/10 [==============================] - 1s 96ms/step - loss: 13.3760 - rnn_loss: 13.3760 - rnn_1_loss: 0.0000e+00\n",
      "Epoch 21/40\n",
      "10/10 [==============================] - 1s 102ms/step - loss: 25.8279 - rnn_loss: 25.8279 - rnn_1_loss: 0.0000e+00\n",
      "Epoch 22/40\n",
      "10/10 [==============================] - 1s 122ms/step - loss: 61.2431 - rnn_loss: 61.2431 - rnn_1_loss: 0.0000e+00\n",
      "Epoch 23/40\n",
      "10/10 [==============================] - 1s 96ms/step - loss: 60.7019 - rnn_loss: 60.7019 - rnn_1_loss: 0.0000e+00\n",
      "Epoch 24/40\n",
      "10/10 [==============================] - 1s 106ms/step - loss: 69.0853 - rnn_loss: 69.0853 - rnn_1_loss: 0.0000e+00\n",
      "Epoch 25/40\n",
      "10/10 [==============================] - 1s 92ms/step - loss: 92.2703 - rnn_loss: 92.2703 - rnn_1_loss: 0.0000e+00\n",
      "Epoch 26/40\n",
      "10/10 [==============================] - 1s 93ms/step - loss: 48.4691 - rnn_loss: 48.4691 - rnn_1_loss: 0.0000e+00\n",
      "Epoch 27/40\n",
      "10/10 [==============================] - 1s 117ms/step - loss: 81.2544 - rnn_loss: 81.2544 - rnn_1_loss: 0.0000e+00\n",
      "Epoch 28/40\n",
      "10/10 [==============================] - 1s 130ms/step - loss: 29.7805 - rnn_loss: 29.7805 - rnn_1_loss: 0.0000e+00\n",
      "Epoch 29/40\n",
      "10/10 [==============================] - 1s 127ms/step - loss: 17.1909 - rnn_loss: 17.1909 - rnn_1_loss: 0.0000e+00\n",
      "Epoch 30/40\n",
      "10/10 [==============================] - 2s 183ms/step - loss: 33.7838 - rnn_loss: 33.7838 - rnn_1_loss: 0.0000e+00\n",
      "Epoch 31/40\n",
      "10/10 [==============================] - 1s 148ms/step - loss: 87.1883 - rnn_loss: 87.1883 - rnn_1_loss: 0.0000e+00\n",
      "Epoch 32/40\n",
      "10/10 [==============================] - 1s 96ms/step - loss: 64.4974 - rnn_loss: 64.4974 - rnn_1_loss: 0.0000e+00\n",
      "Epoch 33/40\n",
      "10/10 [==============================] - 1s 144ms/step - loss: 18.1328 - rnn_loss: 18.1328 - rnn_1_loss: 0.0000e+00\n",
      "Epoch 34/40\n",
      "10/10 [==============================] - 1s 124ms/step - loss: 18.3574 - rnn_loss: 18.3574 - rnn_1_loss: 0.0000e+00\n",
      "Epoch 35/40\n",
      "10/10 [==============================] - 1s 137ms/step - loss: 15.5352 - rnn_loss: 15.5352 - rnn_1_loss: 0.0000e+00\n",
      "Epoch 36/40\n",
      "10/10 [==============================] - 1s 127ms/step - loss: 75.2063 - rnn_loss: 75.2063 - rnn_1_loss: 0.0000e+00\n",
      "Epoch 37/40\n",
      "10/10 [==============================] - 1s 134ms/step - loss: 42.0944 - rnn_loss: 42.0944 - rnn_1_loss: 0.0000e+00\n",
      "Epoch 38/40\n",
      "10/10 [==============================] - 1s 98ms/step - loss: 52.4785 - rnn_loss: 52.4785 - rnn_1_loss: 0.0000e+00\n",
      "Epoch 39/40\n",
      "10/10 [==============================] - 1s 110ms/step - loss: 96.2926 - rnn_loss: 96.2926 - rnn_1_loss: 0.0000e+00\n",
      "Epoch 40/40\n",
      "10/10 [==============================] - 1s 107ms/step - loss: 38.6121 - rnn_loss: 38.6121 - rnn_1_loss: 0.0000e+00\n"
     ]
    }
   ],
   "source": [
    "for i in range(1):\n",
    "    bank_model.fit(x=xtrain,y=ytrain, epochs=40,verbose=True,batch_size=100)"
   ]
  },
  {
   "cell_type": "code",
   "execution_count": 17,
   "metadata": {},
   "outputs": [
    {
     "output_type": "display_data",
     "data": {
      "text/plain": "<Figure size 432x288 with 1 Axes>",
      "image/svg+xml": "<?xml version=\"1.0\" encoding=\"utf-8\" standalone=\"no\"?>\n<!DOCTYPE svg PUBLIC \"-//W3C//DTD SVG 1.1//EN\"\n  \"http://www.w3.org/Graphics/SVG/1.1/DTD/svg11.dtd\">\n<!-- Created with matplotlib (https://matplotlib.org/) -->\n<svg height=\"277.314375pt\" version=\"1.1\" viewBox=\"0 0 387.325938 277.314375\" width=\"387.325938pt\" xmlns=\"http://www.w3.org/2000/svg\" xmlns:xlink=\"http://www.w3.org/1999/xlink\">\n <defs>\n  <style type=\"text/css\">\n*{stroke-linecap:butt;stroke-linejoin:round;}\n  </style>\n </defs>\n <g id=\"figure_1\">\n  <g id=\"patch_1\">\n   <path d=\"M 0 277.314375 \nL 387.325938 277.314375 \nL 387.325938 0 \nL 0 0 \nz\n\" style=\"fill:none;\"/>\n  </g>\n  <g id=\"axes_1\">\n   <g id=\"patch_2\">\n    <path d=\"M 36.465625 239.758125 \nL 371.265625 239.758125 \nL 371.265625 22.318125 \nL 36.465625 22.318125 \nz\n\" style=\"fill:#ffffff;\"/>\n   </g>\n   <g id=\"patch_3\">\n    <path clip-path=\"url(#pfa3cc500e4)\" d=\"M 51.683807 239.758125 \nL 54.727444 239.758125 \nL 54.727444 233.84139 \nL 51.683807 233.84139 \nz\n\" style=\"fill:#1f77b4;opacity:0.7;stroke:#000000;stroke-linejoin:miter;\"/>\n   </g>\n   <g id=\"patch_4\">\n    <path clip-path=\"url(#pfa3cc500e4)\" d=\"M 54.727444 239.758125 \nL 57.771081 239.758125 \nL 57.771081 239.758125 \nL 54.727444 239.758125 \nz\n\" style=\"fill:#1f77b4;opacity:0.7;stroke:#000000;stroke-linejoin:miter;\"/>\n   </g>\n   <g id=\"patch_5\">\n    <path clip-path=\"url(#pfa3cc500e4)\" d=\"M 57.771081 239.758125 \nL 60.814718 239.758125 \nL 60.814718 239.758125 \nL 57.771081 239.758125 \nz\n\" style=\"fill:#1f77b4;opacity:0.7;stroke:#000000;stroke-linejoin:miter;\"/>\n   </g>\n   <g id=\"patch_6\">\n    <path clip-path=\"url(#pfa3cc500e4)\" d=\"M 60.814718 239.758125 \nL 63.858355 239.758125 \nL 63.858355 239.758125 \nL 60.814718 239.758125 \nz\n\" style=\"fill:#1f77b4;opacity:0.7;stroke:#000000;stroke-linejoin:miter;\"/>\n   </g>\n   <g id=\"patch_7\">\n    <path clip-path=\"url(#pfa3cc500e4)\" d=\"M 63.858355 239.758125 \nL 66.901993 239.758125 \nL 66.901993 239.758125 \nL 63.858355 239.758125 \nz\n\" style=\"fill:#1f77b4;opacity:0.7;stroke:#000000;stroke-linejoin:miter;\"/>\n   </g>\n   <g id=\"patch_8\">\n    <path clip-path=\"url(#pfa3cc500e4)\" d=\"M 66.901993 239.758125 \nL 69.94563 239.758125 \nL 69.94563 222.007921 \nL 66.901993 222.007921 \nz\n\" style=\"fill:#1f77b4;opacity:0.7;stroke:#000000;stroke-linejoin:miter;\"/>\n   </g>\n   <g id=\"patch_9\">\n    <path clip-path=\"url(#pfa3cc500e4)\" d=\"M 69.94563 239.758125 \nL 72.989267 239.758125 \nL 72.989267 239.758125 \nL 69.94563 239.758125 \nz\n\" style=\"fill:#1f77b4;opacity:0.7;stroke:#000000;stroke-linejoin:miter;\"/>\n   </g>\n   <g id=\"patch_10\">\n    <path clip-path=\"url(#pfa3cc500e4)\" d=\"M 72.989267 239.758125 \nL 76.032904 239.758125 \nL 76.032904 239.758125 \nL 72.989267 239.758125 \nz\n\" style=\"fill:#1f77b4;opacity:0.7;stroke:#000000;stroke-linejoin:miter;\"/>\n   </g>\n   <g id=\"patch_11\">\n    <path clip-path=\"url(#pfa3cc500e4)\" d=\"M 76.032904 239.758125 \nL 79.076541 239.758125 \nL 79.076541 239.758125 \nL 76.032904 239.758125 \nz\n\" style=\"fill:#1f77b4;opacity:0.7;stroke:#000000;stroke-linejoin:miter;\"/>\n   </g>\n   <g id=\"patch_12\">\n    <path clip-path=\"url(#pfa3cc500e4)\" d=\"M 79.076541 239.758125 \nL 82.120178 239.758125 \nL 82.120178 222.007921 \nL 79.076541 222.007921 \nz\n\" style=\"fill:#1f77b4;opacity:0.7;stroke:#000000;stroke-linejoin:miter;\"/>\n   </g>\n   <g id=\"patch_13\">\n    <path clip-path=\"url(#pfa3cc500e4)\" d=\"M 82.120178 239.758125 \nL 85.163815 239.758125 \nL 85.163815 216.091186 \nL 82.120178 216.091186 \nz\n\" style=\"fill:#1f77b4;opacity:0.7;stroke:#000000;stroke-linejoin:miter;\"/>\n   </g>\n   <g id=\"patch_14\">\n    <path clip-path=\"url(#pfa3cc500e4)\" d=\"M 85.163815 239.758125 \nL 88.207453 239.758125 \nL 88.207453 239.758125 \nL 85.163815 239.758125 \nz\n\" style=\"fill:#1f77b4;opacity:0.7;stroke:#000000;stroke-linejoin:miter;\"/>\n   </g>\n   <g id=\"patch_15\">\n    <path clip-path=\"url(#pfa3cc500e4)\" d=\"M 88.207453 239.758125 \nL 91.25107 239.758125 \nL 91.25107 233.841352 \nL 88.207453 233.841352 \nz\n\" style=\"fill:#1f77b4;opacity:0.7;stroke:#000000;stroke-linejoin:miter;\"/>\n   </g>\n   <g id=\"patch_16\">\n    <path clip-path=\"url(#pfa3cc500e4)\" d=\"M 91.25107 239.758125 \nL 94.294707 239.758125 \nL 94.294707 227.924656 \nL 91.25107 227.924656 \nz\n\" style=\"fill:#1f77b4;opacity:0.7;stroke:#000000;stroke-linejoin:miter;\"/>\n   </g>\n   <g id=\"patch_17\">\n    <path clip-path=\"url(#pfa3cc500e4)\" d=\"M 94.294707 239.758125 \nL 97.338344 239.758125 \nL 97.338344 210.174452 \nL 94.294707 210.174452 \nz\n\" style=\"fill:#1f77b4;opacity:0.7;stroke:#000000;stroke-linejoin:miter;\"/>\n   </g>\n   <g id=\"patch_18\">\n    <path clip-path=\"url(#pfa3cc500e4)\" d=\"M 97.338344 239.758125 \nL 100.381982 239.758125 \nL 100.381982 210.174452 \nL 97.338344 210.174452 \nz\n\" style=\"fill:#1f77b4;opacity:0.7;stroke:#000000;stroke-linejoin:miter;\"/>\n   </g>\n   <g id=\"patch_19\">\n    <path clip-path=\"url(#pfa3cc500e4)\" d=\"M 100.381982 239.758125 \nL 103.425619 239.758125 \nL 103.425619 227.924656 \nL 100.381982 227.924656 \nz\n\" style=\"fill:#1f77b4;opacity:0.7;stroke:#000000;stroke-linejoin:miter;\"/>\n   </g>\n   <g id=\"patch_20\">\n    <path clip-path=\"url(#pfa3cc500e4)\" d=\"M 103.425619 239.758125 \nL 106.469256 239.758125 \nL 106.469256 198.340982 \nL 103.425619 198.340982 \nz\n\" style=\"fill:#1f77b4;opacity:0.7;stroke:#000000;stroke-linejoin:miter;\"/>\n   </g>\n   <g id=\"patch_21\">\n    <path clip-path=\"url(#pfa3cc500e4)\" d=\"M 106.469256 239.758125 \nL 109.512893 239.758125 \nL 109.512893 210.174452 \nL 106.469256 210.174452 \nz\n\" style=\"fill:#1f77b4;opacity:0.7;stroke:#000000;stroke-linejoin:miter;\"/>\n   </g>\n   <g id=\"patch_22\">\n    <path clip-path=\"url(#pfa3cc500e4)\" d=\"M 109.512893 239.758125 \nL 112.55653 239.758125 \nL 112.55653 222.007921 \nL 109.512893 222.007921 \nz\n\" style=\"fill:#1f77b4;opacity:0.7;stroke:#000000;stroke-linejoin:miter;\"/>\n   </g>\n   <g id=\"patch_23\">\n    <path clip-path=\"url(#pfa3cc500e4)\" d=\"M 112.55653 239.758125 \nL 115.600167 239.758125 \nL 115.600167 192.424247 \nL 112.55653 192.424247 \nz\n\" style=\"fill:#1f77b4;opacity:0.7;stroke:#000000;stroke-linejoin:miter;\"/>\n   </g>\n   <g id=\"patch_24\">\n    <path clip-path=\"url(#pfa3cc500e4)\" d=\"M 115.600167 239.758125 \nL 118.643804 239.758125 \nL 118.643804 180.590778 \nL 115.600167 180.590778 \nz\n\" style=\"fill:#1f77b4;opacity:0.7;stroke:#000000;stroke-linejoin:miter;\"/>\n   </g>\n   <g id=\"patch_25\">\n    <path clip-path=\"url(#pfa3cc500e4)\" d=\"M 118.643804 239.758125 \nL 121.687442 239.758125 \nL 121.687442 162.840574 \nL 118.643804 162.840574 \nz\n\" style=\"fill:#1f77b4;opacity:0.7;stroke:#000000;stroke-linejoin:miter;\"/>\n   </g>\n   <g id=\"patch_26\">\n    <path clip-path=\"url(#pfa3cc500e4)\" d=\"M 121.687442 239.758125 \nL 124.731079 239.758125 \nL 124.731079 174.674043 \nL 121.687442 174.674043 \nz\n\" style=\"fill:#1f77b4;opacity:0.7;stroke:#000000;stroke-linejoin:miter;\"/>\n   </g>\n   <g id=\"patch_27\">\n    <path clip-path=\"url(#pfa3cc500e4)\" d=\"M 124.731079 239.758125 \nL 127.774716 239.758125 \nL 127.774716 133.256901 \nL 124.731079 133.256901 \nz\n\" style=\"fill:#1f77b4;opacity:0.7;stroke:#000000;stroke-linejoin:miter;\"/>\n   </g>\n   <g id=\"patch_28\">\n    <path clip-path=\"url(#pfa3cc500e4)\" d=\"M 127.774716 239.758125 \nL 130.818353 239.758125 \nL 130.818353 121.423431 \nL 127.774716 121.423431 \nz\n\" style=\"fill:#1f77b4;opacity:0.7;stroke:#000000;stroke-linejoin:miter;\"/>\n   </g>\n   <g id=\"patch_29\">\n    <path clip-path=\"url(#pfa3cc500e4)\" d=\"M 130.818353 239.758125 \nL 133.86199 239.758125 \nL 133.86199 168.757309 \nL 130.818353 168.757309 \nz\n\" style=\"fill:#1f77b4;opacity:0.7;stroke:#000000;stroke-linejoin:miter;\"/>\n   </g>\n   <g id=\"patch_30\">\n    <path clip-path=\"url(#pfa3cc500e4)\" d=\"M 133.86199 239.758125 \nL 136.905627 239.758125 \nL 136.905627 127.340166 \nL 133.86199 127.340166 \nz\n\" style=\"fill:#1f77b4;opacity:0.7;stroke:#000000;stroke-linejoin:miter;\"/>\n   </g>\n   <g id=\"patch_31\">\n    <path clip-path=\"url(#pfa3cc500e4)\" d=\"M 136.905627 239.758125 \nL 139.949265 239.758125 \nL 139.949265 115.506696 \nL 136.905627 115.506696 \nz\n\" style=\"fill:#1f77b4;opacity:0.7;stroke:#000000;stroke-linejoin:miter;\"/>\n   </g>\n   <g id=\"patch_32\">\n    <path clip-path=\"url(#pfa3cc500e4)\" d=\"M 139.949265 239.758125 \nL 142.992902 239.758125 \nL 142.992902 168.757309 \nL 139.949265 168.757309 \nz\n\" style=\"fill:#1f77b4;opacity:0.7;stroke:#000000;stroke-linejoin:miter;\"/>\n   </g>\n   <g id=\"patch_33\">\n    <path clip-path=\"url(#pfa3cc500e4)\" d=\"M 142.992902 239.758125 \nL 146.036539 239.758125 \nL 146.036539 127.340166 \nL 142.992902 127.340166 \nz\n\" style=\"fill:#1f77b4;opacity:0.7;stroke:#000000;stroke-linejoin:miter;\"/>\n   </g>\n   <g id=\"patch_34\">\n    <path clip-path=\"url(#pfa3cc500e4)\" d=\"M 146.036539 239.758125 \nL 149.080176 239.758125 \nL 149.080176 97.756492 \nL 146.036539 97.756492 \nz\n\" style=\"fill:#1f77b4;opacity:0.7;stroke:#000000;stroke-linejoin:miter;\"/>\n   </g>\n   <g id=\"patch_35\">\n    <path clip-path=\"url(#pfa3cc500e4)\" d=\"M 149.080176 239.758125 \nL 152.123813 239.758125 \nL 152.123813 145.09037 \nL 149.080176 145.09037 \nz\n\" style=\"fill:#1f77b4;opacity:0.7;stroke:#000000;stroke-linejoin:miter;\"/>\n   </g>\n   <g id=\"patch_36\">\n    <path clip-path=\"url(#pfa3cc500e4)\" d=\"M 152.123813 239.758125 \nL 155.16745 239.758125 \nL 155.16745 74.089554 \nL 152.123813 74.089554 \nz\n\" style=\"fill:#1f77b4;opacity:0.7;stroke:#000000;stroke-linejoin:miter;\"/>\n   </g>\n   <g id=\"patch_37\">\n    <path clip-path=\"url(#pfa3cc500e4)\" d=\"M 155.16745 239.758125 \nL 158.211087 239.758125 \nL 158.211087 91.839758 \nL 155.16745 91.839758 \nz\n\" style=\"fill:#1f77b4;opacity:0.7;stroke:#000000;stroke-linejoin:miter;\"/>\n   </g>\n   <g id=\"patch_38\">\n    <path clip-path=\"url(#pfa3cc500e4)\" d=\"M 158.211068 239.758125 \nL 161.254665 239.758125 \nL 161.254665 85.922028 \nL 158.211068 85.922028 \nz\n\" style=\"fill:#1f77b4;opacity:0.7;stroke:#000000;stroke-linejoin:miter;\"/>\n   </g>\n   <g id=\"patch_39\">\n    <path clip-path=\"url(#pfa3cc500e4)\" d=\"M 161.254705 239.758125 \nL 164.298342 239.758125 \nL 164.298342 109.589962 \nL 161.254705 109.589962 \nz\n\" style=\"fill:#1f77b4;opacity:0.7;stroke:#000000;stroke-linejoin:miter;\"/>\n   </g>\n   <g id=\"patch_40\">\n    <path clip-path=\"url(#pfa3cc500e4)\" d=\"M 164.298342 239.758125 \nL 167.341979 239.758125 \nL 167.341979 74.089554 \nL 164.298342 74.089554 \nz\n\" style=\"fill:#1f77b4;opacity:0.7;stroke:#000000;stroke-linejoin:miter;\"/>\n   </g>\n   <g id=\"patch_41\">\n    <path clip-path=\"url(#pfa3cc500e4)\" d=\"M 167.341979 239.758125 \nL 170.385616 239.758125 \nL 170.385616 68.172819 \nL 167.341979 68.172819 \nz\n\" style=\"fill:#1f77b4;opacity:0.7;stroke:#000000;stroke-linejoin:miter;\"/>\n   </g>\n   <g id=\"patch_42\">\n    <path clip-path=\"url(#pfa3cc500e4)\" d=\"M 170.385616 239.758125 \nL 173.429253 239.758125 \nL 173.429253 32.672411 \nL 170.385616 32.672411 \nz\n\" style=\"fill:#1f77b4;opacity:0.7;stroke:#000000;stroke-linejoin:miter;\"/>\n   </g>\n   <g id=\"patch_43\">\n    <path clip-path=\"url(#pfa3cc500e4)\" d=\"M 173.429253 239.758125 \nL 176.472891 239.758125 \nL 176.472891 80.006288 \nL 173.429253 80.006288 \nz\n\" style=\"fill:#1f77b4;opacity:0.7;stroke:#000000;stroke-linejoin:miter;\"/>\n   </g>\n   <g id=\"patch_44\">\n    <path clip-path=\"url(#pfa3cc500e4)\" d=\"M 176.472891 239.758125 \nL 179.516528 239.758125 \nL 179.516528 97.756492 \nL 176.472891 97.756492 \nz\n\" style=\"fill:#1f77b4;opacity:0.7;stroke:#000000;stroke-linejoin:miter;\"/>\n   </g>\n   <g id=\"patch_45\">\n    <path clip-path=\"url(#pfa3cc500e4)\" d=\"M 179.516528 239.758125 \nL 182.560165 239.758125 \nL 182.560165 62.256084 \nL 179.516528 62.256084 \nz\n\" style=\"fill:#1f77b4;opacity:0.7;stroke:#000000;stroke-linejoin:miter;\"/>\n   </g>\n   <g id=\"patch_46\">\n    <path clip-path=\"url(#pfa3cc500e4)\" d=\"M 182.560165 239.758125 \nL 185.603802 239.758125 \nL 185.603802 74.089554 \nL 182.560165 74.089554 \nz\n\" style=\"fill:#1f77b4;opacity:0.7;stroke:#000000;stroke-linejoin:miter;\"/>\n   </g>\n   <g id=\"patch_47\">\n    <path clip-path=\"url(#pfa3cc500e4)\" d=\"M 185.603802 239.758125 \nL 188.647439 239.758125 \nL 188.647439 85.923023 \nL 185.603802 85.923023 \nz\n\" style=\"fill:#1f77b4;opacity:0.7;stroke:#000000;stroke-linejoin:miter;\"/>\n   </g>\n   <g id=\"patch_48\">\n    <path clip-path=\"url(#pfa3cc500e4)\" d=\"M 188.647439 239.758125 \nL 191.691076 239.758125 \nL 191.691076 97.756492 \nL 188.647439 97.756492 \nz\n\" style=\"fill:#1f77b4;opacity:0.7;stroke:#000000;stroke-linejoin:miter;\"/>\n   </g>\n   <g id=\"patch_49\">\n    <path clip-path=\"url(#pfa3cc500e4)\" d=\"M 191.691076 239.758125 \nL 194.734714 239.758125 \nL 194.734714 103.673227 \nL 191.691076 103.673227 \nz\n\" style=\"fill:#1f77b4;opacity:0.7;stroke:#000000;stroke-linejoin:miter;\"/>\n   </g>\n   <g id=\"patch_50\">\n    <path clip-path=\"url(#pfa3cc500e4)\" d=\"M 194.734714 239.758125 \nL 197.778351 239.758125 \nL 197.778351 80.006288 \nL 194.734714 80.006288 \nz\n\" style=\"fill:#1f77b4;opacity:0.7;stroke:#000000;stroke-linejoin:miter;\"/>\n   </g>\n   <g id=\"patch_51\">\n    <path clip-path=\"url(#pfa3cc500e4)\" d=\"M 197.778351 239.758125 \nL 200.821988 239.758125 \nL 200.821988 85.923023 \nL 197.778351 85.923023 \nz\n\" style=\"fill:#1f77b4;opacity:0.7;stroke:#000000;stroke-linejoin:miter;\"/>\n   </g>\n   <g id=\"patch_52\">\n    <path clip-path=\"url(#pfa3cc500e4)\" d=\"M 200.821988 239.758125 \nL 203.865625 239.758125 \nL 203.865625 91.839758 \nL 200.821988 91.839758 \nz\n\" style=\"fill:#1f77b4;opacity:0.7;stroke:#000000;stroke-linejoin:miter;\"/>\n   </g>\n   <g id=\"patch_53\">\n    <path clip-path=\"url(#pfa3cc500e4)\" d=\"M 203.865625 239.758125 \nL 206.909262 239.758125 \nL 206.909262 80.006288 \nL 203.865625 80.006288 \nz\n\" style=\"fill:#1f77b4;opacity:0.7;stroke:#000000;stroke-linejoin:miter;\"/>\n   </g>\n   <g id=\"patch_54\">\n    <path clip-path=\"url(#pfa3cc500e4)\" d=\"M 206.909262 239.758125 \nL 209.952899 239.758125 \nL 209.952899 74.089554 \nL 206.909262 74.089554 \nz\n\" style=\"fill:#1f77b4;opacity:0.7;stroke:#000000;stroke-linejoin:miter;\"/>\n   </g>\n   <g id=\"patch_55\">\n    <path clip-path=\"url(#pfa3cc500e4)\" d=\"M 209.952899 239.758125 \nL 212.996536 239.758125 \nL 212.996536 50.422615 \nL 209.952899 50.422615 \nz\n\" style=\"fill:#1f77b4;opacity:0.7;stroke:#000000;stroke-linejoin:miter;\"/>\n   </g>\n   <g id=\"patch_56\">\n    <path clip-path=\"url(#pfa3cc500e4)\" d=\"M 212.996536 239.758125 \nL 216.040174 239.758125 \nL 216.040174 121.423431 \nL 212.996536 121.423431 \nz\n\" style=\"fill:#1f77b4;opacity:0.7;stroke:#000000;stroke-linejoin:miter;\"/>\n   </g>\n   <g id=\"patch_57\">\n    <path clip-path=\"url(#pfa3cc500e4)\" d=\"M 216.040174 239.758125 \nL 219.083811 239.758125 \nL 219.083811 162.840574 \nL 216.040174 162.840574 \nz\n\" style=\"fill:#1f77b4;opacity:0.7;stroke:#000000;stroke-linejoin:miter;\"/>\n   </g>\n   <g id=\"patch_58\">\n    <path clip-path=\"url(#pfa3cc500e4)\" d=\"M 219.083811 239.758125 \nL 222.127448 239.758125 \nL 222.127448 151.007105 \nL 219.083811 151.007105 \nz\n\" style=\"fill:#1f77b4;opacity:0.7;stroke:#000000;stroke-linejoin:miter;\"/>\n   </g>\n   <g id=\"patch_59\">\n    <path clip-path=\"url(#pfa3cc500e4)\" d=\"M 222.127448 239.758125 \nL 225.171085 239.758125 \nL 225.171085 168.757309 \nL 222.127448 168.757309 \nz\n\" style=\"fill:#1f77b4;opacity:0.7;stroke:#000000;stroke-linejoin:miter;\"/>\n   </g>\n   <g id=\"patch_60\">\n    <path clip-path=\"url(#pfa3cc500e4)\" d=\"M 225.171085 239.758125 \nL 228.214722 239.758125 \nL 228.214722 186.507513 \nL 225.171085 186.507513 \nz\n\" style=\"fill:#1f77b4;opacity:0.7;stroke:#000000;stroke-linejoin:miter;\"/>\n   </g>\n   <g id=\"patch_61\">\n    <path clip-path=\"url(#pfa3cc500e4)\" d=\"M 228.214722 239.758125 \nL 231.258359 239.758125 \nL 231.258359 145.09037 \nL 228.214722 145.09037 \nz\n\" style=\"fill:#1f77b4;opacity:0.7;stroke:#000000;stroke-linejoin:miter;\"/>\n   </g>\n   <g id=\"patch_62\">\n    <path clip-path=\"url(#pfa3cc500e4)\" d=\"M 231.258359 239.758125 \nL 234.301997 239.758125 \nL 234.301997 145.09037 \nL 231.258359 145.09037 \nz\n\" style=\"fill:#1f77b4;opacity:0.7;stroke:#000000;stroke-linejoin:miter;\"/>\n   </g>\n   <g id=\"patch_63\">\n    <path clip-path=\"url(#pfa3cc500e4)\" d=\"M 234.301997 239.758125 \nL 237.345634 239.758125 \nL 237.345634 162.840574 \nL 234.301997 162.840574 \nz\n\" style=\"fill:#1f77b4;opacity:0.7;stroke:#000000;stroke-linejoin:miter;\"/>\n   </g>\n   <g id=\"patch_64\">\n    <path clip-path=\"url(#pfa3cc500e4)\" d=\"M 237.345634 239.758125 \nL 240.389271 239.758125 \nL 240.389271 174.674043 \nL 237.345634 174.674043 \nz\n\" style=\"fill:#1f77b4;opacity:0.7;stroke:#000000;stroke-linejoin:miter;\"/>\n   </g>\n   <g id=\"patch_65\">\n    <path clip-path=\"url(#pfa3cc500e4)\" d=\"M 240.389271 239.758125 \nL 243.432908 239.758125 \nL 243.432908 192.424247 \nL 240.389271 192.424247 \nz\n\" style=\"fill:#1f77b4;opacity:0.7;stroke:#000000;stroke-linejoin:miter;\"/>\n   </g>\n   <g id=\"patch_66\">\n    <path clip-path=\"url(#pfa3cc500e4)\" d=\"M 243.432908 239.758125 \nL 246.476545 239.758125 \nL 246.476545 186.507513 \nL 243.432908 186.507513 \nz\n\" style=\"fill:#1f77b4;opacity:0.7;stroke:#000000;stroke-linejoin:miter;\"/>\n   </g>\n   <g id=\"patch_67\">\n    <path clip-path=\"url(#pfa3cc500e4)\" d=\"M 246.476545 239.758125 \nL 249.520182 239.758125 \nL 249.520182 204.257717 \nL 246.476545 204.257717 \nz\n\" style=\"fill:#1f77b4;opacity:0.7;stroke:#000000;stroke-linejoin:miter;\"/>\n   </g>\n   <g id=\"patch_68\">\n    <path clip-path=\"url(#pfa3cc500e4)\" d=\"M 249.520182 239.758125 \nL 252.563819 239.758125 \nL 252.563819 180.590778 \nL 249.520182 180.590778 \nz\n\" style=\"fill:#1f77b4;opacity:0.7;stroke:#000000;stroke-linejoin:miter;\"/>\n   </g>\n   <g id=\"patch_69\">\n    <path clip-path=\"url(#pfa3cc500e4)\" d=\"M 252.563819 239.758125 \nL 255.607457 239.758125 \nL 255.607457 204.257717 \nL 252.563819 204.257717 \nz\n\" style=\"fill:#1f77b4;opacity:0.7;stroke:#000000;stroke-linejoin:miter;\"/>\n   </g>\n   <g id=\"patch_70\">\n    <path clip-path=\"url(#pfa3cc500e4)\" d=\"M 255.607457 239.758125 \nL 258.651094 239.758125 \nL 258.651094 216.091186 \nL 255.607457 216.091186 \nz\n\" style=\"fill:#1f77b4;opacity:0.7;stroke:#000000;stroke-linejoin:miter;\"/>\n   </g>\n   <g id=\"patch_71\">\n    <path clip-path=\"url(#pfa3cc500e4)\" d=\"M 258.651094 239.758125 \nL 261.694731 239.758125 \nL 261.694731 210.174452 \nL 258.651094 210.174452 \nz\n\" style=\"fill:#1f77b4;opacity:0.7;stroke:#000000;stroke-linejoin:miter;\"/>\n   </g>\n   <g id=\"patch_72\">\n    <path clip-path=\"url(#pfa3cc500e4)\" d=\"M 261.694731 239.758125 \nL 264.738368 239.758125 \nL 264.738368 216.091186 \nL 261.694731 216.091186 \nz\n\" style=\"fill:#1f77b4;opacity:0.7;stroke:#000000;stroke-linejoin:miter;\"/>\n   </g>\n   <g id=\"patch_73\">\n    <path clip-path=\"url(#pfa3cc500e4)\" d=\"M 264.738368 239.758125 \nL 267.782005 239.758125 \nL 267.782005 233.84139 \nL 264.738368 233.84139 \nz\n\" style=\"fill:#1f77b4;opacity:0.7;stroke:#000000;stroke-linejoin:miter;\"/>\n   </g>\n   <g id=\"patch_74\">\n    <path clip-path=\"url(#pfa3cc500e4)\" d=\"M 267.782005 239.758125 \nL 270.825642 239.758125 \nL 270.825642 216.091186 \nL 267.782005 216.091186 \nz\n\" style=\"fill:#1f77b4;opacity:0.7;stroke:#000000;stroke-linejoin:miter;\"/>\n   </g>\n   <g id=\"patch_75\">\n    <path clip-path=\"url(#pfa3cc500e4)\" d=\"M 270.825642 239.758125 \nL 273.869279 239.758125 \nL 273.869279 216.091186 \nL 270.825642 216.091186 \nz\n\" style=\"fill:#1f77b4;opacity:0.7;stroke:#000000;stroke-linejoin:miter;\"/>\n   </g>\n   <g id=\"patch_76\">\n    <path clip-path=\"url(#pfa3cc500e4)\" d=\"M 273.869279 239.758125 \nL 276.912917 239.758125 \nL 276.912917 222.007921 \nL 273.869279 222.007921 \nz\n\" style=\"fill:#1f77b4;opacity:0.7;stroke:#000000;stroke-linejoin:miter;\"/>\n   </g>\n   <g id=\"patch_77\">\n    <path clip-path=\"url(#pfa3cc500e4)\" d=\"M 276.912877 239.758125 \nL 279.956475 239.758125 \nL 279.956475 204.257257 \nL 276.912877 204.257257 \nz\n\" style=\"fill:#1f77b4;opacity:0.7;stroke:#000000;stroke-linejoin:miter;\"/>\n   </g>\n   <g id=\"patch_78\">\n    <path clip-path=\"url(#pfa3cc500e4)\" d=\"M 279.956514 239.758125 \nL 283.000152 239.758125 \nL 283.000152 222.007921 \nL 279.956514 222.007921 \nz\n\" style=\"fill:#1f77b4;opacity:0.7;stroke:#000000;stroke-linejoin:miter;\"/>\n   </g>\n   <g id=\"patch_79\">\n    <path clip-path=\"url(#pfa3cc500e4)\" d=\"M 283.000152 239.758125 \nL 286.043789 239.758125 \nL 286.043789 233.84139 \nL 283.000152 233.84139 \nz\n\" style=\"fill:#1f77b4;opacity:0.7;stroke:#000000;stroke-linejoin:miter;\"/>\n   </g>\n   <g id=\"patch_80\">\n    <path clip-path=\"url(#pfa3cc500e4)\" d=\"M 286.043789 239.758125 \nL 289.087426 239.758125 \nL 289.087426 227.924656 \nL 286.043789 227.924656 \nz\n\" style=\"fill:#1f77b4;opacity:0.7;stroke:#000000;stroke-linejoin:miter;\"/>\n   </g>\n   <g id=\"patch_81\">\n    <path clip-path=\"url(#pfa3cc500e4)\" d=\"M 289.087426 239.758125 \nL 292.131063 239.758125 \nL 292.131063 233.84139 \nL 289.087426 233.84139 \nz\n\" style=\"fill:#1f77b4;opacity:0.7;stroke:#000000;stroke-linejoin:miter;\"/>\n   </g>\n   <g id=\"patch_82\">\n    <path clip-path=\"url(#pfa3cc500e4)\" d=\"M 292.131063 239.758125 \nL 295.1747 239.758125 \nL 295.1747 222.007921 \nL 292.131063 222.007921 \nz\n\" style=\"fill:#1f77b4;opacity:0.7;stroke:#000000;stroke-linejoin:miter;\"/>\n   </g>\n   <g id=\"patch_83\">\n    <path clip-path=\"url(#pfa3cc500e4)\" d=\"M 295.1747 239.758125 \nL 298.218337 239.758125 \nL 298.218337 233.84139 \nL 295.1747 233.84139 \nz\n\" style=\"fill:#1f77b4;opacity:0.7;stroke:#000000;stroke-linejoin:miter;\"/>\n   </g>\n   <g id=\"patch_84\">\n    <path clip-path=\"url(#pfa3cc500e4)\" d=\"M 298.218337 239.758125 \nL 301.261974 239.758125 \nL 301.261974 239.758125 \nL 298.218337 239.758125 \nz\n\" style=\"fill:#1f77b4;opacity:0.7;stroke:#000000;stroke-linejoin:miter;\"/>\n   </g>\n   <g id=\"patch_85\">\n    <path clip-path=\"url(#pfa3cc500e4)\" d=\"M 301.261974 239.758125 \nL 304.305612 239.758125 \nL 304.305612 227.924656 \nL 301.261974 227.924656 \nz\n\" style=\"fill:#1f77b4;opacity:0.7;stroke:#000000;stroke-linejoin:miter;\"/>\n   </g>\n   <g id=\"patch_86\">\n    <path clip-path=\"url(#pfa3cc500e4)\" d=\"M 304.305612 239.758125 \nL 307.349249 239.758125 \nL 307.349249 227.924656 \nL 304.305612 227.924656 \nz\n\" style=\"fill:#1f77b4;opacity:0.7;stroke:#000000;stroke-linejoin:miter;\"/>\n   </g>\n   <g id=\"patch_87\">\n    <path clip-path=\"url(#pfa3cc500e4)\" d=\"M 307.349249 239.758125 \nL 310.392886 239.758125 \nL 310.392886 233.84139 \nL 307.349249 233.84139 \nz\n\" style=\"fill:#1f77b4;opacity:0.7;stroke:#000000;stroke-linejoin:miter;\"/>\n   </g>\n   <g id=\"patch_88\">\n    <path clip-path=\"url(#pfa3cc500e4)\" d=\"M 310.392886 239.758125 \nL 313.436523 239.758125 \nL 313.436523 239.758125 \nL 310.392886 239.758125 \nz\n\" style=\"fill:#1f77b4;opacity:0.7;stroke:#000000;stroke-linejoin:miter;\"/>\n   </g>\n   <g id=\"patch_89\">\n    <path clip-path=\"url(#pfa3cc500e4)\" d=\"M 313.436523 239.758125 \nL 316.48016 239.758125 \nL 316.48016 239.758125 \nL 313.436523 239.758125 \nz\n\" style=\"fill:#1f77b4;opacity:0.7;stroke:#000000;stroke-linejoin:miter;\"/>\n   </g>\n   <g id=\"patch_90\">\n    <path clip-path=\"url(#pfa3cc500e4)\" d=\"M 316.48016 239.758125 \nL 319.523797 239.758125 \nL 319.523797 222.007921 \nL 316.48016 222.007921 \nz\n\" style=\"fill:#1f77b4;opacity:0.7;stroke:#000000;stroke-linejoin:miter;\"/>\n   </g>\n   <g id=\"patch_91\">\n    <path clip-path=\"url(#pfa3cc500e4)\" d=\"M 319.523797 239.758125 \nL 322.567435 239.758125 \nL 322.567435 239.758125 \nL 319.523797 239.758125 \nz\n\" style=\"fill:#1f77b4;opacity:0.7;stroke:#000000;stroke-linejoin:miter;\"/>\n   </g>\n   <g id=\"patch_92\">\n    <path clip-path=\"url(#pfa3cc500e4)\" d=\"M 322.567435 239.758125 \nL 325.611072 239.758125 \nL 325.611072 239.758125 \nL 322.567435 239.758125 \nz\n\" style=\"fill:#1f77b4;opacity:0.7;stroke:#000000;stroke-linejoin:miter;\"/>\n   </g>\n   <g id=\"patch_93\">\n    <path clip-path=\"url(#pfa3cc500e4)\" d=\"M 325.611072 239.758125 \nL 328.654709 239.758125 \nL 328.654709 239.758125 \nL 325.611072 239.758125 \nz\n\" style=\"fill:#1f77b4;opacity:0.7;stroke:#000000;stroke-linejoin:miter;\"/>\n   </g>\n   <g id=\"patch_94\">\n    <path clip-path=\"url(#pfa3cc500e4)\" d=\"M 328.654709 239.758125 \nL 331.698346 239.758125 \nL 331.698346 233.84139 \nL 328.654709 233.84139 \nz\n\" style=\"fill:#1f77b4;opacity:0.7;stroke:#000000;stroke-linejoin:miter;\"/>\n   </g>\n   <g id=\"patch_95\">\n    <path clip-path=\"url(#pfa3cc500e4)\" d=\"M 331.698346 239.758125 \nL 334.741983 239.758125 \nL 334.741983 239.758125 \nL 331.698346 239.758125 \nz\n\" style=\"fill:#1f77b4;opacity:0.7;stroke:#000000;stroke-linejoin:miter;\"/>\n   </g>\n   <g id=\"patch_96\">\n    <path clip-path=\"url(#pfa3cc500e4)\" d=\"M 334.741983 239.758125 \nL 337.78562 239.758125 \nL 337.78562 239.758125 \nL 334.741983 239.758125 \nz\n\" style=\"fill:#1f77b4;opacity:0.7;stroke:#000000;stroke-linejoin:miter;\"/>\n   </g>\n   <g id=\"patch_97\">\n    <path clip-path=\"url(#pfa3cc500e4)\" d=\"M 337.78562 239.758125 \nL 340.829257 239.758125 \nL 340.829257 239.758125 \nL 337.78562 239.758125 \nz\n\" style=\"fill:#1f77b4;opacity:0.7;stroke:#000000;stroke-linejoin:miter;\"/>\n   </g>\n   <g id=\"patch_98\">\n    <path clip-path=\"url(#pfa3cc500e4)\" d=\"M 340.829257 239.758125 \nL 343.872895 239.758125 \nL 343.872895 239.758125 \nL 340.829257 239.758125 \nz\n\" style=\"fill:#1f77b4;opacity:0.7;stroke:#000000;stroke-linejoin:miter;\"/>\n   </g>\n   <g id=\"patch_99\">\n    <path clip-path=\"url(#pfa3cc500e4)\" d=\"M 343.872895 239.758125 \nL 346.916532 239.758125 \nL 346.916532 239.758125 \nL 343.872895 239.758125 \nz\n\" style=\"fill:#1f77b4;opacity:0.7;stroke:#000000;stroke-linejoin:miter;\"/>\n   </g>\n   <g id=\"patch_100\">\n    <path clip-path=\"url(#pfa3cc500e4)\" d=\"M 346.916532 239.758125 \nL 349.960169 239.758125 \nL 349.960169 239.758125 \nL 346.916532 239.758125 \nz\n\" style=\"fill:#1f77b4;opacity:0.7;stroke:#000000;stroke-linejoin:miter;\"/>\n   </g>\n   <g id=\"patch_101\">\n    <path clip-path=\"url(#pfa3cc500e4)\" d=\"M 349.960169 239.758125 \nL 353.003806 239.758125 \nL 353.003806 239.758125 \nL 349.960169 239.758125 \nz\n\" style=\"fill:#1f77b4;opacity:0.7;stroke:#000000;stroke-linejoin:miter;\"/>\n   </g>\n   <g id=\"patch_102\">\n    <path clip-path=\"url(#pfa3cc500e4)\" d=\"M 353.003806 239.758125 \nL 356.047443 239.758125 \nL 356.047443 233.84139 \nL 353.003806 233.84139 \nz\n\" style=\"fill:#1f77b4;opacity:0.7;stroke:#000000;stroke-linejoin:miter;\"/>\n   </g>\n   <g id=\"matplotlib.axis_1\">\n    <g id=\"xtick_1\">\n     <g id=\"line2d_1\">\n      <defs>\n       <path d=\"M 0 0 \nL 0 3.5 \n\" id=\"m229cefdf63\" style=\"stroke:#000000;stroke-width:0.8;\"/>\n      </defs>\n      <g>\n       <use style=\"stroke:#000000;stroke-width:0.8;\" x=\"86.469942\" xlink:href=\"#m229cefdf63\" y=\"239.758125\"/>\n      </g>\n     </g>\n     <g id=\"text_1\">\n      <!-- 50 -->\n      <defs>\n       <path d=\"M 10.796875 72.90625 \nL 49.515625 72.90625 \nL 49.515625 64.59375 \nL 19.828125 64.59375 \nL 19.828125 46.734375 \nQ 21.96875 47.46875 24.109375 47.828125 \nQ 26.265625 48.1875 28.421875 48.1875 \nQ 40.625 48.1875 47.75 41.5 \nQ 54.890625 34.8125 54.890625 23.390625 \nQ 54.890625 11.625 47.5625 5.09375 \nQ 40.234375 -1.421875 26.90625 -1.421875 \nQ 22.3125 -1.421875 17.546875 -0.640625 \nQ 12.796875 0.140625 7.71875 1.703125 \nL 7.71875 11.625 \nQ 12.109375 9.234375 16.796875 8.0625 \nQ 21.484375 6.890625 26.703125 6.890625 \nQ 35.15625 6.890625 40.078125 11.328125 \nQ 45.015625 15.765625 45.015625 23.390625 \nQ 45.015625 31 40.078125 35.4375 \nQ 35.15625 39.890625 26.703125 39.890625 \nQ 22.75 39.890625 18.8125 39.015625 \nQ 14.890625 38.140625 10.796875 36.28125 \nz\n\" id=\"DejaVuSans-53\"/>\n       <path d=\"M 31.78125 66.40625 \nQ 24.171875 66.40625 20.328125 58.90625 \nQ 16.5 51.421875 16.5 36.375 \nQ 16.5 21.390625 20.328125 13.890625 \nQ 24.171875 6.390625 31.78125 6.390625 \nQ 39.453125 6.390625 43.28125 13.890625 \nQ 47.125 21.390625 47.125 36.375 \nQ 47.125 51.421875 43.28125 58.90625 \nQ 39.453125 66.40625 31.78125 66.40625 \nz\nM 31.78125 74.21875 \nQ 44.046875 74.21875 50.515625 64.515625 \nQ 56.984375 54.828125 56.984375 36.375 \nQ 56.984375 17.96875 50.515625 8.265625 \nQ 44.046875 -1.421875 31.78125 -1.421875 \nQ 19.53125 -1.421875 13.0625 8.265625 \nQ 6.59375 17.96875 6.59375 36.375 \nQ 6.59375 54.828125 13.0625 64.515625 \nQ 19.53125 74.21875 31.78125 74.21875 \nz\n\" id=\"DejaVuSans-48\"/>\n      </defs>\n      <g transform=\"translate(80.107442 254.356562)scale(0.1 -0.1)\">\n       <use xlink:href=\"#DejaVuSans-53\"/>\n       <use x=\"63.623047\" xlink:href=\"#DejaVuSans-48\"/>\n      </g>\n     </g>\n    </g>\n    <g id=\"xtick_2\">\n     <g id=\"line2d_2\">\n      <g>\n       <use style=\"stroke:#000000;stroke-width:0.8;\" x=\"138.097389\" xlink:href=\"#m229cefdf63\" y=\"239.758125\"/>\n      </g>\n     </g>\n     <g id=\"text_2\">\n      <!-- 60 -->\n      <defs>\n       <path d=\"M 33.015625 40.375 \nQ 26.375 40.375 22.484375 35.828125 \nQ 18.609375 31.296875 18.609375 23.390625 \nQ 18.609375 15.53125 22.484375 10.953125 \nQ 26.375 6.390625 33.015625 6.390625 \nQ 39.65625 6.390625 43.53125 10.953125 \nQ 47.40625 15.53125 47.40625 23.390625 \nQ 47.40625 31.296875 43.53125 35.828125 \nQ 39.65625 40.375 33.015625 40.375 \nz\nM 52.59375 71.296875 \nL 52.59375 62.3125 \nQ 48.875 64.0625 45.09375 64.984375 \nQ 41.3125 65.921875 37.59375 65.921875 \nQ 27.828125 65.921875 22.671875 59.328125 \nQ 17.53125 52.734375 16.796875 39.40625 \nQ 19.671875 43.65625 24.015625 45.921875 \nQ 28.375 48.1875 33.59375 48.1875 \nQ 44.578125 48.1875 50.953125 41.515625 \nQ 57.328125 34.859375 57.328125 23.390625 \nQ 57.328125 12.15625 50.6875 5.359375 \nQ 44.046875 -1.421875 33.015625 -1.421875 \nQ 20.359375 -1.421875 13.671875 8.265625 \nQ 6.984375 17.96875 6.984375 36.375 \nQ 6.984375 53.65625 15.1875 63.9375 \nQ 23.390625 74.21875 37.203125 74.21875 \nQ 40.921875 74.21875 44.703125 73.484375 \nQ 48.484375 72.75 52.59375 71.296875 \nz\n\" id=\"DejaVuSans-54\"/>\n      </defs>\n      <g transform=\"translate(131.734889 254.356562)scale(0.1 -0.1)\">\n       <use xlink:href=\"#DejaVuSans-54\"/>\n       <use x=\"63.623047\" xlink:href=\"#DejaVuSans-48\"/>\n      </g>\n     </g>\n    </g>\n    <g id=\"xtick_3\">\n     <g id=\"line2d_3\">\n      <g>\n       <use style=\"stroke:#000000;stroke-width:0.8;\" x=\"189.724836\" xlink:href=\"#m229cefdf63\" y=\"239.758125\"/>\n      </g>\n     </g>\n     <g id=\"text_3\">\n      <!-- 70 -->\n      <defs>\n       <path d=\"M 8.203125 72.90625 \nL 55.078125 72.90625 \nL 55.078125 68.703125 \nL 28.609375 0 \nL 18.3125 0 \nL 43.21875 64.59375 \nL 8.203125 64.59375 \nz\n\" id=\"DejaVuSans-55\"/>\n      </defs>\n      <g transform=\"translate(183.362336 254.356562)scale(0.1 -0.1)\">\n       <use xlink:href=\"#DejaVuSans-55\"/>\n       <use x=\"63.623047\" xlink:href=\"#DejaVuSans-48\"/>\n      </g>\n     </g>\n    </g>\n    <g id=\"xtick_4\">\n     <g id=\"line2d_4\">\n      <g>\n       <use style=\"stroke:#000000;stroke-width:0.8;\" x=\"241.352283\" xlink:href=\"#m229cefdf63\" y=\"239.758125\"/>\n      </g>\n     </g>\n     <g id=\"text_4\">\n      <!-- 80 -->\n      <defs>\n       <path d=\"M 31.78125 34.625 \nQ 24.75 34.625 20.71875 30.859375 \nQ 16.703125 27.09375 16.703125 20.515625 \nQ 16.703125 13.921875 20.71875 10.15625 \nQ 24.75 6.390625 31.78125 6.390625 \nQ 38.8125 6.390625 42.859375 10.171875 \nQ 46.921875 13.96875 46.921875 20.515625 \nQ 46.921875 27.09375 42.890625 30.859375 \nQ 38.875 34.625 31.78125 34.625 \nz\nM 21.921875 38.8125 \nQ 15.578125 40.375 12.03125 44.71875 \nQ 8.5 49.078125 8.5 55.328125 \nQ 8.5 64.0625 14.71875 69.140625 \nQ 20.953125 74.21875 31.78125 74.21875 \nQ 42.671875 74.21875 48.875 69.140625 \nQ 55.078125 64.0625 55.078125 55.328125 \nQ 55.078125 49.078125 51.53125 44.71875 \nQ 48 40.375 41.703125 38.8125 \nQ 48.828125 37.15625 52.796875 32.3125 \nQ 56.78125 27.484375 56.78125 20.515625 \nQ 56.78125 9.90625 50.3125 4.234375 \nQ 43.84375 -1.421875 31.78125 -1.421875 \nQ 19.734375 -1.421875 13.25 4.234375 \nQ 6.78125 9.90625 6.78125 20.515625 \nQ 6.78125 27.484375 10.78125 32.3125 \nQ 14.796875 37.15625 21.921875 38.8125 \nz\nM 18.3125 54.390625 \nQ 18.3125 48.734375 21.84375 45.5625 \nQ 25.390625 42.390625 31.78125 42.390625 \nQ 38.140625 42.390625 41.71875 45.5625 \nQ 45.3125 48.734375 45.3125 54.390625 \nQ 45.3125 60.0625 41.71875 63.234375 \nQ 38.140625 66.40625 31.78125 66.40625 \nQ 25.390625 66.40625 21.84375 63.234375 \nQ 18.3125 60.0625 18.3125 54.390625 \nz\n\" id=\"DejaVuSans-56\"/>\n      </defs>\n      <g transform=\"translate(234.989783 254.356562)scale(0.1 -0.1)\">\n       <use xlink:href=\"#DejaVuSans-56\"/>\n       <use x=\"63.623047\" xlink:href=\"#DejaVuSans-48\"/>\n      </g>\n     </g>\n    </g>\n    <g id=\"xtick_5\">\n     <g id=\"line2d_5\">\n      <g>\n       <use style=\"stroke:#000000;stroke-width:0.8;\" x=\"292.97973\" xlink:href=\"#m229cefdf63\" y=\"239.758125\"/>\n      </g>\n     </g>\n     <g id=\"text_5\">\n      <!-- 90 -->\n      <defs>\n       <path d=\"M 10.984375 1.515625 \nL 10.984375 10.5 \nQ 14.703125 8.734375 18.5 7.8125 \nQ 22.3125 6.890625 25.984375 6.890625 \nQ 35.75 6.890625 40.890625 13.453125 \nQ 46.046875 20.015625 46.78125 33.40625 \nQ 43.953125 29.203125 39.59375 26.953125 \nQ 35.25 24.703125 29.984375 24.703125 \nQ 19.046875 24.703125 12.671875 31.3125 \nQ 6.296875 37.9375 6.296875 49.421875 \nQ 6.296875 60.640625 12.9375 67.421875 \nQ 19.578125 74.21875 30.609375 74.21875 \nQ 43.265625 74.21875 49.921875 64.515625 \nQ 56.59375 54.828125 56.59375 36.375 \nQ 56.59375 19.140625 48.40625 8.859375 \nQ 40.234375 -1.421875 26.421875 -1.421875 \nQ 22.703125 -1.421875 18.890625 -0.6875 \nQ 15.09375 0.046875 10.984375 1.515625 \nz\nM 30.609375 32.421875 \nQ 37.25 32.421875 41.125 36.953125 \nQ 45.015625 41.5 45.015625 49.421875 \nQ 45.015625 57.28125 41.125 61.84375 \nQ 37.25 66.40625 30.609375 66.40625 \nQ 23.96875 66.40625 20.09375 61.84375 \nQ 16.21875 57.28125 16.21875 49.421875 \nQ 16.21875 41.5 20.09375 36.953125 \nQ 23.96875 32.421875 30.609375 32.421875 \nz\n\" id=\"DejaVuSans-57\"/>\n      </defs>\n      <g transform=\"translate(286.61723 254.356562)scale(0.1 -0.1)\">\n       <use xlink:href=\"#DejaVuSans-57\"/>\n       <use x=\"63.623047\" xlink:href=\"#DejaVuSans-48\"/>\n      </g>\n     </g>\n    </g>\n    <g id=\"xtick_6\">\n     <g id=\"line2d_6\">\n      <g>\n       <use style=\"stroke:#000000;stroke-width:0.8;\" x=\"344.607177\" xlink:href=\"#m229cefdf63\" y=\"239.758125\"/>\n      </g>\n     </g>\n     <g id=\"text_6\">\n      <!-- 100 -->\n      <defs>\n       <path d=\"M 12.40625 8.296875 \nL 28.515625 8.296875 \nL 28.515625 63.921875 \nL 10.984375 60.40625 \nL 10.984375 69.390625 \nL 28.421875 72.90625 \nL 38.28125 72.90625 \nL 38.28125 8.296875 \nL 54.390625 8.296875 \nL 54.390625 0 \nL 12.40625 0 \nz\n\" id=\"DejaVuSans-49\"/>\n      </defs>\n      <g transform=\"translate(335.063427 254.356562)scale(0.1 -0.1)\">\n       <use xlink:href=\"#DejaVuSans-49\"/>\n       <use x=\"63.623047\" xlink:href=\"#DejaVuSans-48\"/>\n       <use x=\"127.246094\" xlink:href=\"#DejaVuSans-48\"/>\n      </g>\n     </g>\n    </g>\n    <g id=\"text_7\">\n     <!-- Equity -->\n     <defs>\n      <path d=\"M 9.8125 72.90625 \nL 55.90625 72.90625 \nL 55.90625 64.59375 \nL 19.671875 64.59375 \nL 19.671875 43.015625 \nL 54.390625 43.015625 \nL 54.390625 34.71875 \nL 19.671875 34.71875 \nL 19.671875 8.296875 \nL 56.78125 8.296875 \nL 56.78125 0 \nL 9.8125 0 \nz\n\" id=\"DejaVuSans-69\"/>\n      <path d=\"M 14.796875 27.296875 \nQ 14.796875 17.390625 18.875 11.75 \nQ 22.953125 6.109375 30.078125 6.109375 \nQ 37.203125 6.109375 41.296875 11.75 \nQ 45.40625 17.390625 45.40625 27.296875 \nQ 45.40625 37.203125 41.296875 42.84375 \nQ 37.203125 48.484375 30.078125 48.484375 \nQ 22.953125 48.484375 18.875 42.84375 \nQ 14.796875 37.203125 14.796875 27.296875 \nz\nM 45.40625 8.203125 \nQ 42.578125 3.328125 38.25 0.953125 \nQ 33.9375 -1.421875 27.875 -1.421875 \nQ 17.96875 -1.421875 11.734375 6.484375 \nQ 5.515625 14.40625 5.515625 27.296875 \nQ 5.515625 40.1875 11.734375 48.09375 \nQ 17.96875 56 27.875 56 \nQ 33.9375 56 38.25 53.625 \nQ 42.578125 51.265625 45.40625 46.390625 \nL 45.40625 54.6875 \nL 54.390625 54.6875 \nL 54.390625 -20.796875 \nL 45.40625 -20.796875 \nz\n\" id=\"DejaVuSans-113\"/>\n      <path d=\"M 8.5 21.578125 \nL 8.5 54.6875 \nL 17.484375 54.6875 \nL 17.484375 21.921875 \nQ 17.484375 14.15625 20.5 10.265625 \nQ 23.53125 6.390625 29.59375 6.390625 \nQ 36.859375 6.390625 41.078125 11.03125 \nQ 45.3125 15.671875 45.3125 23.6875 \nL 45.3125 54.6875 \nL 54.296875 54.6875 \nL 54.296875 0 \nL 45.3125 0 \nL 45.3125 8.40625 \nQ 42.046875 3.421875 37.71875 1 \nQ 33.40625 -1.421875 27.6875 -1.421875 \nQ 18.265625 -1.421875 13.375 4.4375 \nQ 8.5 10.296875 8.5 21.578125 \nz\nM 31.109375 56 \nz\n\" id=\"DejaVuSans-117\"/>\n      <path d=\"M 9.421875 54.6875 \nL 18.40625 54.6875 \nL 18.40625 0 \nL 9.421875 0 \nz\nM 9.421875 75.984375 \nL 18.40625 75.984375 \nL 18.40625 64.59375 \nL 9.421875 64.59375 \nz\n\" id=\"DejaVuSans-105\"/>\n      <path d=\"M 18.3125 70.21875 \nL 18.3125 54.6875 \nL 36.8125 54.6875 \nL 36.8125 47.703125 \nL 18.3125 47.703125 \nL 18.3125 18.015625 \nQ 18.3125 11.328125 20.140625 9.421875 \nQ 21.96875 7.515625 27.59375 7.515625 \nL 36.8125 7.515625 \nL 36.8125 0 \nL 27.59375 0 \nQ 17.1875 0 13.234375 3.875 \nQ 9.28125 7.765625 9.28125 18.015625 \nL 9.28125 47.703125 \nL 2.6875 47.703125 \nL 2.6875 54.6875 \nL 9.28125 54.6875 \nL 9.28125 70.21875 \nz\n\" id=\"DejaVuSans-116\"/>\n      <path d=\"M 32.171875 -5.078125 \nQ 28.375 -14.84375 24.75 -17.8125 \nQ 21.140625 -20.796875 15.09375 -20.796875 \nL 7.90625 -20.796875 \nL 7.90625 -13.28125 \nL 13.1875 -13.28125 \nQ 16.890625 -13.28125 18.9375 -11.515625 \nQ 21 -9.765625 23.484375 -3.21875 \nL 25.09375 0.875 \nL 2.984375 54.6875 \nL 12.5 54.6875 \nL 29.59375 11.921875 \nL 46.6875 54.6875 \nL 56.203125 54.6875 \nz\n\" id=\"DejaVuSans-121\"/>\n     </defs>\n     <g transform=\"translate(188.054688 268.034687)scale(0.1 -0.1)\">\n      <use xlink:href=\"#DejaVuSans-69\"/>\n      <use x=\"63.183594\" xlink:href=\"#DejaVuSans-113\"/>\n      <use x=\"126.660156\" xlink:href=\"#DejaVuSans-117\"/>\n      <use x=\"190.039062\" xlink:href=\"#DejaVuSans-105\"/>\n      <use x=\"217.822266\" xlink:href=\"#DejaVuSans-116\"/>\n      <use x=\"257.03125\" xlink:href=\"#DejaVuSans-121\"/>\n     </g>\n    </g>\n   </g>\n   <g id=\"matplotlib.axis_2\">\n    <g id=\"ytick_1\">\n     <g id=\"line2d_7\">\n      <defs>\n       <path d=\"M 0 0 \nL -3.5 0 \n\" id=\"m8554e49afe\" style=\"stroke:#000000;stroke-width:0.8;\"/>\n      </defs>\n      <g>\n       <use style=\"stroke:#000000;stroke-width:0.8;\" x=\"36.465625\" xlink:href=\"#m8554e49afe\" y=\"239.758125\"/>\n      </g>\n     </g>\n     <g id=\"text_8\">\n      <!-- 0.00 -->\n      <defs>\n       <path d=\"M 10.6875 12.40625 \nL 21 12.40625 \nL 21 0 \nL 10.6875 0 \nz\n\" id=\"DejaVuSans-46\"/>\n      </defs>\n      <g transform=\"translate(7.2 243.557344)scale(0.1 -0.1)\">\n       <use xlink:href=\"#DejaVuSans-48\"/>\n       <use x=\"63.623047\" xlink:href=\"#DejaVuSans-46\"/>\n       <use x=\"95.410156\" xlink:href=\"#DejaVuSans-48\"/>\n       <use x=\"159.033203\" xlink:href=\"#DejaVuSans-48\"/>\n      </g>\n     </g>\n    </g>\n    <g id=\"ytick_2\">\n     <g id=\"line2d_8\">\n      <g>\n       <use style=\"stroke:#000000;stroke-width:0.8;\" x=\"36.465625\" xlink:href=\"#m8554e49afe\" y=\"204.876692\"/>\n      </g>\n     </g>\n     <g id=\"text_9\">\n      <!-- 0.01 -->\n      <g transform=\"translate(7.2 208.67591)scale(0.1 -0.1)\">\n       <use xlink:href=\"#DejaVuSans-48\"/>\n       <use x=\"63.623047\" xlink:href=\"#DejaVuSans-46\"/>\n       <use x=\"95.410156\" xlink:href=\"#DejaVuSans-48\"/>\n       <use x=\"159.033203\" xlink:href=\"#DejaVuSans-49\"/>\n      </g>\n     </g>\n    </g>\n    <g id=\"ytick_3\">\n     <g id=\"line2d_9\">\n      <g>\n       <use style=\"stroke:#000000;stroke-width:0.8;\" x=\"36.465625\" xlink:href=\"#m8554e49afe\" y=\"169.995258\"/>\n      </g>\n     </g>\n     <g id=\"text_10\">\n      <!-- 0.02 -->\n      <defs>\n       <path d=\"M 19.1875 8.296875 \nL 53.609375 8.296875 \nL 53.609375 0 \nL 7.328125 0 \nL 7.328125 8.296875 \nQ 12.9375 14.109375 22.625 23.890625 \nQ 32.328125 33.6875 34.8125 36.53125 \nQ 39.546875 41.84375 41.421875 45.53125 \nQ 43.3125 49.21875 43.3125 52.78125 \nQ 43.3125 58.59375 39.234375 62.25 \nQ 35.15625 65.921875 28.609375 65.921875 \nQ 23.96875 65.921875 18.8125 64.3125 \nQ 13.671875 62.703125 7.8125 59.421875 \nL 7.8125 69.390625 \nQ 13.765625 71.78125 18.9375 73 \nQ 24.125 74.21875 28.421875 74.21875 \nQ 39.75 74.21875 46.484375 68.546875 \nQ 53.21875 62.890625 53.21875 53.421875 \nQ 53.21875 48.921875 51.53125 44.890625 \nQ 49.859375 40.875 45.40625 35.40625 \nQ 44.1875 33.984375 37.640625 27.21875 \nQ 31.109375 20.453125 19.1875 8.296875 \nz\n\" id=\"DejaVuSans-50\"/>\n      </defs>\n      <g transform=\"translate(7.2 173.794477)scale(0.1 -0.1)\">\n       <use xlink:href=\"#DejaVuSans-48\"/>\n       <use x=\"63.623047\" xlink:href=\"#DejaVuSans-46\"/>\n       <use x=\"95.410156\" xlink:href=\"#DejaVuSans-48\"/>\n       <use x=\"159.033203\" xlink:href=\"#DejaVuSans-50\"/>\n      </g>\n     </g>\n    </g>\n    <g id=\"ytick_4\">\n     <g id=\"line2d_10\">\n      <g>\n       <use style=\"stroke:#000000;stroke-width:0.8;\" x=\"36.465625\" xlink:href=\"#m8554e49afe\" y=\"135.113825\"/>\n      </g>\n     </g>\n     <g id=\"text_11\">\n      <!-- 0.03 -->\n      <defs>\n       <path d=\"M 40.578125 39.3125 \nQ 47.65625 37.796875 51.625 33 \nQ 55.609375 28.21875 55.609375 21.1875 \nQ 55.609375 10.40625 48.1875 4.484375 \nQ 40.765625 -1.421875 27.09375 -1.421875 \nQ 22.515625 -1.421875 17.65625 -0.515625 \nQ 12.796875 0.390625 7.625 2.203125 \nL 7.625 11.71875 \nQ 11.71875 9.328125 16.59375 8.109375 \nQ 21.484375 6.890625 26.8125 6.890625 \nQ 36.078125 6.890625 40.9375 10.546875 \nQ 45.796875 14.203125 45.796875 21.1875 \nQ 45.796875 27.640625 41.28125 31.265625 \nQ 36.765625 34.90625 28.71875 34.90625 \nL 20.21875 34.90625 \nL 20.21875 43.015625 \nL 29.109375 43.015625 \nQ 36.375 43.015625 40.234375 45.921875 \nQ 44.09375 48.828125 44.09375 54.296875 \nQ 44.09375 59.90625 40.109375 62.90625 \nQ 36.140625 65.921875 28.71875 65.921875 \nQ 24.65625 65.921875 20.015625 65.03125 \nQ 15.375 64.15625 9.8125 62.3125 \nL 9.8125 71.09375 \nQ 15.4375 72.65625 20.34375 73.4375 \nQ 25.25 74.21875 29.59375 74.21875 \nQ 40.828125 74.21875 47.359375 69.109375 \nQ 53.90625 64.015625 53.90625 55.328125 \nQ 53.90625 49.265625 50.4375 45.09375 \nQ 46.96875 40.921875 40.578125 39.3125 \nz\n\" id=\"DejaVuSans-51\"/>\n      </defs>\n      <g transform=\"translate(7.2 138.913044)scale(0.1 -0.1)\">\n       <use xlink:href=\"#DejaVuSans-48\"/>\n       <use x=\"63.623047\" xlink:href=\"#DejaVuSans-46\"/>\n       <use x=\"95.410156\" xlink:href=\"#DejaVuSans-48\"/>\n       <use x=\"159.033203\" xlink:href=\"#DejaVuSans-51\"/>\n      </g>\n     </g>\n    </g>\n    <g id=\"ytick_5\">\n     <g id=\"line2d_11\">\n      <g>\n       <use style=\"stroke:#000000;stroke-width:0.8;\" x=\"36.465625\" xlink:href=\"#m8554e49afe\" y=\"100.232392\"/>\n      </g>\n     </g>\n     <g id=\"text_12\">\n      <!-- 0.04 -->\n      <defs>\n       <path d=\"M 37.796875 64.3125 \nL 12.890625 25.390625 \nL 37.796875 25.390625 \nz\nM 35.203125 72.90625 \nL 47.609375 72.90625 \nL 47.609375 25.390625 \nL 58.015625 25.390625 \nL 58.015625 17.1875 \nL 47.609375 17.1875 \nL 47.609375 0 \nL 37.796875 0 \nL 37.796875 17.1875 \nL 4.890625 17.1875 \nL 4.890625 26.703125 \nz\n\" id=\"DejaVuSans-52\"/>\n      </defs>\n      <g transform=\"translate(7.2 104.03161)scale(0.1 -0.1)\">\n       <use xlink:href=\"#DejaVuSans-48\"/>\n       <use x=\"63.623047\" xlink:href=\"#DejaVuSans-46\"/>\n       <use x=\"95.410156\" xlink:href=\"#DejaVuSans-48\"/>\n       <use x=\"159.033203\" xlink:href=\"#DejaVuSans-52\"/>\n      </g>\n     </g>\n    </g>\n    <g id=\"ytick_6\">\n     <g id=\"line2d_12\">\n      <g>\n       <use style=\"stroke:#000000;stroke-width:0.8;\" x=\"36.465625\" xlink:href=\"#m8554e49afe\" y=\"65.350958\"/>\n      </g>\n     </g>\n     <g id=\"text_13\">\n      <!-- 0.05 -->\n      <g transform=\"translate(7.2 69.150177)scale(0.1 -0.1)\">\n       <use xlink:href=\"#DejaVuSans-48\"/>\n       <use x=\"63.623047\" xlink:href=\"#DejaVuSans-46\"/>\n       <use x=\"95.410156\" xlink:href=\"#DejaVuSans-48\"/>\n       <use x=\"159.033203\" xlink:href=\"#DejaVuSans-53\"/>\n      </g>\n     </g>\n    </g>\n    <g id=\"ytick_7\">\n     <g id=\"line2d_13\">\n      <g>\n       <use style=\"stroke:#000000;stroke-width:0.8;\" x=\"36.465625\" xlink:href=\"#m8554e49afe\" y=\"30.469525\"/>\n      </g>\n     </g>\n     <g id=\"text_14\">\n      <!-- 0.06 -->\n      <g transform=\"translate(7.2 34.268744)scale(0.1 -0.1)\">\n       <use xlink:href=\"#DejaVuSans-48\"/>\n       <use x=\"63.623047\" xlink:href=\"#DejaVuSans-46\"/>\n       <use x=\"95.410156\" xlink:href=\"#DejaVuSans-48\"/>\n       <use x=\"159.033203\" xlink:href=\"#DejaVuSans-54\"/>\n      </g>\n     </g>\n    </g>\n   </g>\n   <g id=\"patch_103\">\n    <path d=\"M 36.465625 239.758125 \nL 36.465625 22.318125 \n\" style=\"fill:none;stroke:#000000;stroke-linecap:square;stroke-linejoin:miter;stroke-width:0.8;\"/>\n   </g>\n   <g id=\"patch_104\">\n    <path d=\"M 371.265625 239.758125 \nL 371.265625 22.318125 \n\" style=\"fill:none;stroke:#000000;stroke-linecap:square;stroke-linejoin:miter;stroke-width:0.8;\"/>\n   </g>\n   <g id=\"patch_105\">\n    <path d=\"M 36.465625 239.758125 \nL 371.265625 239.758125 \n\" style=\"fill:none;stroke:#000000;stroke-linecap:square;stroke-linejoin:miter;stroke-width:0.8;\"/>\n   </g>\n   <g id=\"patch_106\">\n    <path d=\"M 36.465625 22.318125 \nL 371.265625 22.318125 \n\" style=\"fill:none;stroke:#000000;stroke-linecap:square;stroke-linejoin:miter;stroke-width:0.8;\"/>\n   </g>\n   <g id=\"text_15\">\n    <!-- Empirical Probability Density Function for with NN strategy -->\n    <defs>\n     <path d=\"M 52 44.1875 \nQ 55.375 50.25 60.0625 53.125 \nQ 64.75 56 71.09375 56 \nQ 79.640625 56 84.28125 50.015625 \nQ 88.921875 44.046875 88.921875 33.015625 \nL 88.921875 0 \nL 79.890625 0 \nL 79.890625 32.71875 \nQ 79.890625 40.578125 77.09375 44.375 \nQ 74.3125 48.1875 68.609375 48.1875 \nQ 61.625 48.1875 57.5625 43.546875 \nQ 53.515625 38.921875 53.515625 30.90625 \nL 53.515625 0 \nL 44.484375 0 \nL 44.484375 32.71875 \nQ 44.484375 40.625 41.703125 44.40625 \nQ 38.921875 48.1875 33.109375 48.1875 \nQ 26.21875 48.1875 22.15625 43.53125 \nQ 18.109375 38.875 18.109375 30.90625 \nL 18.109375 0 \nL 9.078125 0 \nL 9.078125 54.6875 \nL 18.109375 54.6875 \nL 18.109375 46.1875 \nQ 21.1875 51.21875 25.484375 53.609375 \nQ 29.78125 56 35.6875 56 \nQ 41.65625 56 45.828125 52.96875 \nQ 50 49.953125 52 44.1875 \nz\n\" id=\"DejaVuSans-109\"/>\n     <path d=\"M 18.109375 8.203125 \nL 18.109375 -20.796875 \nL 9.078125 -20.796875 \nL 9.078125 54.6875 \nL 18.109375 54.6875 \nL 18.109375 46.390625 \nQ 20.953125 51.265625 25.265625 53.625 \nQ 29.59375 56 35.59375 56 \nQ 45.5625 56 51.78125 48.09375 \nQ 58.015625 40.1875 58.015625 27.296875 \nQ 58.015625 14.40625 51.78125 6.484375 \nQ 45.5625 -1.421875 35.59375 -1.421875 \nQ 29.59375 -1.421875 25.265625 0.953125 \nQ 20.953125 3.328125 18.109375 8.203125 \nz\nM 48.6875 27.296875 \nQ 48.6875 37.203125 44.609375 42.84375 \nQ 40.53125 48.484375 33.40625 48.484375 \nQ 26.265625 48.484375 22.1875 42.84375 \nQ 18.109375 37.203125 18.109375 27.296875 \nQ 18.109375 17.390625 22.1875 11.75 \nQ 26.265625 6.109375 33.40625 6.109375 \nQ 40.53125 6.109375 44.609375 11.75 \nQ 48.6875 17.390625 48.6875 27.296875 \nz\n\" id=\"DejaVuSans-112\"/>\n     <path d=\"M 41.109375 46.296875 \nQ 39.59375 47.171875 37.8125 47.578125 \nQ 36.03125 48 33.890625 48 \nQ 26.265625 48 22.1875 43.046875 \nQ 18.109375 38.09375 18.109375 28.8125 \nL 18.109375 0 \nL 9.078125 0 \nL 9.078125 54.6875 \nL 18.109375 54.6875 \nL 18.109375 46.1875 \nQ 20.953125 51.171875 25.484375 53.578125 \nQ 30.03125 56 36.53125 56 \nQ 37.453125 56 38.578125 55.875 \nQ 39.703125 55.765625 41.0625 55.515625 \nz\n\" id=\"DejaVuSans-114\"/>\n     <path d=\"M 48.78125 52.59375 \nL 48.78125 44.1875 \nQ 44.96875 46.296875 41.140625 47.34375 \nQ 37.3125 48.390625 33.40625 48.390625 \nQ 24.65625 48.390625 19.8125 42.84375 \nQ 14.984375 37.3125 14.984375 27.296875 \nQ 14.984375 17.28125 19.8125 11.734375 \nQ 24.65625 6.203125 33.40625 6.203125 \nQ 37.3125 6.203125 41.140625 7.25 \nQ 44.96875 8.296875 48.78125 10.40625 \nL 48.78125 2.09375 \nQ 45.015625 0.34375 40.984375 -0.53125 \nQ 36.96875 -1.421875 32.421875 -1.421875 \nQ 20.0625 -1.421875 12.78125 6.34375 \nQ 5.515625 14.109375 5.515625 27.296875 \nQ 5.515625 40.671875 12.859375 48.328125 \nQ 20.21875 56 33.015625 56 \nQ 37.15625 56 41.109375 55.140625 \nQ 45.0625 54.296875 48.78125 52.59375 \nz\n\" id=\"DejaVuSans-99\"/>\n     <path d=\"M 34.28125 27.484375 \nQ 23.390625 27.484375 19.1875 25 \nQ 14.984375 22.515625 14.984375 16.5 \nQ 14.984375 11.71875 18.140625 8.90625 \nQ 21.296875 6.109375 26.703125 6.109375 \nQ 34.1875 6.109375 38.703125 11.40625 \nQ 43.21875 16.703125 43.21875 25.484375 \nL 43.21875 27.484375 \nz\nM 52.203125 31.203125 \nL 52.203125 0 \nL 43.21875 0 \nL 43.21875 8.296875 \nQ 40.140625 3.328125 35.546875 0.953125 \nQ 30.953125 -1.421875 24.3125 -1.421875 \nQ 15.921875 -1.421875 10.953125 3.296875 \nQ 6 8.015625 6 15.921875 \nQ 6 25.140625 12.171875 29.828125 \nQ 18.359375 34.515625 30.609375 34.515625 \nL 43.21875 34.515625 \nL 43.21875 35.40625 \nQ 43.21875 41.609375 39.140625 45 \nQ 35.0625 48.390625 27.6875 48.390625 \nQ 23 48.390625 18.546875 47.265625 \nQ 14.109375 46.140625 10.015625 43.890625 \nL 10.015625 52.203125 \nQ 14.9375 54.109375 19.578125 55.046875 \nQ 24.21875 56 28.609375 56 \nQ 40.484375 56 46.34375 49.84375 \nQ 52.203125 43.703125 52.203125 31.203125 \nz\n\" id=\"DejaVuSans-97\"/>\n     <path d=\"M 9.421875 75.984375 \nL 18.40625 75.984375 \nL 18.40625 0 \nL 9.421875 0 \nz\n\" id=\"DejaVuSans-108\"/>\n     <path id=\"DejaVuSans-32\"/>\n     <path d=\"M 19.671875 64.796875 \nL 19.671875 37.40625 \nL 32.078125 37.40625 \nQ 38.96875 37.40625 42.71875 40.96875 \nQ 46.484375 44.53125 46.484375 51.125 \nQ 46.484375 57.671875 42.71875 61.234375 \nQ 38.96875 64.796875 32.078125 64.796875 \nz\nM 9.8125 72.90625 \nL 32.078125 72.90625 \nQ 44.34375 72.90625 50.609375 67.359375 \nQ 56.890625 61.8125 56.890625 51.125 \nQ 56.890625 40.328125 50.609375 34.8125 \nQ 44.34375 29.296875 32.078125 29.296875 \nL 19.671875 29.296875 \nL 19.671875 0 \nL 9.8125 0 \nz\n\" id=\"DejaVuSans-80\"/>\n     <path d=\"M 30.609375 48.390625 \nQ 23.390625 48.390625 19.1875 42.75 \nQ 14.984375 37.109375 14.984375 27.296875 \nQ 14.984375 17.484375 19.15625 11.84375 \nQ 23.34375 6.203125 30.609375 6.203125 \nQ 37.796875 6.203125 41.984375 11.859375 \nQ 46.1875 17.53125 46.1875 27.296875 \nQ 46.1875 37.015625 41.984375 42.703125 \nQ 37.796875 48.390625 30.609375 48.390625 \nz\nM 30.609375 56 \nQ 42.328125 56 49.015625 48.375 \nQ 55.71875 40.765625 55.71875 27.296875 \nQ 55.71875 13.875 49.015625 6.21875 \nQ 42.328125 -1.421875 30.609375 -1.421875 \nQ 18.84375 -1.421875 12.171875 6.21875 \nQ 5.515625 13.875 5.515625 27.296875 \nQ 5.515625 40.765625 12.171875 48.375 \nQ 18.84375 56 30.609375 56 \nz\n\" id=\"DejaVuSans-111\"/>\n     <path d=\"M 48.6875 27.296875 \nQ 48.6875 37.203125 44.609375 42.84375 \nQ 40.53125 48.484375 33.40625 48.484375 \nQ 26.265625 48.484375 22.1875 42.84375 \nQ 18.109375 37.203125 18.109375 27.296875 \nQ 18.109375 17.390625 22.1875 11.75 \nQ 26.265625 6.109375 33.40625 6.109375 \nQ 40.53125 6.109375 44.609375 11.75 \nQ 48.6875 17.390625 48.6875 27.296875 \nz\nM 18.109375 46.390625 \nQ 20.953125 51.265625 25.265625 53.625 \nQ 29.59375 56 35.59375 56 \nQ 45.5625 56 51.78125 48.09375 \nQ 58.015625 40.1875 58.015625 27.296875 \nQ 58.015625 14.40625 51.78125 6.484375 \nQ 45.5625 -1.421875 35.59375 -1.421875 \nQ 29.59375 -1.421875 25.265625 0.953125 \nQ 20.953125 3.328125 18.109375 8.203125 \nL 18.109375 0 \nL 9.078125 0 \nL 9.078125 75.984375 \nL 18.109375 75.984375 \nz\n\" id=\"DejaVuSans-98\"/>\n     <path d=\"M 19.671875 64.796875 \nL 19.671875 8.109375 \nL 31.59375 8.109375 \nQ 46.6875 8.109375 53.6875 14.9375 \nQ 60.6875 21.78125 60.6875 36.53125 \nQ 60.6875 51.171875 53.6875 57.984375 \nQ 46.6875 64.796875 31.59375 64.796875 \nz\nM 9.8125 72.90625 \nL 30.078125 72.90625 \nQ 51.265625 72.90625 61.171875 64.09375 \nQ 71.09375 55.28125 71.09375 36.53125 \nQ 71.09375 17.671875 61.125 8.828125 \nQ 51.171875 0 30.078125 0 \nL 9.8125 0 \nz\n\" id=\"DejaVuSans-68\"/>\n     <path d=\"M 56.203125 29.59375 \nL 56.203125 25.203125 \nL 14.890625 25.203125 \nQ 15.484375 15.921875 20.484375 11.0625 \nQ 25.484375 6.203125 34.421875 6.203125 \nQ 39.59375 6.203125 44.453125 7.46875 \nQ 49.3125 8.734375 54.109375 11.28125 \nL 54.109375 2.78125 \nQ 49.265625 0.734375 44.1875 -0.34375 \nQ 39.109375 -1.421875 33.890625 -1.421875 \nQ 20.796875 -1.421875 13.15625 6.1875 \nQ 5.515625 13.8125 5.515625 26.8125 \nQ 5.515625 40.234375 12.765625 48.109375 \nQ 20.015625 56 32.328125 56 \nQ 43.359375 56 49.78125 48.890625 \nQ 56.203125 41.796875 56.203125 29.59375 \nz\nM 47.21875 32.234375 \nQ 47.125 39.59375 43.09375 43.984375 \nQ 39.0625 48.390625 32.421875 48.390625 \nQ 24.90625 48.390625 20.390625 44.140625 \nQ 15.875 39.890625 15.1875 32.171875 \nz\n\" id=\"DejaVuSans-101\"/>\n     <path d=\"M 54.890625 33.015625 \nL 54.890625 0 \nL 45.90625 0 \nL 45.90625 32.71875 \nQ 45.90625 40.484375 42.875 44.328125 \nQ 39.84375 48.1875 33.796875 48.1875 \nQ 26.515625 48.1875 22.3125 43.546875 \nQ 18.109375 38.921875 18.109375 30.90625 \nL 18.109375 0 \nL 9.078125 0 \nL 9.078125 54.6875 \nL 18.109375 54.6875 \nL 18.109375 46.1875 \nQ 21.34375 51.125 25.703125 53.5625 \nQ 30.078125 56 35.796875 56 \nQ 45.21875 56 50.046875 50.171875 \nQ 54.890625 44.34375 54.890625 33.015625 \nz\n\" id=\"DejaVuSans-110\"/>\n     <path d=\"M 44.28125 53.078125 \nL 44.28125 44.578125 \nQ 40.484375 46.53125 36.375 47.5 \nQ 32.28125 48.484375 27.875 48.484375 \nQ 21.1875 48.484375 17.84375 46.4375 \nQ 14.5 44.390625 14.5 40.28125 \nQ 14.5 37.15625 16.890625 35.375 \nQ 19.28125 33.59375 26.515625 31.984375 \nL 29.59375 31.296875 \nQ 39.15625 29.25 43.1875 25.515625 \nQ 47.21875 21.78125 47.21875 15.09375 \nQ 47.21875 7.46875 41.1875 3.015625 \nQ 35.15625 -1.421875 24.609375 -1.421875 \nQ 20.21875 -1.421875 15.453125 -0.5625 \nQ 10.6875 0.296875 5.421875 2 \nL 5.421875 11.28125 \nQ 10.40625 8.6875 15.234375 7.390625 \nQ 20.0625 6.109375 24.8125 6.109375 \nQ 31.15625 6.109375 34.5625 8.28125 \nQ 37.984375 10.453125 37.984375 14.40625 \nQ 37.984375 18.0625 35.515625 20.015625 \nQ 33.0625 21.96875 24.703125 23.78125 \nL 21.578125 24.515625 \nQ 13.234375 26.265625 9.515625 29.90625 \nQ 5.8125 33.546875 5.8125 39.890625 \nQ 5.8125 47.609375 11.28125 51.796875 \nQ 16.75 56 26.8125 56 \nQ 31.78125 56 36.171875 55.265625 \nQ 40.578125 54.546875 44.28125 53.078125 \nz\n\" id=\"DejaVuSans-115\"/>\n     <path d=\"M 9.8125 72.90625 \nL 51.703125 72.90625 \nL 51.703125 64.59375 \nL 19.671875 64.59375 \nL 19.671875 43.109375 \nL 48.578125 43.109375 \nL 48.578125 34.8125 \nL 19.671875 34.8125 \nL 19.671875 0 \nL 9.8125 0 \nz\n\" id=\"DejaVuSans-70\"/>\n     <path d=\"M 37.109375 75.984375 \nL 37.109375 68.5 \nL 28.515625 68.5 \nQ 23.6875 68.5 21.796875 66.546875 \nQ 19.921875 64.59375 19.921875 59.515625 \nL 19.921875 54.6875 \nL 34.71875 54.6875 \nL 34.71875 47.703125 \nL 19.921875 47.703125 \nL 19.921875 0 \nL 10.890625 0 \nL 10.890625 47.703125 \nL 2.296875 47.703125 \nL 2.296875 54.6875 \nL 10.890625 54.6875 \nL 10.890625 58.5 \nQ 10.890625 67.625 15.140625 71.796875 \nQ 19.390625 75.984375 28.609375 75.984375 \nz\n\" id=\"DejaVuSans-102\"/>\n     <path d=\"M 4.203125 54.6875 \nL 13.1875 54.6875 \nL 24.421875 12.015625 \nL 35.59375 54.6875 \nL 46.1875 54.6875 \nL 57.421875 12.015625 \nL 68.609375 54.6875 \nL 77.59375 54.6875 \nL 63.28125 0 \nL 52.6875 0 \nL 40.921875 44.828125 \nL 29.109375 0 \nL 18.5 0 \nz\n\" id=\"DejaVuSans-119\"/>\n     <path d=\"M 54.890625 33.015625 \nL 54.890625 0 \nL 45.90625 0 \nL 45.90625 32.71875 \nQ 45.90625 40.484375 42.875 44.328125 \nQ 39.84375 48.1875 33.796875 48.1875 \nQ 26.515625 48.1875 22.3125 43.546875 \nQ 18.109375 38.921875 18.109375 30.90625 \nL 18.109375 0 \nL 9.078125 0 \nL 9.078125 75.984375 \nL 18.109375 75.984375 \nL 18.109375 46.1875 \nQ 21.34375 51.125 25.703125 53.5625 \nQ 30.078125 56 35.796875 56 \nQ 45.21875 56 50.046875 50.171875 \nQ 54.890625 44.34375 54.890625 33.015625 \nz\n\" id=\"DejaVuSans-104\"/>\n     <path d=\"M 9.8125 72.90625 \nL 23.09375 72.90625 \nL 55.421875 11.921875 \nL 55.421875 72.90625 \nL 64.984375 72.90625 \nL 64.984375 0 \nL 51.703125 0 \nL 19.390625 60.984375 \nL 19.390625 0 \nL 9.8125 0 \nz\n\" id=\"DejaVuSans-78\"/>\n     <path d=\"M 45.40625 27.984375 \nQ 45.40625 37.75 41.375 43.109375 \nQ 37.359375 48.484375 30.078125 48.484375 \nQ 22.859375 48.484375 18.828125 43.109375 \nQ 14.796875 37.75 14.796875 27.984375 \nQ 14.796875 18.265625 18.828125 12.890625 \nQ 22.859375 7.515625 30.078125 7.515625 \nQ 37.359375 7.515625 41.375 12.890625 \nQ 45.40625 18.265625 45.40625 27.984375 \nz\nM 54.390625 6.78125 \nQ 54.390625 -7.171875 48.1875 -13.984375 \nQ 42 -20.796875 29.203125 -20.796875 \nQ 24.46875 -20.796875 20.265625 -20.09375 \nQ 16.0625 -19.390625 12.109375 -17.921875 \nL 12.109375 -9.1875 \nQ 16.0625 -11.328125 19.921875 -12.34375 \nQ 23.78125 -13.375 27.78125 -13.375 \nQ 36.625 -13.375 41.015625 -8.765625 \nQ 45.40625 -4.15625 45.40625 5.171875 \nL 45.40625 9.625 \nQ 42.625 4.78125 38.28125 2.390625 \nQ 33.9375 0 27.875 0 \nQ 17.828125 0 11.671875 7.65625 \nQ 5.515625 15.328125 5.515625 27.984375 \nQ 5.515625 40.671875 11.671875 48.328125 \nQ 17.828125 56 27.875 56 \nQ 33.9375 56 38.28125 53.609375 \nQ 42.625 51.21875 45.40625 46.390625 \nL 45.40625 54.6875 \nL 54.390625 54.6875 \nz\n\" id=\"DejaVuSans-103\"/>\n    </defs>\n    <g transform=\"translate(27.605313 16.318125)scale(0.12 -0.12)\">\n     <use xlink:href=\"#DejaVuSans-69\"/>\n     <use x=\"63.183594\" xlink:href=\"#DejaVuSans-109\"/>\n     <use x=\"160.595703\" xlink:href=\"#DejaVuSans-112\"/>\n     <use x=\"224.072266\" xlink:href=\"#DejaVuSans-105\"/>\n     <use x=\"251.855469\" xlink:href=\"#DejaVuSans-114\"/>\n     <use x=\"292.96875\" xlink:href=\"#DejaVuSans-105\"/>\n     <use x=\"320.751953\" xlink:href=\"#DejaVuSans-99\"/>\n     <use x=\"375.732422\" xlink:href=\"#DejaVuSans-97\"/>\n     <use x=\"437.011719\" xlink:href=\"#DejaVuSans-108\"/>\n     <use x=\"464.794922\" xlink:href=\"#DejaVuSans-32\"/>\n     <use x=\"496.582031\" xlink:href=\"#DejaVuSans-80\"/>\n     <use x=\"555.134766\" xlink:href=\"#DejaVuSans-114\"/>\n     <use x=\"593.998047\" xlink:href=\"#DejaVuSans-111\"/>\n     <use x=\"655.179688\" xlink:href=\"#DejaVuSans-98\"/>\n     <use x=\"718.65625\" xlink:href=\"#DejaVuSans-97\"/>\n     <use x=\"779.935547\" xlink:href=\"#DejaVuSans-98\"/>\n     <use x=\"843.412109\" xlink:href=\"#DejaVuSans-105\"/>\n     <use x=\"871.195312\" xlink:href=\"#DejaVuSans-108\"/>\n     <use x=\"898.978516\" xlink:href=\"#DejaVuSans-105\"/>\n     <use x=\"926.761719\" xlink:href=\"#DejaVuSans-116\"/>\n     <use x=\"965.970703\" xlink:href=\"#DejaVuSans-121\"/>\n     <use x=\"1025.150391\" xlink:href=\"#DejaVuSans-32\"/>\n     <use x=\"1056.9375\" xlink:href=\"#DejaVuSans-68\"/>\n     <use x=\"1133.939453\" xlink:href=\"#DejaVuSans-101\"/>\n     <use x=\"1195.462891\" xlink:href=\"#DejaVuSans-110\"/>\n     <use x=\"1258.841797\" xlink:href=\"#DejaVuSans-115\"/>\n     <use x=\"1310.941406\" xlink:href=\"#DejaVuSans-105\"/>\n     <use x=\"1338.724609\" xlink:href=\"#DejaVuSans-116\"/>\n     <use x=\"1377.933594\" xlink:href=\"#DejaVuSans-121\"/>\n     <use x=\"1437.113281\" xlink:href=\"#DejaVuSans-32\"/>\n     <use x=\"1468.900391\" xlink:href=\"#DejaVuSans-70\"/>\n     <use x=\"1520.919922\" xlink:href=\"#DejaVuSans-117\"/>\n     <use x=\"1584.298828\" xlink:href=\"#DejaVuSans-110\"/>\n     <use x=\"1647.677734\" xlink:href=\"#DejaVuSans-99\"/>\n     <use x=\"1702.658203\" xlink:href=\"#DejaVuSans-116\"/>\n     <use x=\"1741.867188\" xlink:href=\"#DejaVuSans-105\"/>\n     <use x=\"1769.650391\" xlink:href=\"#DejaVuSans-111\"/>\n     <use x=\"1830.832031\" xlink:href=\"#DejaVuSans-110\"/>\n     <use x=\"1894.210938\" xlink:href=\"#DejaVuSans-32\"/>\n     <use x=\"1925.998047\" xlink:href=\"#DejaVuSans-102\"/>\n     <use x=\"1961.203125\" xlink:href=\"#DejaVuSans-111\"/>\n     <use x=\"2022.384766\" xlink:href=\"#DejaVuSans-114\"/>\n     <use x=\"2063.498047\" xlink:href=\"#DejaVuSans-32\"/>\n     <use x=\"2095.285156\" xlink:href=\"#DejaVuSans-119\"/>\n     <use x=\"2177.072266\" xlink:href=\"#DejaVuSans-105\"/>\n     <use x=\"2204.855469\" xlink:href=\"#DejaVuSans-116\"/>\n     <use x=\"2244.064453\" xlink:href=\"#DejaVuSans-104\"/>\n     <use x=\"2307.443359\" xlink:href=\"#DejaVuSans-32\"/>\n     <use x=\"2339.230469\" xlink:href=\"#DejaVuSans-78\"/>\n     <use x=\"2414.035156\" xlink:href=\"#DejaVuSans-78\"/>\n     <use x=\"2488.839844\" xlink:href=\"#DejaVuSans-32\"/>\n     <use x=\"2520.626953\" xlink:href=\"#DejaVuSans-115\"/>\n     <use x=\"2572.726562\" xlink:href=\"#DejaVuSans-116\"/>\n     <use x=\"2611.935547\" xlink:href=\"#DejaVuSans-114\"/>\n     <use x=\"2653.048828\" xlink:href=\"#DejaVuSans-97\"/>\n     <use x=\"2714.328125\" xlink:href=\"#DejaVuSans-116\"/>\n     <use x=\"2753.537109\" xlink:href=\"#DejaVuSans-101\"/>\n     <use x=\"2815.060547\" xlink:href=\"#DejaVuSans-103\"/>\n     <use x=\"2878.537109\" xlink:href=\"#DejaVuSans-121\"/>\n    </g>\n   </g>\n  </g>\n </g>\n <defs>\n  <clipPath id=\"pfa3cc500e4\">\n   <rect height=\"217.44\" width=\"334.8\" x=\"36.465625\" y=\"22.318125\"/>\n  </clipPath>\n </defs>\n</svg>\n",
      "image/png": "[encoded data removed]"
     },
     "metadata": {
      "needs_background": "light"
     }
    }
   ],
   "source": [
    "assets, swap_volume =bank_model.predict(xtest) \n",
    "equities_nn = assets[:,-1] -L0 -tf.math.reduce_sum(relu(tf.abs(swap_volume) - assets * spending_limit), axis=-2)* _penalty\n",
    "plt.hist(equities_nn.numpy(),bins=100,density=True,edgecolor='black',alpha=0.7)\n",
    "plt.title(f'Empirical Probability Density Function for with NN strategy, penalty = {_penalty}')\n",
    "plt.xlabel('Equity')\n",
    "plt.show()"
   ]
  },
  {
   "source": [
    "Some interesting results is that penalty size plays a big part in determining the total swap value over time. Try it out by plaing with the data "
   ],
   "cell_type": "markdown",
   "metadata": {}
  },
  {
   "cell_type": "code",
   "execution_count": null,
   "metadata": {},
   "outputs": [],
   "source": [
    "\n",
    "for i in range(100):\n",
    "    plt.plot(swap_volume[i]/assets[i])\n",
    "plt.title(f'The relative swap volume over time, penalty={_penalty}')\n",
    "plt.ylabel('Relative swap volume')\n",
    "plt.xlabel('Month')\n",
    "plt.show()\n",
    "    "
   ]
  },
  {
   "cell_type": "code",
   "execution_count": null,
   "metadata": {},
   "outputs": [],
   "source": []
  },
  {
   "cell_type": "code",
   "execution_count": null,
   "metadata": {},
   "outputs": [],
   "source": [
    "for i in range(100):\n",
    "    plt.plot(assets[i]-L=)\n",
    "plt.title(f'Bank eqity over time, penalty={_penalty}')\n",
    "plt.xlabel('Relative swap volume')\n",
    "plt.xlabel('Month')\n",
    "plt.show()"
   ]
  }
 ],
 "metadata": {
  "kernelspec": {
   "display_name": "Python 3",
   "language": "python",
   "name": "python3"
  },
  "language_info": {
   "codemirror_mode": {
    "name": "ipython",
    "version": 3
   },
   "file_extension": ".py",
   "mimetype": "text/x-python",
   "name": "python",
   "nbconvert_exporter": "python",
   "pygments_lexer": "ipython3",
   "version": "3.9.4-final"
  }
 },
 "nbformat": 4,
 "nbformat_minor": 2
}