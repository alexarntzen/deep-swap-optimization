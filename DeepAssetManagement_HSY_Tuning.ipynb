{
  "nbformat": 4,
  "nbformat_minor": 0,
  "metadata": {
    "accelerator": "GPU",
    "colab": {
      "name": "DeepAssetManagement_HSY (2).ipynb",
      "provenance": [],
      "collapsed_sections": []
    },
    "kernelspec": {
      "display_name": "Python [conda env:deephedge] *",
      "language": "python",
      "name": "conda-env-deephedge-py"
    },
    "language_info": {
      "codemirror_mode": {
        "name": "ipython",
        "version": 3
      },
      "file_extension": ".py",
      "mimetype": "text/x-python",
      "name": "python",
      "nbconvert_exporter": "python",
      "pygments_lexer": "ipython3",
      "version": "3.8.8"
    }
  },
  "cells": [
    {
      "cell_type": "markdown",
      "metadata": {
        "id": "RdV3-n-eluf3"
      },
      "source": [
        "# Simple Fixed Income Market\n",
        "\n",
        "by Thomas Krabichler\n",
        "\n",
        "## Packages"
      ]
    },
    {
      "cell_type": "code",
      "metadata": {
        "id": "reLMEpi8luf8"
      },
      "source": [
        "import matplotlib.pyplot as plt\n",
        "import numpy as np\n",
        "import pandas as pd"
      ],
      "execution_count": 1,
      "outputs": []
    },
    {
      "cell_type": "code",
      "metadata": {
        "id": "dsxjm1KW8_V-"
      },
      "source": [
        "images_dir=''"
      ],
      "execution_count": 2,
      "outputs": []
    },
    {
      "cell_type": "markdown",
      "metadata": {
        "id": "P8brJlbHluf9"
      },
      "source": [
        "## Model Parameters"
      ]
    },
    {
      "cell_type": "code",
      "metadata": {
        "id": "QpfIw_uQluf9"
      },
      "source": [
        "# TIME GRID\n",
        "\n",
        "N=12*20\n",
        "time_grid_plain=np.linspace(0,N,N+1)\n",
        "time_grid_dcc=time_grid_plain/12 # year-count-convention\n",
        "\n",
        "# BALANCE SHEET PARAMETERS\n",
        "\n",
        "# assets\n",
        "A0=100\n",
        "# liabilities (constant deposits)\n",
        "L0=50\n",
        "\n",
        "# control the total swap volume\n",
        "penalty=0.1"
      ],
      "execution_count": 3,
      "outputs": []
    },
    {
      "cell_type": "markdown",
      "metadata": {
        "id": "wxaUh_snluf-"
      },
      "source": [
        "## Objective"
      ]
    },
    {
      "cell_type": "code",
      "metadata": {
        "id": "royDG-7dluf-"
      },
      "source": [
        "# OPTIMIZATION PARAMETERS\n",
        "\n",
        "target_month=120\n",
        "\n",
        "# loss function\n",
        "target_equity=70\n",
        "\n",
        "# size of training and validation set\n",
        "nScenarios=10**3\n",
        "nValidation=10**3"
      ],
      "execution_count": 4,
      "outputs": []
    },
    {
      "cell_type": "markdown",
      "metadata": {
        "id": "nnP98xqqluf_"
      },
      "source": [
        "## Term Structure Model\n",
        "\n",
        "In this section, we rely on historical ECB yield curve data. The mathematical framework of the Svensson parameterisation and the principal component analysis can be found in the Sections 3.3.3 - 3.4 of the textbook «Term Structure Models» by Damir Filipovic. Please be aware of Proposition 9.5 in the same book."
      ]
    },
    {
      "cell_type": "code",
      "metadata": {
        "id": "hVCzziwTluf_"
      },
      "source": [
        "# YIELD CURVE PARAMETERS\n",
        "\n",
        "index_yc=2135 # 31-Dec-2012\n",
        "\n",
        "# YIELD CURVE DYNAMICS\n",
        "\n",
        "# data import\n",
        "path=''\n",
        "ECB=pd.read_csv(images_dir+'201231_ECB.csv')\n",
        "\n",
        "# zero-coupon bond prices for maturity T in years and Svensson parameter z\n",
        "def ZCB_prices(T,z):\n",
        "    return np.exp(-1/100*(z[0]*T-(z[1]/z[4]+z[2]/z[4]**2)*(np.exp(-z[4]*T)-1)-\\\n",
        "        z[2]/z[4]*T*np.exp(-z[4]*T)-z[3]/z[5]*T*np.exp(-z[5]*T)-z[3]/z[5]**2*\\\n",
        "        (np.exp(-z[5]*T)-1)))\n",
        "\n",
        "# historical discount factors for a time grid\n",
        "vec_ZCB_prices=np.vectorize(ZCB_prices,excluded=[1])\n",
        "\n",
        "# yields for historical day i\n",
        "def hist_yc(i,grid=time_grid_dcc[1:],rating='AAA'):\n",
        "    shift=0 if rating=='AAA' else 6\n",
        "    z=[ECB.loc[i,:][1+shift],ECB.loc[i,:][2+shift],ECB.loc[i,:][3+shift]/\\\n",
        "        ECB.loc[i,:][5+shift],ECB.loc[i,:][4+shift]/ECB.loc[i,:][6+shift],1/\\\n",
        "        ECB.loc[i,:][5+shift],1/ECB.loc[i,:][6+shift]]\n",
        "    return np.divide(-np.log(vec_ZCB_prices(grid,z)),grid)\n",
        "\n",
        "# collection of historical yields\n",
        "def vec_hist_yc(i,grid=time_grid_dcc[1:],rating='AAA'):\n",
        "    output=hist_yc(i[0],grid,rating)\n",
        "    for j in i[1:]:\n",
        "        output=np.vstack((output,hist_yc(j,grid,rating)))\n",
        "    return output\n",
        "\n",
        "# transform yields into discount factors\n",
        "def discounting(yields,terms):\n",
        "    return np.exp(-yields*terms)\n",
        "\n",
        "# PCA\n",
        "hist_increments=vec_hist_yc(range(1,index_yc))-vec_hist_yc(range(0,index_yc-1))\n",
        "PCA_mu=np.mean(hist_increments,axis=0)\n",
        "PCA_Q=np.cov(hist_increments,rowvar=False)\n",
        "PCA_lambda,PCA_Lambda=np.linalg.eig(PCA_Q)\n",
        "PCA_lambda,PCA_Lambda=np.real(PCA_lambda),np.real(PCA_Lambda)\n",
        "#print(np.cumsum(PCA_lambda)[:10]/np.sum(PCA_lambda))\n",
        "\n",
        "# generate a new yield curve increment\n",
        "def yc_scn_gen(n=3,PCA_mu=PCA_mu,PCA_Lambda=PCA_Lambda,PCA_lambda=PCA_lambda):\n",
        "    return 22*PCA_mu+np.matmul(PCA_Lambda[:,:n],np.random.multivariate_normal(\\\n",
        "        np.zeros(n),np.diag(22*PCA_lambda[:n])).reshape(n,1)).flatten()\n",
        "\n",
        "# YIELD CURVE OBJECTS\n",
        "\n",
        "class yc:\n",
        "    def __init__(self,yields):\n",
        "        self.yields=yields\n",
        "        self.dfs=discounting(yields,time_grid_dcc[1:])\n",
        "    \n",
        "    def cpn(self,tenor,maturity):\n",
        "        cpn_date = np.arange(tenor,maturity+tenor,tenor)  \n",
        "        cpn_date_df = Y.dfs[cpn_date-1]\n",
        "        return 12 / tenor * (1-Y.dfs[maturity-1]) / np.sum(cpn_date_df)\n",
        "    \n",
        "    def pv(self,cash_flows):\n",
        "        return np.dot(self.dfs,cash_flows)\n",
        "    \n",
        "    def update(self,new_yields):\n",
        "        self.yields=new_yields\n",
        "        self.dfs=discounting(new_yields,time_grid_dcc[1:])"
      ],
      "execution_count": 5,
      "outputs": []
    },
    {
      "cell_type": "code",
      "metadata": {
        "colab": {
          "base_uri": "https://localhost:8080/",
          "height": 295
        },
        "id": "tuvLoUXklugA",
        "outputId": "ad7b9fbe-60c8-4284-93b9-c68ae6a9861f"
      },
      "source": [
        "Y=yc(hist_yc(index_yc))\n",
        "plt.plot(100*Y.yields)\n",
        "plt.title('Yield Curve on '+ECB.iloc[index_yc-1,0])\n",
        "plt.xlabel('term')\n",
        "plt.ylabel('yield in %')\n",
        "plt.show()"
      ],
      "execution_count": 6,
      "outputs": [
        {
          "output_type": "display_data",
          "data": {
            "image/png": "[encoded data removed]",
            "text/plain": [
              "<Figure size 432x288 with 1 Axes>"
            ]
          },
          "metadata": {
            "tags": [],
            "needs_background": "light"
          }
        }
      ]
    },
    {
      "cell_type": "code",
      "metadata": {
        "colab": {
          "base_uri": "https://localhost:8080/",
          "height": 295
        },
        "id": "SciuSq8slugA",
        "outputId": "91cb036d-4ea8-4c35-d509-6bd3da581f06"
      },
      "source": [
        "for k in range(int(1e1)):\n",
        "    plt.plot(Y.yields+target_month*PCA_mu+np.matmul(PCA_Lambda[:,:3],\\\n",
        "        np.random.multivariate_normal(np.zeros(3),np.diag(target_month*\\\n",
        "        PCA_lambda[:3])).reshape(3,1)).flatten())\n",
        "plt.title('Yield Curve Scenarios')\n",
        "plt.xlabel('term')\n",
        "plt.ylabel('yield in %')\n",
        "plt.show()"
      ],
      "execution_count": 7,
      "outputs": [
        {
          "output_type": "display_data",
          "data": {
            "image/png": "[encoded data removed]",
            "text/plain": [
              "<Figure size 432x288 with 1 Axes>"
            ]
          },
          "metadata": {
            "tags": [],
            "needs_background": "light"
          }
        }
      ]
    },
    {
      "cell_type": "markdown",
      "metadata": {
        "id": "sTQ-upSWlugB"
      },
      "source": [
        "## Swap Market\n",
        "\n",
        "For simplicity, swap tenors in either legs are $1m$. The fixed leg is chosen such that swaps trade at par at issuance. E.g., see the section «Valuation of Interest Rate Swaps» in the textbook «Options, Futures,\n",
        "and other Derivatives» by John C. Hull for further details."
      ]
    },
    {
      "cell_type": "code",
      "metadata": {
        "id": "LjamfRISlugB"
      },
      "source": [
        "swap_series=[24,60,120,240]\n",
        "swap_num = len(swap_series)\n",
        "class swap:\n",
        "    def __init__(self,yc,nominal,maturity): #tenor=1\n",
        "        self.yc = yc\n",
        "        self.nominal = nominal\n",
        "        self.maturity = maturity\n",
        "        self.fixed_leg = np.append(np.repeat(yc.cpn(1,self.maturity),\\\n",
        "            self.maturity),np.repeat(np.zeros(1),N-self.maturity))/12\n",
        "        self.fixed_volume = np.append(np.repeat(nominal,\\\n",
        "            self.maturity),np.repeat(np.zeros(1),N-self.maturity))\n",
        "#         self.cash_flows = self.fixed_leg * nominal\n",
        "        \n",
        "    def update(self,steps=1):\n",
        "        self.cash_flows=np.append(self.cash_flows[steps:],np.zeros(steps))\n",
        "\n",
        "def swap_indicator(maturity):\n",
        "    return np.reshape(np.append(np.ones(maturity),np.zeros(N-maturity)),(1,N))"
      ],
      "execution_count": 8,
      "outputs": []
    },
    {
      "cell_type": "code",
      "metadata": {
        "colab": {
          "base_uri": "https://localhost:8080/"
        },
        "id": "jv0ioEnmlugB",
        "outputId": "cb0002a1-1847-4edb-a9ff-6b9b89902ffa"
      },
      "source": [
        "#Test\n",
        "Y = yc(hist_yc(index_yc))\n",
        "s = swap(Y,0.1,240)\n",
        "Y.yields[-1]"
      ],
      "execution_count": 9,
      "outputs": [
        {
          "output_type": "execute_result",
          "data": {
            "text/plain": [
              "0.026313157671808297"
            ]
          },
          "metadata": {
            "tags": []
          },
          "execution_count": 9
        }
      ]
    },
    {
      "cell_type": "markdown",
      "metadata": {
        "id": "zQylz4WwlugC"
      },
      "source": [
        "## Benchmark Strategy of a Retail Bank\n",
        "\n",
        "For the time being (and this can be relaxed), the deposits of the clients are kept constant and bear no interest. The asset side earns the monthly short rate. However, one could do better, if one incorporated swaps into the ecosystem. The current benchmark follows the strategy «doing nothing»."
      ]
    },
    {
      "cell_type": "markdown",
      "metadata": {
        "id": "e6Hwgo0B8_WI"
      },
      "source": [
        "## Bank do nothing "
      ]
    },
    {
      "cell_type": "code",
      "metadata": {
        "id": "8MxQBEEUlugC"
      },
      "source": [
        "def benchmark(nRoutines=nValidation):\n",
        "    np.random.seed(0)\n",
        "    output=np.zeros(nRoutines)\n",
        "    for l in range(nRoutines):\n",
        "        # yield curve\n",
        "        Y = yc(hist_yc(index_yc))\n",
        "        # assets\n",
        "        A = A0\n",
        "        L = L0\n",
        "        for k in range(target_month):\n",
        "            # market updates\n",
        "            A *= np.exp(Y.yields[0]/12)\n",
        "            Y = yc(Y.yields+yc_scn_gen())\n",
        "            E = A - L\n",
        "        output[l] = E\n",
        "    return output"
      ],
      "execution_count": 10,
      "outputs": []
    },
    {
      "cell_type": "code",
      "metadata": {
        "id": "3FTYHrFWLEp_"
      },
      "source": [
        "# output_benchmark = benchmark()\n",
        "# plt.hist(output_benchmark,bins=100,density=True,edgecolor='black',alpha=0.7)\n",
        "# plt.title('Empirical Probability Density Function')\n",
        "# plt.xlabel('Equity')\n",
        "# plt.show()"
      ],
      "execution_count": 11,
      "outputs": []
    },
    {
      "cell_type": "markdown",
      "metadata": {
        "id": "qtrsXaXm8_WJ"
      },
      "source": [
        "## Bank with  swap trade"
      ]
    },
    {
      "cell_type": "code",
      "metadata": {
        "id": "UuD-JVdt8_WJ"
      },
      "source": [
        "def benchmark_swap(nRoutines=nValidation):\n",
        "    np.random.seed(0)\n",
        "    output=np.zeros([nRoutines,target_month+1])\n",
        "    for l in range(nRoutines):\n",
        "        output[l,0] = A0\n",
        "        # yield curve\n",
        "        Y=yc(hist_yc(index_yc))\n",
        "        # assets\n",
        "        A = A0\n",
        "        L = L0\n",
        "        E = A-L\n",
        "        # initial no swap\n",
        "        fixed_cash_flows = np.zeros(N)\n",
        "        swap_volume = np.zeros(N)\n",
        "        for k in range(target_month):\n",
        "            # Buy swap\n",
        "            A_liq = A * 0.9 - swap_volume[k]\n",
        "            for ith, swap_maturity in enumerate(swap_series):\n",
        "                if target_month - k >= swap_maturity:\n",
        "                    swap_nominal = A_liq * 0.05\n",
        "                    s = swap(Y,1,swap_maturity)\n",
        "                    fixed_cash_flows[k:] += s.fixed_leg[:N-k] * swap_nominal\n",
        "                    swap_volume[k:] += s.fixed_volume[:N-k] * swap_nominal\n",
        "            # Market update\n",
        "            A += (A - swap_volume[k])*(np.exp(Y.yields[0]/12)-1) + fixed_cash_flows[k] \n",
        "            E = A-L\n",
        "            Y = yc(Y.yields+yc_scn_gen())\n",
        "            output[l,k+1] = A\n",
        "        \n",
        "    return output"
      ],
      "execution_count": 12,
      "outputs": []
    },
    {
      "cell_type": "code",
      "metadata": {
        "id": "_LewiruT8_WJ"
      },
      "source": [
        "# output_benchmark_swap = benchmark_swap()\n",
        "# helper = output_benchmark_swap[:,-1]-L0\n",
        "# plt.hist(helper,bins=100,density=True,edgecolor='black',alpha=0.7)\n",
        "# plt.title('Empirical Probability Density Function')\n",
        "# plt.xlabel('Equity')\n",
        "# plt.show()"
      ],
      "execution_count": 13,
      "outputs": []
    },
    {
      "cell_type": "markdown",
      "metadata": {
        "id": "88hjxgoKJo8E"
      },
      "source": [
        "# Deep Learning Hyperparameter Tuning"
      ]
    },
    {
      "cell_type": "code",
      "metadata": {
        "colab": {
          "base_uri": "https://localhost:8080/"
        },
        "id": "vMSaudEuIFsy",
        "outputId": "cc80ac74-d567-4e97-db8e-265d57daa51f"
      },
      "source": [
        "!pip install keras-tuner"
      ],
      "execution_count": 25,
      "outputs": [
        {
          "output_type": "stream",
          "text": [
            "Collecting keras-tuner\n",
            "\u001b[?25l  Downloading https://files.pythonhosted.org/packages/20/ec/1ef246787174b1e2bb591c95f29d3c1310070cad877824f907faba3dade9/keras-tuner-1.0.2.tar.gz (62kB)\n",
            "\r\u001b[K     |█████▏                          | 10kB 23.3MB/s eta 0:00:01\r\u001b[K     |██████████▍                     | 20kB 29.5MB/s eta 0:00:01\r\u001b[K     |███████████████▋                | 30kB 33.3MB/s eta 0:00:01\r\u001b[K     |████████████████████▉           | 40kB 29.1MB/s eta 0:00:01\r\u001b[K     |██████████████████████████      | 51kB 30.4MB/s eta 0:00:01\r\u001b[K     |███████████████████████████████▎| 61kB 32.7MB/s eta 0:00:01\r\u001b[K     |████████████████████████████████| 71kB 9.5MB/s \n",
            "\u001b[?25hRequirement already satisfied: packaging in /usr/local/lib/python3.7/dist-packages (from keras-tuner) (20.9)\n",
            "Requirement already satisfied: future in /usr/local/lib/python3.7/dist-packages (from keras-tuner) (0.16.0)\n",
            "Requirement already satisfied: numpy in /usr/local/lib/python3.7/dist-packages (from keras-tuner) (1.19.5)\n",
            "Requirement already satisfied: tabulate in /usr/local/lib/python3.7/dist-packages (from keras-tuner) (0.8.9)\n",
            "Collecting terminaltables\n",
            "  Downloading https://files.pythonhosted.org/packages/9b/c4/4a21174f32f8a7e1104798c445dacdc1d4df86f2f26722767034e4de4bff/terminaltables-3.1.0.tar.gz\n",
            "Collecting colorama\n",
            "  Downloading https://files.pythonhosted.org/packages/44/98/5b86278fbbf250d239ae0ecb724f8572af1c91f4a11edf4d36a206189440/colorama-0.4.4-py2.py3-none-any.whl\n",
            "Requirement already satisfied: tqdm in /usr/local/lib/python3.7/dist-packages (from keras-tuner) (4.41.1)\n",
            "Requirement already satisfied: requests in /usr/local/lib/python3.7/dist-packages (from keras-tuner) (2.23.0)\n",
            "Requirement already satisfied: scipy in /usr/local/lib/python3.7/dist-packages (from keras-tuner) (1.4.1)\n",
            "Requirement already satisfied: scikit-learn in /usr/local/lib/python3.7/dist-packages (from keras-tuner) (0.22.2.post1)\n",
            "Requirement already satisfied: pyparsing>=2.0.2 in /usr/local/lib/python3.7/dist-packages (from packaging->keras-tuner) (2.4.7)\n",
            "Requirement already satisfied: chardet<4,>=3.0.2 in /usr/local/lib/python3.7/dist-packages (from requests->keras-tuner) (3.0.4)\n",
            "Requirement already satisfied: urllib3!=1.25.0,!=1.25.1,<1.26,>=1.21.1 in /usr/local/lib/python3.7/dist-packages (from requests->keras-tuner) (1.24.3)\n",
            "Requirement already satisfied: certifi>=2017.4.17 in /usr/local/lib/python3.7/dist-packages (from requests->keras-tuner) (2020.12.5)\n",
            "Requirement already satisfied: idna<3,>=2.5 in /usr/local/lib/python3.7/dist-packages (from requests->keras-tuner) (2.10)\n",
            "Requirement already satisfied: joblib>=0.11 in /usr/local/lib/python3.7/dist-packages (from scikit-learn->keras-tuner) (1.0.1)\n",
            "Building wheels for collected packages: keras-tuner, terminaltables\n",
            "  Building wheel for keras-tuner (setup.py) ... \u001b[?25l\u001b[?25hdone\n",
            "  Created wheel for keras-tuner: filename=keras_tuner-1.0.2-cp37-none-any.whl size=78935 sha256=8e25ac6048bf3e4662b5c650884472052f8392ea53d0ed630a2335f34335b0b8\n",
            "  Stored in directory: /root/.cache/pip/wheels/bb/a1/8a/7c3de0efb3707a1701b36ebbfdbc4e67aedf6d4943a1f463d6\n",
            "  Building wheel for terminaltables (setup.py) ... \u001b[?25l\u001b[?25hdone\n",
            "  Created wheel for terminaltables: filename=terminaltables-3.1.0-cp37-none-any.whl size=15356 sha256=67ecc7f05460fe1ee67264b9c3d0113613f34dda5c0972111d9a651b19273196\n",
            "  Stored in directory: /root/.cache/pip/wheels/30/6b/50/6c75775b681fb36cdfac7f19799888ef9d8813aff9e379663e\n",
            "Successfully built keras-tuner terminaltables\n",
            "Installing collected packages: terminaltables, colorama, keras-tuner\n",
            "Successfully installed colorama-0.4.4 keras-tuner-1.0.2 terminaltables-3.1.0\n"
          ],
          "name": "stdout"
        }
      ]
    },
    {
      "cell_type": "code",
      "metadata": {
        "id": "0aAZsYfg8_WK"
      },
      "source": [
        "import time\n",
        "import numpy as np \n",
        "import matplotlib.pyplot as plt\n",
        "from importlib import reload \n",
        "from tqdm import tqdm\n",
        "\n",
        "import tensorflow as tf\n",
        "from tensorflow import keras\n",
        "from tensorflow.keras import Sequential\n",
        "from tensorflow.keras.layers import Dense, Dropout, Activation\n",
        "from keras.layers.normalization import BatchNormalization\n",
        "from tensorflow.keras import backend as K\n",
        "\n",
        "import kerastuner as kt\n",
        "from kerastuner.tuners.bayesian import BayesianOptimization\n",
        "from kerastuner.engine.hyperparameters import HyperParameters"
      ],
      "execution_count": 30,
      "outputs": []
    },
    {
      "cell_type": "code",
      "metadata": {
        "id": "nmG6bgX48_WL"
      },
      "source": [
        "def prepare_data(seed = 0, nRoutines = nValidation):\n",
        "    np.random.seed(seed)\n",
        "    yields_data = np.zeros([nRoutines,target_month])\n",
        "    swap_rate_data = np.zeros([nRoutines,target_month,len(swap_series),N])\n",
        "    swap_volume_data = np.zeros([nRoutines,target_month,len(swap_series),N])\n",
        "    for l in range(nRoutines):\n",
        "        Y=yc(hist_yc(index_yc))\n",
        "        for k in range(target_month):\n",
        "            yields_data[l,k] = Y.yields[0] \n",
        "            for ith, swap_maturity in enumerate(swap_series):\n",
        "                s = swap(Y,1,swap_maturity)\n",
        "                swap_rate_data[l,k,ith,k:] = s.fixed_leg[:N-k] \n",
        "                swap_volume_data[l,k,ith,k:] = s.fixed_volume[:N-k] \n",
        "            Y=yc(Y.yields+yc_scn_gen())\n",
        "    inputs_X = [yields_data, swap_rate_data, swap_volume_data]\n",
        "    inputs_Y = np.zeros([nRoutines]) + target_equity \n",
        "    return inputs_X, inputs_Y"
      ],
      "execution_count": 18,
      "outputs": []
    },
    {
      "cell_type": "code",
      "metadata": {
        "id": "tvzDl5nYC8KO"
      },
      "source": [
        "def build_model_tuner(hp):\n",
        "    # Network\n",
        "    Networks = []\n",
        "    for k in range(target_month):\n",
        "        n_output = swap_av[k]\n",
        "        if n_output > 0:\n",
        "          model_n = Sequential()\n",
        "          model_n.add(Dense(hp.Int('Dense_0', 10, 50, 10), input_shape=(7,)))\n",
        "          model_n.add(BatchNormalization())\n",
        "          model_n.add(Activation('relu'))\n",
        "\n",
        "          for i in range(hp.Int('Layers', 1, 3)):\n",
        "            model_n.add(Dense(hp.Int(f'Dense_{i+1}', 10, 50, 10)))\n",
        "            model_n.add(BatchNormalization())\n",
        "            model_n.add(Activation('relu'))\n",
        "\n",
        "          model_n.add(Dense(n_output))\n",
        "          model_n.add(BatchNormalization())\n",
        "          model_n.add(Activation('softmax'))\n",
        "\n",
        "          Networks.append(model_n)\n",
        "\n",
        "    yields_data = keras.Input(shape=(target_month)) \n",
        "    swap_rate_data = keras.Input(shape=(target_month,swap_num,N))\n",
        "    swap_volume_data = keras.Input(shape=(target_month,swap_num,N))\n",
        "    batch_size = tf.shape(yields_data)[0]\n",
        "    \n",
        "    A = tf.zeros(batch_size) + A0 \n",
        "    L = tf.zeros(batch_size) + L0\n",
        "    \n",
        "    fixed_cash_flows = tf.zeros([batch_size,N])\n",
        "    swap_volume = tf.zeros([batch_size,N])\n",
        "    \n",
        "    A_list = [None] * (target_month+1)\n",
        "    A_liq_list = [None] * target_month # Just to record if we break restriction \n",
        "    A_list[0] = A \n",
        "    cons_loss = tf.zeros(batch_size)\n",
        "    for k in range(target_month):\n",
        "        # Restriction loss\n",
        "        cons_loss += hp.Int('Const', 10, 100, 10) * tf.nn.relu(tf.nn.relu(swap_volume[:,k]) - 0.9 * A_list[k]) \n",
        "        \n",
        "        # Before rebalance \n",
        "        A_liq_list[k] = 0.9 * A_list[k] - swap_volume[:,k]\n",
        "        \n",
        "        info_list = [yields_data[:,k:k+1], \n",
        "                     swap_rate_data[:,k,:,k],\n",
        "                     fixed_cash_flows[:,k:k+1],\n",
        "                     swap_volume[:,k:k+1]\n",
        "                    ]            \n",
        "        info = tf.concat(info_list,axis = -1)\n",
        "        \n",
        "        if swap_av[k] > 0:\n",
        "            strategy = Networks[k](info) * tf.tile(A_liq_list[k][:,None],[1,swap_av[k]]) \n",
        "            fixed_cash_flows += tf.reduce_sum(swap_rate_data[:,k,:swap_av[k],:] * strategy[:,:,None], axis = 1)\n",
        "            swap_volume += tf.reduce_sum(swap_volume_data[:,k,:swap_av[k],:] * strategy[:,:,None], axis = 1) # re-valuation of swap\n",
        "        # Market update  \n",
        "        A_list[k+1] = A_list[k] + (A_list[k] - swap_volume[:,k])*(tf.exp(yields_data[:,k]/12) - 1) + fixed_cash_flows[:,k]\n",
        "    \n",
        "    E = A_list[-1] - L    \n",
        "    \n",
        "    inputs = [yields_data, swap_rate_data, swap_volume_data]\n",
        "    outputs = E + cons_loss \n",
        "    model = keras.Model(inputs = inputs, outputs = outputs)\n",
        "    \n",
        "    mse = tf.keras.losses.MeanSquaredError()\n",
        "    target_E = tf.zeros(batch_size) + target_equity\n",
        "    loss1 = mse(E,target_E)\n",
        "    model.add_loss(loss1)\n",
        "    \n",
        "    cons_loss_helper = tf.zeros(batch_size)\n",
        "    loss2 = mse(cons_loss,cons_loss_helper)\n",
        "    model.add_loss(loss2)\n",
        "    model.add_metric(loss2, name='restriction_loss')\n",
        "\n",
        "    optimizer = tf.keras.optimizers.Adam(learning_rate=0.1) # specify the optimizer \n",
        "    model.compile(optimizer=optimizer, loss=zeroloss) \n",
        "    \n",
        "    return model"
      ],
      "execution_count": 29,
      "outputs": []
    },
    {
      "cell_type": "code",
      "metadata": {
        "id": "_N8pxscAhWeo"
      },
      "source": [
        "swap_av = np.zeros(N)\n",
        "for maturity in swap_series:\n",
        "    diff = target_month - maturity\n",
        "    if diff >= 0:\n",
        "        swap_av[0:diff+11] += 1\n",
        "swap_av = swap_av.astype('int')"
      ],
      "execution_count": 20,
      "outputs": []
    },
    {
      "cell_type": "code",
      "metadata": {
        "id": "jSm16lr4hYpX"
      },
      "source": [
        "swap_av = np.zeros(N)\n",
        "swap_av[:target_month] += 4\n",
        "swap_av = swap_av.astype('int')"
      ],
      "execution_count": 21,
      "outputs": []
    },
    {
      "cell_type": "code",
      "metadata": {
        "id": "sZU84I2Y8_WM"
      },
      "source": [
        "inputs_X, inputs_Y = prepare_data()"
      ],
      "execution_count": 22,
      "outputs": []
    },
    {
      "cell_type": "code",
      "metadata": {
        "id": "pKYZYIc5fCJl"
      },
      "source": [
        "def zeroloss(y_true, y_predict):\n",
        "    return tf.reduce_sum(y_true*0)"
      ],
      "execution_count": 23,
      "outputs": []
    },
    {
      "cell_type": "code",
      "metadata": {
        "id": "pXzGDNUsI3JV"
      },
      "source": [
        "early_stopping_tuner = tf.keras.callbacks.EarlyStopping(monitor='loss', \n",
        "                                                        verbose=1,\n",
        "                                                        patience=5,\n",
        "                                                        mode='min',\n",
        "                                                        restore_best_weights=True)"
      ],
      "execution_count": 27,
      "outputs": []
    },
    {
      "cell_type": "code",
      "metadata": {
        "colab": {
          "base_uri": "https://localhost:8080/"
        },
        "id": "v44XJUp6I1Xm",
        "outputId": "6f5a101c-929c-4bfc-8c2d-6ae29025f999"
      },
      "source": [
        "\"\"\"tuner = kt.Hyperband(build_model_tuner,\n",
        "                     objective=kt.Objective('loss', direction='min'),\n",
        "                     max_epochs=30,\n",
        "                     factor=3,\n",
        "                     directory=f'{time.time()}'\n",
        "                     )\"\"\"\n",
        "\n",
        "tuner = BayesianOptimization(build_model_tuner,\n",
        "                             objective=kt.Objective('loss', direction='min'),\n",
        "                             max_trials=100,\n",
        "                             seed=12,\n",
        "                             directory=f'{time.time()}')\n",
        "\n",
        "tuner.search(inputs_X, \n",
        "             inputs_Y, \n",
        "             epochs=30, \n",
        "             callbacks=[early_stopping_tuner])"
      ],
      "execution_count": null,
      "outputs": [
        {
          "output_type": "stream",
          "text": [
            "Trial 1 Complete [00h 11m 52s]\n",
            "loss: 1.5327612161636353\n",
            "\n",
            "Best loss So Far: 1.5327612161636353\n",
            "Total elapsed time: 00h 11m 52s\n",
            "\n",
            "Search: Running Trial #2\n",
            "\n",
            "Hyperparameter    |Value             |Best Value So Far \n",
            "Dense_0           |20                |30                \n",
            "Layers            |2                 |2                 \n",
            "Dense_1           |20                |10                \n",
            "Const             |70                |100               \n",
            "Dense_2           |50                |10                \n",
            "\n",
            "Epoch 1/30\n",
            "32/32 [==============================] - 196s 442ms/step - loss: 6.5946 - restriction_loss: 0.0000e+00\n",
            "Epoch 2/30\n",
            "32/32 [==============================] - 14s 441ms/step - loss: 2.4669 - restriction_loss: 0.0000e+00\n",
            "Epoch 3/30\n",
            "32/32 [==============================] - 14s 440ms/step - loss: 2.1037 - restriction_loss: 0.0000e+00\n",
            "Epoch 4/30\n",
            "32/32 [==============================] - 14s 443ms/step - loss: 1.9589 - restriction_loss: 0.0000e+00\n",
            "Epoch 5/30\n",
            "32/32 [==============================] - 14s 441ms/step - loss: 1.8003 - restriction_loss: 0.0000e+00\n",
            "Epoch 6/30\n",
            "32/32 [==============================] - 14s 440ms/step - loss: 1.7150 - restriction_loss: 0.0000e+00\n",
            "Epoch 7/30\n",
            "32/32 [==============================] - 14s 439ms/step - loss: 1.7409 - restriction_loss: 0.0000e+00\n",
            "Epoch 8/30\n",
            "32/32 [==============================] - 14s 439ms/step - loss: 1.8356 - restriction_loss: 0.0000e+00\n",
            "Epoch 9/30\n",
            "32/32 [==============================] - 14s 446ms/step - loss: 1.5947 - restriction_loss: 0.0000e+00\n",
            "Epoch 10/30\n",
            "32/32 [==============================] - 14s 447ms/step - loss: 1.6880 - restriction_loss: 0.0000e+00\n",
            "Epoch 11/30\n",
            "32/32 [==============================] - 14s 438ms/step - loss: 1.7446 - restriction_loss: 0.0000e+00\n",
            "Epoch 12/30\n",
            "32/32 [==============================] - 14s 440ms/step - loss: 1.5462 - restriction_loss: 0.0000e+00\n",
            "Epoch 13/30\n",
            "32/32 [==============================] - 14s 441ms/step - loss: 1.6765 - restriction_loss: 0.0000e+00\n",
            "Epoch 14/30\n",
            "29/32 [==========================>...] - ETA: 1s - loss: 1.5925 - restriction_loss: 0.0000e+00"
          ],
          "name": "stdout"
        }
      ]
    },
    {
      "cell_type": "code",
      "metadata": {
        "id": "rW8ejPdrJk2c"
      },
      "source": [
        "# Show a summary of the search\n",
        "tuner.results_summary()\n",
        "\n",
        "# Retrieve the best model.\n",
        "best_hps = tuner.get_best_hyperparameters(num_models=1)[0]"
      ],
      "execution_count": null,
      "outputs": []
    },
    {
      "cell_type": "markdown",
      "metadata": {
        "id": "dmiDBy8dLHUI"
      },
      "source": [
        "# Testing"
      ]
    },
    {
      "cell_type": "code",
      "metadata": {
        "id": "5jlPwxcp8_WN"
      },
      "source": [
        "inputs_X_test, inputs_Y_test = prepare_data(2021)"
      ],
      "execution_count": 24,
      "outputs": []
    },
    {
      "cell_type": "code",
      "metadata": {
        "id": "_8nrD1CWOBLe"
      },
      "source": [
        "def build_network(n_input, n_hidden, time_steps):\n",
        "# architecture is the same for all networks\n",
        "    # Network\n",
        "    Networks = []\n",
        "    for k in range(target_month):\n",
        "        n_output = swap_av[k]\n",
        "        if n_output > 0:\n",
        "          model_n = Sequential()\n",
        "          model_n.add(Dense(best_hps['Dense_0'], input_shape=(7,)))\n",
        "          model_n.add(BatchNormalization())\n",
        "          model_n.add(Activation('relu'))\n",
        "\n",
        "          for i in range(best_hps['Layers']):\n",
        "            model_n.add(Dense(best_hps[f'Dense_{i+1}'], 10, 50, 10)))\n",
        "            model_n.add(BatchNormalization())\n",
        "            model_n.add(Activation('relu'))\n",
        "\n",
        "          model_n.add(Dense(n_output))\n",
        "          model_n.add(BatchNormalization())\n",
        "          model_n.add(Activation('softmax'))\n",
        "\n",
        "          Networks.append(model_n)\n",
        "      return Networks"
      ],
      "execution_count": null,
      "outputs": []
    },
    {
      "cell_type": "code",
      "metadata": {
        "id": "1Z50APkZO-N1"
      },
      "source": [
        "def build_graph():\n",
        "    yields_data = keras.Input(shape=(target_month)) \n",
        "    swap_rate_data = keras.Input(shape=(target_month,swap_num,N))\n",
        "    swap_volume_data = keras.Input(shape=(target_month,swap_num,N))\n",
        "    batch_size = tf.shape(yields_data)[0]\n",
        "    \n",
        "    A = tf.zeros(batch_size) + A0 \n",
        "    L = tf.zeros(batch_size) + L0\n",
        "    \n",
        "    fixed_cash_flows = tf.zeros([batch_size,N])\n",
        "    swap_volume = tf.zeros([batch_size,N])\n",
        "    \n",
        "    A_list = [None] * (target_month+1)\n",
        "    A_liq_list = [None] * target_month # Just to record if we break restriction \n",
        "    A_list[0] = A \n",
        "    cons_loss = tf.zeros(batch_size)\n",
        "    for k in range(target_month):\n",
        "        # Restriction loss\n",
        "        cons_loss += 100 * tf.nn.relu(tf.nn.relu(swap_volume[:,k]) - 0.9 * A_list[k]) \n",
        "        \n",
        "        # Before rebalance \n",
        "        A_liq_list[k] = 0.9 * A_list[k] - swap_volume[:,k]\n",
        "        \n",
        "        info_list = [yields_data[:,k:k+1], \n",
        "                     swap_rate_data[:,k,:,k],\n",
        "                     fixed_cash_flows[:,k:k+1],\n",
        "                     swap_volume[:,k:k+1]\n",
        "                    ]            \n",
        "        info = tf.concat(info_list,axis = -1)\n",
        "        \n",
        "        if swap_av[k] > 0:\n",
        "            strategy = Networks[k](info) * tf.tile(A_liq_list[k][:,None],[1,swap_av[k]]) \n",
        "            fixed_cash_flows += tf.reduce_sum(swap_rate_data[:,k,:swap_av[k],:] * strategy[:,:,None], axis = 1)\n",
        "            swap_volume += tf.reduce_sum(swap_volume_data[:,k,:swap_av[k],:] * strategy[:,:,None], axis = 1) # re-valuation of swap\n",
        "        # Market update  \n",
        "        A_list[k+1] = A_list[k] + (A_list[k] - swap_volume[:,k])*(tf.exp(yields_data[:,k]/12) - 1) + fixed_cash_flows[:,k]\n",
        "    \n",
        "    E = A_list[-1] - L    \n",
        "    \n",
        "    inputs = [yields_data, swap_rate_data, swap_volume_data]\n",
        "    outputs = E + cons_loss \n",
        "    model = keras.Model(inputs = inputs, outputs = outputs)\n",
        "    \n",
        "    mse = tf.keras.losses.MeanSquaredError()\n",
        "    target_E = tf.zeros(batch_size) + target_equity\n",
        "    loss1 = mse(E,target_E)\n",
        "    model.add_loss(loss1)\n",
        "    \n",
        "    \n",
        "    cons_loss_helper = tf.zeros(batch_size)\n",
        "    loss2 = mse(cons_loss,cons_loss_helper)\n",
        "    model.add_loss(loss2)\n",
        "    model.add_metric(loss2, name='restriction_loss')\n",
        "    \n",
        "    return model\n",
        "\n",
        "model = build_graph()"
      ],
      "execution_count": null,
      "outputs": []
    },
    {
      "cell_type": "code",
      "metadata": {
        "id": "jkWMTJO_8_WN"
      },
      "source": [
        "HOLD = []\n",
        "HOLDprop = []\n",
        "yields_data, swap_rate_data, swap_volume_data = inputs_X_test\n",
        "yields_data = yields_data.astype('float32')\n",
        "swap_rate_data = swap_rate_data.astype('float32')\n",
        "swap_volume_data = swap_volume_data.astype('float32')\n",
        "\n",
        "batch_size = tf.shape(yields_data)[0]\n",
        "    \n",
        "A = tf.zeros(batch_size) + A0 \n",
        "L = tf.zeros(batch_size) + L0\n",
        "\n",
        "fixed_cash_flows = tf.zeros([batch_size,N])\n",
        "swap_volume = tf.zeros([batch_size,N])\n",
        "\n",
        "A_list = [None] * (target_month+1)\n",
        "A_liq_list = [None] * target_month # Just to record if we break restriction \n",
        "A_list[0] = A \n",
        "cons_loss = tf.zeros(batch_size)\n",
        "for k in range(target_month):\n",
        "    # Restriction loss\n",
        "    cons_loss += 10 * tf.nn.relu(tf.nn.relu(swap_volume[:,k]) - 0.9 * A_list[k]) \n",
        "\n",
        "    # Before rebalance \n",
        "    A_liq_list[k] = 0.9 * A_list[k] - swap_volume[:,k]\n",
        "\n",
        "    info_list = [yields_data[:,k:k+1], \n",
        "                 swap_rate_data[:,k,:,k],\n",
        "                 fixed_cash_flows[:,k:k+1],\n",
        "                 swap_volume[:,k:k+1]\n",
        "                ]            \n",
        "    info = tf.concat(info_list,axis = -1)\n",
        "\n",
        "    if swap_av[k] > 0:\n",
        "        strategy = Networks[k](info) * tf.tile(A_liq_list[k][:,None],[1,swap_av[k]]) \n",
        "        HOLDprop.append(Networks[k](info))\n",
        "        HOLD.append(tf.reduce_sum(strategy,axis = -1))\n",
        "        fixed_cash_flows += tf.reduce_sum(swap_rate_data[:,k,:swap_av[k],:] * strategy[:,:,None], axis = 1)\n",
        "        swap_volume += tf.reduce_sum(swap_volume_data[:,k,:swap_av[k],:] * strategy[:,:,None], axis = 1) # re-valuation of swap\n",
        "    # Market update  \n",
        "    A_list[k+1] = A_list[k] + (A_list[k] - swap_volume[:,k])*(tf.exp(yields_data[:,k]/12) - 1) + fixed_cash_flows[:,k]\n",
        "\n",
        "E = A_list[-1] - L"
      ],
      "execution_count": null,
      "outputs": []
    },
    {
      "cell_type": "code",
      "metadata": {
        "id": "9gGEDxeB8_WN"
      },
      "source": [
        "plt.figure(figsize = [12,5])\n",
        "plt.grid()\n",
        "plt.hist(E.numpy(),bins=100,density=True,edgecolor='black',alpha=0.7)\n",
        "# plt.xlim([50, 90])\n",
        "plt.title('Empirical Probability Density Function')\n",
        "plt.xlabel('Equity')\n",
        "plt.show()"
      ],
      "execution_count": null,
      "outputs": []
    }
  ]
}