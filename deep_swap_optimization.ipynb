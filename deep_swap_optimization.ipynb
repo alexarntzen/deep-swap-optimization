{
 "cells": [
  {
   "cell_type": "markdown",
   "metadata": {},
   "source": [
    "## Interest rate simulation code"
   ]
  },
  {
   "cell_type": "code",
   "execution_count": null,
   "metadata": {
    "pycharm": {
     "name": "#%%\n"
    }
   },
   "outputs": [],
   "source": [
    "import tensorflow as tf\n",
    "from keras.models import Sequential\n",
    "from keras.layers import Input, Dense, Conv2D, Concatenate, Dropout, Subtract, \\\n",
    "                        Flatten, MaxPooling2D, Multiply, Lambda, Add, Dot, RNN\n",
    "from keras.backend import constant\n",
    "from keras import optimizers\n",
    "from keras.engine.topology import Layer\n",
    "from keras.models import Model\n",
    "from keras.layers import Input\n",
    "from keras import initializers\n",
    "from keras.constraints import max_norm\n",
    "from keras.utils import plot_model\n",
    "import keras.backend as K\n",
    "import numpy as np\n",
    "import matplotlib.pyplot as plt\n",
    "import pandas as pd\n",
    "import copy"
   ]
  },
  {
   "cell_type": "code",
   "execution_count": null,
   "metadata": {
    "pycharm": {
     "name": "#%%\n"
    }
   },
   "outputs": [],
   "source": [
    "# TIME GRID\n",
    "\n",
    "N=12*20\n",
    "time_grid_plain=np.linspace(0,N,N+1)\n",
    "time_grid_dcc=time_grid_plain/12 # day-count-convention\n"
   ]
  },
  {
   "cell_type": "code",
   "execution_count": null,
   "metadata": {},
   "outputs": [],
   "source": [
    "# YIELD CURVE PARAMETERS\n",
    "\n",
    "index_yc=2135 # 31-Dec-2012\n",
    "\n",
    "# YIELD CURVE DYNAMICS\n",
    "\n",
    "# data import\n",
    "path=''\n",
    "ECB=pd.read_csv(path+'201231_ECB.csv')\n",
    "\n",
    "# zero-coupon bond prices for maturity T in years and Svensson parameter z\n",
    "def ZCB_prices(T,z):\n",
    "    return np.exp(-1/100*(z[0]*T-(z[1]/z[4]+z[2]/z[4]**2)*(np.exp(-z[4]*T)-1)-\n",
    "        z[2]/z[4]*T*np.exp(-z[4]*T)-z[3]/z[5]*T*np.exp(-z[5]*T)-z[3]/z[5]**2*\n",
    "        (np.exp(-z[5]*T)-1)))\n",
    "\n",
    "# historical discount factors for a time grid\n",
    "vec_ZCB_prices=np.vectorize(ZCB_prices,excluded=[1])\n",
    "\n",
    "# yields for historical day i\n",
    "def hist_yc(i,grid=time_grid_dcc[1:],rating='AAA'):\n",
    "    shift=0 if rating=='AAA' else 6\n",
    "    z=[ECB.loc[i,:][1+shift],ECB.loc[i,:][2+shift],ECB.loc[i,:][3+shift]/\\\n",
    "        ECB.loc[i,:][5+shift],ECB.loc[i,:][4+shift]/ECB.loc[i,:][6+shift],1/\\\n",
    "        ECB.loc[i,:][5+shift],1/ECB.loc[i,:][6+shift]]\n",
    "    return np.divide(-np.log(vec_ZCB_prices(grid,z)),grid)\n",
    "\n",
    "# collection of historical yields\n",
    "def vec_hist_yc(i,grid=time_grid_dcc[1:],rating='AAA'):\n",
    "    output=hist_yc(i[0],grid,rating)\n",
    "    for j in i[1:]:\n",
    "        output=np.vstack((output,hist_yc(j,grid,rating)))\n",
    "    return output\n",
    "\n",
    "# transform yields into discount factors\n",
    "def discounting(yields,terms):\n",
    "    return np.exp(-yields*terms)\n",
    "\n",
    "# PCA\n",
    "hist_increments=vec_hist_yc(range(1,index_yc))-vec_hist_yc(range(0,index_yc-1))\n",
    "PCA_mu=np.mean(hist_increments,axis=0)\n",
    "PCA_Q=np.cov(hist_increments,rowvar=False)\n",
    "PCA_lambda,PCA_Lambda=np.linalg.eig(PCA_Q)\n",
    "PCA_lambda,PCA_Lambda=np.real(PCA_lambda),np.real(PCA_Lambda)\n",
    "#print(np.cumsum(PCA_lambda)[:10]/np.sum(PCA_lambda))\n",
    "\n",
    "# generate a new yield curve increment\n",
    "def yc_scn_gen(n=3,PCA_mu=PCA_mu,PCA_Lambda=PCA_Lambda,PCA_lambda=PCA_lambda):\n",
    "    return 22*PCA_mu+np.matmul(PCA_Lambda[:,:n],np.random.multivariate_normal(\\\n",
    "        np.zeros(n),np.diag(22*PCA_lambda[:n])).reshape(n,1)).flatten()\n",
    "        \n",
    "\n",
    "\n",
    "\n",
    "# YIELD CURVE OBJECTS\n",
    "\n",
    "class yc:\n",
    "    def __init__(self,yields):\n",
    "        self.yields=yields\n",
    "        self.dfs=discounting(yields,time_grid_dcc[1:])\n",
    "\n",
    "    def cpn(self,tenor,maturity):\n",
    "        return 12/tenor*(1-self.dfs[maturity-1])/np.sum(self.dfs[np.arange(tenor,maturity+tenor,tenor)-1])\n",
    " \n",
    "        \n",
    "    def pv(self,cash_flows):\n",
    "        return np.dot(self.dfs,cash_flows)\n",
    "    \n",
    "    def update(self,new_yields):\n",
    "        self.yields=new_yields\n",
    "        self.dfs=discounting(new_yields,time_grid_dcc[1:])\n"
   ]
  },
  {
   "cell_type": "code",
   "execution_count": null,
   "metadata": {},
   "outputs": [],
   "source": [
    "# generate a new yield curve increment\n",
    "def yc_scn_gen2(n=3,PCA_mu=PCA_mu,PCA_Lambda=PCA_Lambda,PCA_lambda=PCA_lambda):\n",
    "    return 22*PCA_mu+np.matmul(PCA_Lambda[:,:n],np.random.multivariate_normal(\\\n",
    "        np.zeros(n),np.diag(22*PCA_lambda[:n])).reshape(n,1)).flatten()"
   ]
  },
  {
   "cell_type": "markdown",
   "metadata": {},
   "source": [
    "Swaps"
   ]
  },
  {
   "cell_type": "code",
   "execution_count": null,
   "metadata": {},
   "outputs": [],
   "source": [
    "\n",
    "# we concern only vanilla swaps\n",
    "#  One party pays floating interest, LIBOR \n",
    "#  Other party pays the fixed rate, does not worry about movements \n",
    "class swap:\n",
    "    # exchange floating over tenor\n",
    "    # one party pays floating \n",
    "    # other pays fixed rate every month \n",
    "    def __init__(self,yc,nominal,maturity,tenor=1): #tenor=1\n",
    "        self.yc=yc\n",
    "        self.nominal=nominal #how much money is involved\n",
    "        self.maturity=maturity # maybe need to be a\n",
    "        self.montly_cost = yc.cpn(1,self.maturity)\n",
    "        self.fixed_leg=np.append(np.repeat(self.montly_cost,\n",
    "            self.maturity),np.repeat(np.zeros(1),N-self.maturity))/12 #*tenor\n",
    "        # \\the fixed cost\n",
    "        # cash \n",
    "\n",
    "    def update(self,steps=1):\n",
    "        self.maturity-=steps\n",
    "        # maybe not use, how is it adjusted over roll forward.\n",
    "        self.fixed_leg=np.append(self.fixed_leg[steps:],np.zeros(steps))\n",
    "\n",
    "\n",
    "def swap_indicator(maturity):\n",
    "    # show when do payments due in more general swaps.\n",
    "    return np.reshape(np.append(np.ones(maturity),np.zeros(N-maturity)),(1,N))\n",
    "\n",
    "#Our bank will decide to sell og get a swap. \n",
    "# Task of deep hedging: Find a swap float to stable"
   ]
  },
  {
   "cell_type": "markdown",
   "metadata": {},
   "source": [
    "## Objective"
   ]
  },
  {
   "cell_type": "code",
   "execution_count": null,
   "metadata": {
    "pycharm": {
     "name": "#%%\n"
    }
   },
   "outputs": [],
   "source": [
    "# Possible investements\n",
    "swap_series=[24,60,120,240]\n",
    "\n",
    "# BALANCE SHEET PARAMETERS\n",
    "# assets\n",
    "A0=100\n",
    "# liabilities (constant deposits)\n",
    "L0=50\n",
    "# control the total swap volume\n",
    "penalty=0.1\n",
    "\n",
    "# OPTIMISATION PARAMETERS\n",
    "target_month=120\n",
    "# loss function\n",
    "target_equity=70\n",
    "# size of training and validation set\n",
    "nScenarios=10**3\n",
    "nValidation=10**3\n",
    "# The four maturities we can go into at any time\n"
   ]
  },
  {
   "cell_type": "markdown",
   "metadata": {},
   "source": [
    "## Do nothing bank (benchmark):"
   ]
  },
  {
   "cell_type": "code",
   "execution_count": null,
   "metadata": {},
   "outputs": [],
   "source": [
    "# Over the next 10 year i do nothing \n",
    "# Assets will be componded with the montly rate \n",
    "# Liabilities will be constant \n",
    "\n",
    "def benchmark(nRoutines=nValidation):\n",
    "    output=np.zeros(nRoutines)\n",
    "    for l in range(nRoutines):\n",
    "        # yield curve\n",
    "        Y=yc(hist_yc(index_yc))\n",
    "        # assets\n",
    "        A_pre=A0\n",
    "        A_post=A0\n",
    "        L=L0\n",
    "        E=(A0-L0)\n",
    "        for k in range(target_month):\n",
    "            # market updates\n",
    "            A_pre*=np.exp(Y.yields[0]/12)\n",
    "            Y=yc(Y.yields+yc_scn_gen())\n",
    "            A_post=A_pre\n",
    "            L=L\n",
    "            E=A_post-L\n",
    "        output[l]=E\n",
    "    return output"
   ]
  },
  {
   "cell_type": "code",
   "execution_count": null,
   "metadata": {},
   "outputs": [],
   "source": [
    "#test\n",
    "Y=yc(hist_yc(index_yc))\n",
    "np.exp(Y.yields[0]/12)-1, Y.cpn(1,1)/12"
   ]
  },
  {
   "cell_type": "markdown",
   "metadata": {},
   "source": [
    "## Deep portifolio optimization "
   ]
  },
  {
   "cell_type": "code",
   "execution_count": null,
   "metadata": {},
   "outputs": [],
   "source": [
    "# netwok parameters\n",
    "network_params = {\"n_hidden_layers\": 2, \"neurons\": 32}\n",
    "Ktrain = nValidation\n",
    "Ktest = nValidation\n"
   ]
  },
  {
   "cell_type": "code",
   "execution_count": null,
   "metadata": {},
   "outputs": [],
   "source": [
    "class SwapDecisionCell(Layer):\n",
    "    def __init__(self, swap_series, n_hidden_layers, neurons, months, **kwargs):\n",
    "        self.months = months\n",
    "        self.max_swap = max(swap_series)\n",
    "        self.swap_series = swap_series\n",
    "\n",
    "        self.input_dimension = (\n",
    "            1  # includes equity , + len(swap_series) with swap prices\n",
    "        )\n",
    "\n",
    "        # Number of output dimensions m\n",
    "        # strategy are all the possible strategies exept 1 moth wich is the rest\n",
    "        self.output_dimension = len(swap_series)\n",
    "        # Number of neurons per layer\n",
    "        self.neurons = neurons\n",
    "        # Number of hidden layers\n",
    "        self.n_hidden_layers = n_hidden_layers\n",
    "        # Activation function\n",
    "        self.activation = \"tanh\"  # might shange this later\n",
    "\n",
    "        self.input_layer = Dense(\n",
    "            self.neurons,\n",
    "            activation=self.activation,\n",
    "            trainable=True,\n",
    "            kernel_initializer=initializers.RandomNormal(\n",
    "                0, 1\n",
    "            ),  # kernel_initializer='random_normal',\n",
    "            bias_initializer=\"random_normal\",\n",
    "            name=\"input\",\n",
    "        )\n",
    "        self.hidden_layers = [\n",
    "            Dense(\n",
    "                neurons,\n",
    "                activation=self.activation,\n",
    "                trainable=True,\n",
    "                kernel_initializer=initializers.RandomNormal(\n",
    "                    0, 1\n",
    "                ),  # kernel_initializer='random_normal',\n",
    "                bias_initializer=\"random_normal\",\n",
    "                name=f\"hidden_{i}\",\n",
    "            )\n",
    "            for i in range(n_hidden_layers)\n",
    "        ]\n",
    "\n",
    "        self.output_layer = Dense(\n",
    "            self.output_dimension,\n",
    "            activation=\"linear\",\n",
    "            trainable=True,\n",
    "            kernel_initializer=initializers.RandomNormal(\n",
    "                0, 0.1\n",
    "            ),  # kernel_initializer='random_normal',\n",
    "            bias_initializer=\"random_normal\",\n",
    "            name=\"output\",\n",
    "        )\n",
    "        # states are: equity, month, fixed_cash_flows and swap_volume\n",
    "        self.state_size = [\n",
    "            1,\n",
    "            tf.TensorShape(\n",
    "                [self.max_swap]\n",
    "            ),  # + max(swap_series) is a hack so that we allways can buy the swaps we want\n",
    "            tf.TensorShape([self.max_swap]),\n",
    "        ]\n",
    "\n",
    "        # For now equity and swap wolume for each timestep\n",
    "        self.output_size = [1, 1]\n",
    "\n",
    "        super(SwapDecisionCell, self).__init__(**kwargs)\n",
    "\n",
    "    def call(self, inputs, states):\n",
    "        # inputs should be in [(batch, input_1), (batch, input_2, input_3)]\n",
    "        # state should be in shape [(batch, unit_1), (batch, unit_2, unit_3)]\n",
    "\n",
    "        ############\n",
    "        #  Decicion step: time = t\n",
    "        ############\n",
    "        equity, fixed_cash_flows, swap_volume = states\n",
    "        # there is probably some better word than current rate\n",
    "        # TODO: incorporate prices here? with Concatenate\n",
    "        swap_rates, current_rate = inputs\n",
    "        strategy = self.input_layer(swap_rates)\n",
    "        for layer in self.hidden_layers:\n",
    "            strategy = layer(strategy)\n",
    "        strategy = self.output_layer(strategy)\n",
    "\n",
    "        # Update with our strategy\n",
    "        for s, swap_length in enumerate(swap_series):\n",
    "            zeros = (\n",
    "                tf.tile(strategy[:, s : s + 1], [1, self.max_swap - swap_length]) * 0\n",
    "            )\n",
    "            swaps = tf.tile(strategy[:, s : s + 1], [1, swap_length])\n",
    "            new_swap_volume_s = tf.concat([swaps, zeros], 1)\n",
    "\n",
    "            swap_volume += new_swap_volume_s\n",
    "            fixed_cash_flows += new_swap_volume_s * swap_rates[:, s : s + 1]\n",
    "\n",
    "        #############\n",
    "        #  Result step:  time = t + 1\n",
    "        #############\n",
    "\n",
    "        # the money in the bank gets interst and has to pay interest on the swaps\n",
    "        equity += (\n",
    "            (equity - swap_volume[:, 0:1]) * tf.math.exp(current_rate / 12)\n",
    "            - equity\n",
    "            - swap_volume[:, 0:1]\n",
    "        )\n",
    "\n",
    "        # Loses all equity that it used over swap_volume, i know very strict\n",
    "        equity -= tf.maximum(0.0, equity * 0.9 - swap_volume[:, 0:1])\n",
    "\n",
    "        # the bank gets cash from the swaps\n",
    "        equity += fixed_cash_flows[:, 0:1]\n",
    "        output = (equity, swap_volume[:, 0:1])\n",
    "\n",
    "        # update the swap to reflect time has passed\n",
    "        swap_volume = tf.concat([swap_volume[:, 1:], 0 * swap_volume[:, 0:1]], 1)\n",
    "        fixed_cash_flows = tf.concat(\n",
    "            [fixed_cash_flows[:, 1:], 0 * fixed_cash_flows[:, 0:1]], 1\n",
    "        )\n",
    "\n",
    "        new_states = (equity, fixed_cash_flows, swap_volume)\n",
    "\n",
    "        return output, new_states\n"
   ]
  },
  {
   "cell_type": "code",
   "execution_count": null,
   "metadata": {},
   "outputs": [],
   "source": [
    "# Define network\n",
    "longest_swap = max(swap_series)\n",
    "inital_equtiy = Input((1,))\n",
    "inital_fixed_cash_flows = Input((longest_swap,))\n",
    "intial_swap_volume = Input((longest_swap,))\n",
    "\n",
    "initial_states = [inital_equtiy, inital_fixed_cash_flows, intial_swap_volume]\n",
    "\n",
    "cell = SwapDecisionCell(swap_series=swap_series, months=target_month, **network_params)\n",
    "rnn_bank_model = RNN(cell)\n",
    "input_swap_rates = Input(shape=(None, 4))\n",
    "input_current_rate = Input(shape=(None, 1))\n",
    "outputs = rnn_bank_model((input_swap_rates, input_current_rate))\n",
    "bank_model = Model([input_swap_rates, input_current_rate], outputs)\n"
   ]
  },
  {
   "cell_type": "code",
   "execution_count": null,
   "metadata": {},
   "outputs": [],
   "source": [
    "def get_swap_rate_array(swap_series, sets):\n",
    "    months = max(swap_series)\n",
    "    yealds_start = hist_yc(index_yc)\n",
    "    swap_rate_array = np.zeros((sets, months, len(swap_series)))\n",
    "    for k in range(sets):\n",
    "        current_yealds = yealds_start\n",
    "        for m in range(months):\n",
    "            for s, swap_length in enumerate(swap_series):\n",
    "                # Not completly sure if this is calculated correctly\n",
    "                swap_rate_array[k][m][s] = yc(current_yealds).cpn(1, swap_length) / 12\n",
    "            current_yealds += yc_scn_gen()\n",
    "    return swap_rate_array\n",
    "\n",
    "\n",
    "def get_current_rate_array(months, sets):\n",
    "    yealds_start = hist_yc(index_yc)\n",
    "    current_rate_array = np.zeros((sets, months, 1))\n",
    "    for k in range(sets):\n",
    "        current_yealds = yealds_start\n",
    "        for m in range(months):\n",
    "            # Not completly sure if this is calculated correctly\n",
    "            current_rate_array[k][m] = current_yealds[0]\n",
    "            current_yealds += yc_scn_gen()\n",
    "    return swap_rate_array\n"
   ]
  },
  {
   "cell_type": "code",
   "execution_count": null,
   "metadata": {},
   "outputs": [],
   "source": [
    "Ktrain = 100\n",
    "# training data\n",
    "\n",
    "# inital [equity, fixed_cash_flows, _swap_volume]\n",
    "inital_state = [\n",
    "    [(A0 - L0) * np.ones((Ktrain, 1))],\n",
    "    [np.zeros((Ktrain, longest_swap))],\n",
    "    [np.zeros((Ktrain, longest_swap))],\n",
    "]\n",
    "# swap rates at each time\n",
    "inputs = [\n",
    "    get_swap_rate_array(swap_series, Ktrain),\n",
    "    get_yealds_array(longest_swap, Ktrain),\n",
    "]\n",
    "\n",
    "xtrain = inputs  # + inital_state\n",
    "ytrain = [np.zeros((Ktrain, 1)), np.zeros((Ktrain, 1))]\n"
   ]
  },
  {
   "cell_type": "code",
   "execution_count": null,
   "metadata": {},
   "outputs": [],
   "source": [
    "# utility function\n",
    "def u(x):\n",
    "    pass\n",
    "\n",
    "# loss function      \n",
    "def custom_loss(y_true,y_pred):\n",
    "    return K.mean((y_pred[0]-target_equity)**2 )"
   ]
  },
  {
   "cell_type": "code",
   "execution_count": null,
   "metadata": {},
   "outputs": [],
   "source": [
    "adam=optimizers.Adam(lr=0.01)\n",
    "bank_model.compile(optimizer=adam,loss=custom_loss)"
   ]
  },
  {
   "cell_type": "code",
   "execution_count": null,
   "metadata": {},
   "outputs": [],
   "source": [
    "#bank_model.summary()\n",
    "inital_equtiy"
   ]
  },
  {
   "cell_type": "code",
   "execution_count": null,
   "metadata": {
    "tags": []
   },
   "outputs": [],
   "source": [
    "for i in range(1):\n",
    "    bank_model.fit(x=xtrain,y=ytrain, epochs=20,verbose=True,batch_size=100)"
   ]
  },
  {
   "cell_type": "code",
   "execution_count": null,
   "metadata": {},
   "outputs": [],
   "source": [
    "# generate xtest is not done yet\n"
   ]
  },
  {
   "cell_type": "code",
   "execution_count": null,
   "metadata": {},
   "outputs": [],
   "source": [
    "equities_nn = bank_model.predict(xtrain)\n",
    "equities_nn[0].shape"
   ]
  },
  {
   "cell_type": "code",
   "execution_count": null,
   "metadata": {},
   "outputs": [],
   "source": [
    "plt.hist(equities_nn,bins=100,density=True,edgecolor='black',alpha=0.7)\n",
    "plt.title('Empirical Probability Density Function NN')\n",
    "plt.xlabel('Equity')\n",
    "plt.show()"
   ]
  },
  {
   "cell_type": "code",
   "execution_count": null,
   "metadata": {},
   "outputs": [],
   "source": [
    "plt.hist(benchmark(),bins=100,density=True,edgecolor='black',alpha=0.7)\n",
    "plt.title('Empirical Probability Density Function benchmark')\n",
    "plt.xlabel('Equity')\n",
    "plt.show()"
   ]
  },
  {
   "cell_type": "code",
   "execution_count": null,
   "metadata": {},
   "outputs": [],
   "source": []
  }
 ],
 "metadata": {
  "kernelspec": {
   "display_name": "Python 3",
   "language": "python",
   "name": "python3"
  },
  "language_info": {
   "codemirror_mode": {
    "name": "ipython",
    "version": 3
   },
   "file_extension": ".py",
   "mimetype": "text/x-python",
   "name": "python",
   "nbconvert_exporter": "python",
   "pygments_lexer": "ipython3",
   "version": "3.8.8"
  }
 },
 "nbformat": 4,
 "nbformat_minor": 2
}
